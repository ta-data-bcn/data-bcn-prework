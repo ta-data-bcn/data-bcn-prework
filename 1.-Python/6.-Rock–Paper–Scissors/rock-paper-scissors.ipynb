{
 "cells": [
  {
   "cell_type": "markdown",
   "metadata": {},
   "source": [
    "<img src=\"https://bit.ly/2VnXWr2\" width=\"100\" align=\"left\">"
   ]
  },
  {
   "cell_type": "markdown",
   "metadata": {},
   "source": [
    "# Rock, Paper & Scissors\n",
    "\n",
    "Let's play the famous game against our computer. You can check the rules [here](https://en.wikipedia.org/wiki/Rock%E2%80%93paper%E2%80%93scissors). \n",
    "\n",
    "## Task\n",
    "Create a program that imitates the playability of the well known game of rock, paper, scissors. Follow the guidelines provided.\n",
    "\n",
    "## Tools\n",
    "1. Loop: **for/while**\n",
    "2. Functions: **input(), print()...**\n",
    "3. Conditional statements: **if, elif, else**\n",
    "4. Definition of functions. Modular programming\n",
    "5. Import modules\n",
    "\n",
    "**To solve this challenge, the use of functions is recommended.**\n",
    "\n",
    "#### 1. Import the choice function of the random module."
   ]
  },
  {
   "cell_type": "code",
   "execution_count": 1,
   "metadata": {},
   "outputs": [],
   "source": [
    "from random import choice"
   ]
  },
  {
   "cell_type": "markdown",
   "metadata": {},
   "source": [
    "#### 2. Create a list that includes the 3 possible gesture options of the game: 'rock', 'paper' or 'scissors'. Store the list in a variable called `gestures`."
   ]
  },
  {
   "cell_type": "code",
   "execution_count": 2,
   "metadata": {},
   "outputs": [],
   "source": [
    "gestures = [\"rock\", \"paper\", \"scissors\"]"
   ]
  },
  {
   "cell_type": "markdown",
   "metadata": {},
   "source": [
    "#### 3. Create a variable called `n_rounds` to store the maximum number of rounds to play in a game. \n",
    "Remember that the number of rounds must be odd: 1, 3, 5, ..."
   ]
  },
  {
   "cell_type": "code",
   "execution_count": 3,
   "metadata": {},
   "outputs": [
    {
     "name": "stdout",
     "output_type": "stream",
     "text": [
      "Please input an odd number of rounds to play: no\n",
      "This is not a number.\n",
      "Please input an odd number of rounds to play: 2\n",
      "This is an even number.\n",
      "Please input an odd number of rounds to play: 3\n",
      "Got it.\n"
     ]
    }
   ],
   "source": [
    "# Well, this took me a few hours... but I finally came up with this frankenstein of pieces of code I found online\n",
    "# and starting putting together till I came up with this.\n",
    "# Had to turn it into a function because I was having problems with the next variable rounds_to_win not being\n",
    "# able to do its math, and so it was just easier to make it into a function and then convert the result into int().\n",
    "# Seems to work just fine though. But I can't look at it any longer for today to think abt the problems with\n",
    "# floats and (,) in numbers.\n",
    "\n",
    "\n",
    "def numb_rounds():\n",
    "\n",
    "    while True:\n",
    "        n_rounds = input(\"Please input an odd number of rounds to play: \")\n",
    "\n",
    "        try:\n",
    "\n",
    "            if int(n_rounds) % 2 != 0:\n",
    "                print(\"Got it.\")\n",
    "                break\n",
    "\n",
    "            elif int(n_rounds) % 2 == 0:\n",
    "                print(\"This is an even number.\")\n",
    "\n",
    "        except ValueError:\n",
    "            if isinstance(n_rounds, str) is True:\n",
    "                print(\"This is not a number.\")\n",
    "        \n",
    "    return int(n_rounds)\n",
    "    \n",
    "n_rounds = numb_rounds()"
   ]
  },
  {
   "cell_type": "markdown",
   "metadata": {},
   "source": [
    "#### 4. Create a variable called `rounds_to_win` to store the number of rounds that a player must win to win the game.\n",
    "**Hint**: the value stored in `rounds_to_win` depends on the value of `n_rounds`. "
   ]
  },
  {
   "cell_type": "code",
   "execution_count": 4,
   "metadata": {},
   "outputs": [
    {
     "name": "stdout",
     "output_type": "stream",
     "text": [
      "The player needs to win 2 rounds to win the game.\n"
     ]
    }
   ],
   "source": [
    "rounds_to_win = int((n_rounds / 2) + 1)\n",
    "\n",
    "print(\"The player needs to win \" + str(rounds_to_win) + \" rounds to win the game.\")"
   ]
  },
  {
   "cell_type": "markdown",
   "metadata": {},
   "source": [
    "#### 5. Create two variables to store the number of rounds that the computer and the player have won. Call these variables `cpu_score` and `player_score`."
   ]
  },
  {
   "cell_type": "code",
   "execution_count": 5,
   "metadata": {},
   "outputs": [],
   "source": [
    "cpu_score = 0\n",
    "player_score = 0"
   ]
  },
  {
   "cell_type": "markdown",
   "metadata": {},
   "source": [
    "#### 6. Define a function that randomly returns one of the 3 gesture options.\n",
    "You will use this function to simulate the gesture choice of the computer. "
   ]
  },
  {
   "cell_type": "code",
   "execution_count": 20,
   "metadata": {},
   "outputs": [],
   "source": [
    "def computer_gesture():\n",
    "    return choice(gestures)\n",
    "\n",
    "\n",
    "comp_choice = computer_gesture()"
   ]
  },
  {
   "cell_type": "markdown",
   "metadata": {},
   "source": [
    "#### 7. Define a function that asks the player which is the gesture he or she wants to show: 'rock', 'paper' or 'scissors'.\n",
    "The player should only be allowed to choose one of the 3 gesture options. If the player's choice is not rock, paper or scissors, keep asking until it is."
   ]
  },
  {
   "cell_type": "code",
   "execution_count": 9,
   "metadata": {
    "scrolled": true
   },
   "outputs": [
    {
     "name": "stdout",
     "output_type": "stream",
     "text": [
      "Please choose between 'rock', 'paper' or 'scissors': no\n",
      "Please choose between 'rock', 'paper' or 'scissors': rock\n"
     ]
    }
   ],
   "source": [
    "def player_gesture():\n",
    "\n",
    "    while True:\n",
    "        gesture = input(\"Please choose between 'rock', 'paper' or 'scissors': \")\n",
    "        \n",
    "        if gesture.lower() == \"rock\" or gesture.lower() == \"paper\" or gesture.lower() == \"scissors\":\n",
    "            break\n",
    "            \n",
    "        else:\n",
    "            continue\n",
    "        \n",
    "    return gesture\n",
    "\n",
    "\n",
    "\n",
    "player_choice = player_gesture()"
   ]
  },
  {
   "cell_type": "markdown",
   "metadata": {},
   "source": [
    "#### 8. Define a function that checks who won a round. \n",
    "The function should return 0 if there is a tie, 1 if the computer wins and 2 if the player wins."
   ]
  },
  {
   "cell_type": "code",
   "execution_count": 22,
   "metadata": {},
   "outputs": [],
   "source": [
    "def round_winner(comp_choice, player_choice):\n",
    "    \n",
    "    \n",
    "    if comp_choice == \"rock\" and player_choice == \"paper\":\n",
    "        return 2\n",
    "\n",
    "    elif comp_choice == \"rock\" and player_choice == \"scissors\":\n",
    "        return 1\n",
    "\n",
    "    elif comp_choice == \"paper\" and player_choice == \"rock\":\n",
    "        return 1\n",
    "\n",
    "    elif comp_choice == \"paper\" and player_choice == \"scissors\":\n",
    "        return 2\n",
    "\n",
    "    elif comp_choice == \"scissors\" and player_choice == \"rock\":\n",
    "        return 2\n",
    "\n",
    "    elif comp_choice == \"scissors\" and player_choice == \"paper\":\n",
    "        return 1\n",
    "\n",
    "    else:\n",
    "        return 0\n",
    "\n",
    "\n",
    "who_won_round = round_winner(comp_choice, player_choice)"
   ]
  },
  {
   "cell_type": "markdown",
   "metadata": {},
   "source": [
    "#### 9. Define a function that prints the choice of the computer, the choice of the player and a message that announces who won the current round. \n",
    "You should also use this function to update the variables that count the number of rounds that the computer and the player have won. The score of the winner increases by one point. If there is a tie, the score does not increase."
   ]
  },
  {
   "cell_type": "code",
   "execution_count": 23,
   "metadata": {},
   "outputs": [
    {
     "name": "stdout",
     "output_type": "stream",
     "text": [
      "paper\n",
      "rock\n",
      "Computer won.\n"
     ]
    }
   ],
   "source": [
    "def results_printer(who_won_round, comp_choice, player_choice): # added the parameters that game() would need\n",
    "    \n",
    "    print(comp_choice)\n",
    "    print(player_choice)\n",
    "        \n",
    "    if who_won_round == 1:\n",
    "        print(\"Computer won.\")\n",
    "        global cpu_score\n",
    "        cpu_score += 1\n",
    "        return cpu_score # added return\n",
    "        \n",
    "    elif who_won_round == 2:\n",
    "        print(\"Player won.\")\n",
    "        global player_score\n",
    "        player_score += 1\n",
    "        return player_score # added return\n",
    "    \n",
    "    elif who_won_round == 0:\n",
    "        print(\"Tie.\")\n",
    "        cpu_score += 0\n",
    "        player_score += 0\n",
    "        return cpu_score and player_score # added return\n",
    "\n",
    "\n",
    "results = results_printer(who_won_round, comp_choice, player_choice)"
   ]
  },
  {
   "cell_type": "markdown",
   "metadata": {},
   "source": [
    "#### 10. Now it's time to code the execution of the game using the functions and variables you defined above. \n",
    "\n",
    "First, create a loop structure that repeats while no player reaches the minimum score necessary to win and the number of rounds is less than the maximum number of rounds to play in a game.  \n",
    "\n",
    "Inside the loop, use the functions and variables above to create the execution of a round: ask for the player's choice, generate the random choice of the computer, show the round results, update the scores, etc. "
   ]
  },
  {
   "cell_type": "code",
   "execution_count": 25,
   "metadata": {},
   "outputs": [
    {
     "name": "stdout",
     "output_type": "stream",
     "text": [
      "Please choose between 'rock', 'paper' or 'scissors': rock\n",
      "paper\n",
      "rock\n",
      "Computer won.\n",
      "Number of rounds played: 1\n",
      "Please choose between 'rock', 'paper' or 'scissors': paper\n",
      "scissors\n",
      "paper\n",
      "Computer won.\n",
      "Number of rounds played: 2\n",
      "Please choose between 'rock', 'paper' or 'scissors': scissors\n",
      "scissors\n",
      "scissors\n",
      "Tie.\n",
      "Number of rounds played: 3\n"
     ]
    }
   ],
   "source": [
    "# I think now it is working 100% properly!!!\n",
    "\n",
    "def game():\n",
    "\n",
    "    round_counter = 0\n",
    "    # Had to set the cpu and player scores back to 0 here, otherwise they would assume previous values from the\n",
    "    # first time I had to run everything\n",
    "    global cpu_score\n",
    "    cpu_score = 0\n",
    "    global player_score\n",
    "    player_score = 0\n",
    "\n",
    "    while (cpu_score != rounds_to_win or player_score != rounds_to_win) and round_counter != n_rounds:\n",
    "\n",
    "        comp_choice = computer_gesture()\n",
    "        player_choice = player_gesture()\n",
    "        who_won_round = round_winner(comp_choice, player_choice) # this was missing\n",
    "        results = results_printer(who_won_round, comp_choice, player_choice) # this needed parameters\n",
    "        round_counter += 1\n",
    "        print(\"Number of rounds played:\", round_counter)\n",
    "\n",
    "\n",
    "game()"
   ]
  },
  {
   "cell_type": "markdown",
   "metadata": {},
   "source": [
    "#### 11. Print the winner of the game based on who won more rounds.\n",
    "Remember that the game might be tied. "
   ]
  },
  {
   "cell_type": "code",
   "execution_count": 26,
   "metadata": {},
   "outputs": [
    {
     "name": "stdout",
     "output_type": "stream",
     "text": [
      "Computer score: 2\n",
      "Player score: 0\n",
      "The final winner is: The Computer\n"
     ]
    }
   ],
   "source": [
    "# Added these print statements to help me check whether or not previous wins were being computed\n",
    "# and they were, so that's why I set the global scores back to 0 in the 'game' function above\n",
    "print(\"Computer score:\", cpu_score)\n",
    "print(\"Player score:\", player_score)\n",
    "\n",
    "if cpu_score > player_score:\n",
    "    print(\"The final winner is: The Computer\")\n",
    "    \n",
    "elif cpu_score == player_score: # added possibility of game ending up in a tie.\n",
    "    print(\"The game ended in a tie.\")\n",
    "    \n",
    "else:\n",
    "    print(\"The final winner is: The Player\")"
   ]
  },
  {
   "cell_type": "markdown",
   "metadata": {},
   "source": [
    "# Bonus: Rock, Paper, Scissors, Lizard & Spock\n",
    "![](images/rpsls.jpg)\n",
    "\n",
    "In this challenge, you need to improve the previous game by adding two new options. To know more about the rules of the improved version of rock, paper, scissors, check this [link](http://www.samkass.com/theories/RPSSL.html). \n",
    "\n",
    "In addition, you will also need to improve how the game interacts with the player: the number of rounds to play, which must be an odd number, will be requested to the user until a valid number is entered. Define a new function to make that request.\n",
    "\n",
    "**Hint**: Try to reuse the code that you already coded in the previous challenge. If your code is efficient, this bonus will only consist of simple modifications to the original game."
   ]
  },
  {
   "cell_type": "code",
   "execution_count": null,
   "metadata": {},
   "outputs": [],
   "source": [
    "# Once I make sure everything above is working 100%, I will just try to adapt to this part."
   ]
  }
 ],
 "metadata": {
  "kernelspec": {
   "display_name": "Python 3",
   "language": "python",
   "name": "python3"
  },
  "language_info": {
   "codemirror_mode": {
    "name": "ipython",
    "version": 3
   },
   "file_extension": ".py",
   "mimetype": "text/x-python",
   "name": "python",
   "nbconvert_exporter": "python",
   "pygments_lexer": "ipython3",
   "version": "3.7.6"
  }
 },
 "nbformat": 4,
 "nbformat_minor": 2
}
