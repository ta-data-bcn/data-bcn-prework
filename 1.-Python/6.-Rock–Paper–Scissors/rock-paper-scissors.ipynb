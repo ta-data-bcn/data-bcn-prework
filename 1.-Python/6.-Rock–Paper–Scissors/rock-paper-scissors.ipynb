{
 "cells": [
  {
   "cell_type": "markdown",
   "metadata": {},
   "source": [
    "<img src=\"https://bit.ly/2VnXWr2\" width=\"100\" align=\"left\">"
   ]
  },
  {
   "cell_type": "markdown",
   "metadata": {},
   "source": [
    "# Rock, Paper & Scissors\n",
    "\n",
    "Let's play the famous game against our computer. You can check the rules [here](https://en.wikipedia.org/wiki/Rock%E2%80%93paper%E2%80%93scissors). \n",
    "\n",
    "## Task\n",
    "Create a program that imitates the playability of the well known game of rock, paper, scissors. Follow the guidelines provided.\n",
    "\n",
    "## Tools\n",
    "1. Loop: **for/while**\n",
    "2. Functions: **input(), print()...**\n",
    "3. Conditional statements: **if, elif, else**\n",
    "4. Definition of functions. Modular programming\n",
    "5. Import modules\n",
    "\n",
    "**To solve this challenge, the use of functions is recommended.**\n",
    "\n",
    "#### 1. Import the choice function of the random module."
   ]
  },
  {
   "cell_type": "code",
   "execution_count": 1,
   "metadata": {},
   "outputs": [],
   "source": [
    "import random"
   ]
  },
  {
   "cell_type": "markdown",
   "metadata": {},
   "source": [
    "#### 2. Create a list that includes the 3 possible gesture options of the game: 'rock', 'paper' or 'scissors'. Store the list in a variable called `gestures`."
   ]
  },
  {
   "cell_type": "code",
   "execution_count": 2,
   "metadata": {},
   "outputs": [],
   "source": [
    "gestures=[\"rock\", \"paper\", \"scissors\"]"
   ]
  },
  {
   "cell_type": "markdown",
   "metadata": {},
   "source": [
    "#### 3. Create a variable called `n_rounds` to store the maximum number of rounds to play in a game. \n",
    "Remember that the number of rounds must be odd: 1, 3, 5, ..."
   ]
  },
  {
   "cell_type": "code",
   "execution_count": 3,
   "metadata": {},
   "outputs": [
    {
     "name": "stdout",
     "output_type": "stream",
     "text": [
      "9\n"
     ]
    }
   ],
   "source": [
    "n_rounds=random.randrange(5,25,2)\n",
    "print(n_rounds)"
   ]
  },
  {
   "cell_type": "markdown",
   "metadata": {},
   "source": [
    "#### 4. Create a variable called `rounds_to_win` to store the number of rounds that a player must win to win the game.\n",
    "**Hint**: the value stored in `rounds_to_win` depends on the value of `n_rounds`. "
   ]
  },
  {
   "cell_type": "code",
   "execution_count": 4,
   "metadata": {},
   "outputs": [],
   "source": [
    "rounds_to_win=(n_rounds+1)/2"
   ]
  },
  {
   "cell_type": "markdown",
   "metadata": {},
   "source": [
    "#### 5. Create two variables to store the number of rounds that the computer and the player have won. Call these variables `cpu_score` and `player_score`."
   ]
  },
  {
   "cell_type": "code",
   "execution_count": 5,
   "metadata": {},
   "outputs": [],
   "source": [
    "cpu_score=0\n",
    "player_score=0"
   ]
  },
  {
   "cell_type": "markdown",
   "metadata": {},
   "source": [
    "#### 6. Define a function that randomly returns one of the 3 gesture options.\n",
    "You will use this function to simulate the gesture choice of the computer. "
   ]
  },
  {
   "cell_type": "code",
   "execution_count": 6,
   "metadata": {},
   "outputs": [
    {
     "name": "stdout",
     "output_type": "stream",
     "text": [
      "rock\n"
     ]
    }
   ],
   "source": [
    "randomgesture=random.choice(gestures)\n",
    "print(randomgesture)"
   ]
  },
  {
   "cell_type": "markdown",
   "metadata": {},
   "source": [
    "#### 7. Define a function that asks the player which is the gesture he or she wants to show: 'rock', 'paper' or 'scissors'.\n",
    "The player should only be allowed to choose one of the 3 gesture options. If the player's choice is not rock, paper or scissors, keep asking until it is."
   ]
  },
  {
   "cell_type": "code",
   "execution_count": 7,
   "metadata": {},
   "outputs": [
    {
     "name": "stdout",
     "output_type": "stream",
     "text": [
      "Enter your preferred gesture: rock\n"
     ]
    }
   ],
   "source": [
    "def gestureinput():\n",
    "    global x\n",
    "    x=None\n",
    "    while x not in gestures:\n",
    "        x=input(\"Enter your preferred gesture: \")\n",
    "gestureinput()"
   ]
  },
  {
   "cell_type": "markdown",
   "metadata": {},
   "source": [
    "#### 8. Define a function that checks who won a round. \n",
    "The function should return 0 if there is a tie, 1 if the computer wins and 2 if the player wins."
   ]
  },
  {
   "cell_type": "code",
   "execution_count": 19,
   "metadata": {},
   "outputs": [
    {
     "data": {
      "text/plain": [
       "2"
      ]
     },
     "execution_count": 19,
     "metadata": {},
     "output_type": "execute_result"
    }
   ],
   "source": [
    "def winner(y):\n",
    "    global randomgesture\n",
    "    randomgesture=random.choice(gestures)\n",
    "    if y==\"rock\":\n",
    "        if randomgesture==\"rock\":\n",
    "            return 0\n",
    "        elif randomgesture==\"paper\":\n",
    "            return 1\n",
    "        elif randomgesture==\"scissors\":\n",
    "            return 2\n",
    "    elif y==\"scissors\":\n",
    "        if randomgesture==\"scissors\":\n",
    "            return 0\n",
    "        elif randomgesture==\"rock\":\n",
    "            return 1\n",
    "        elif randomgesture==\"paper\":\n",
    "            return 2\n",
    "    elif y==\"paper\":\n",
    "        if randomgesture==\"paper\":\n",
    "            return 0\n",
    "        elif randomgesture==\"scissors\":\n",
    "            return 1\n",
    "        elif randomgesture==\"rock\":\n",
    "            return 2\n",
    "winner(x)"
   ]
  },
  {
   "cell_type": "markdown",
   "metadata": {},
   "source": [
    "#### 9. Define a function that prints the choice of the computer, the choice of the player and a message that announces who won the current round. \n",
    "You should also use this function to update the variables that count the number of rounds that the computer and the player have won. The score of the winner increases by one point. If there is a tie, the score does not increase."
   ]
  },
  {
   "cell_type": "code",
   "execution_count": 9,
   "metadata": {},
   "outputs": [
    {
     "name": "stdout",
     "output_type": "stream",
     "text": [
      "It's a tie!\n",
      "Computer plays: rock\n",
      "Player plays: rock\n",
      "The score of the player:  0\n",
      "The score of the computer:  0\n"
     ]
    }
   ],
   "source": [
    "cpu_score=0\n",
    "player_score=0\n",
    "def game(x):\n",
    "    if winner(x)==0:\n",
    "        print(\"It's a tie!\")\n",
    "    elif winner(x)==1:\n",
    "        print(\"Computer won!\")\n",
    "        global cpu_score\n",
    "        cpu_score=cpu_score+1\n",
    "    elif winner(x)==2:\n",
    "        print(\"Player won!\")\n",
    "        global player_score\n",
    "        player_score=player_score+1\n",
    "    print(\"Computer plays:\", randomgesture)\n",
    "    print(\"Player plays:\", x)\n",
    "game(x)\n",
    "print(\"The score of the player: \", player_score)\n",
    "print(\"The score of the computer: \", cpu_score)"
   ]
  },
  {
   "cell_type": "markdown",
   "metadata": {},
   "source": [
    "#### 10. Now it's time to code the execution of the game using the functions and variables you defined above. \n",
    "\n",
    "First, create a loop structure that repeats while no player reaches the minimum score necessary to win and the number of rounds is less than the maximum number of rounds to play in a game.  \n",
    "\n",
    "Inside the loop, use the functions and variables above to create the execution of a round: ask for the player's choice, generate the random choice of the computer, show the round results, update the scores, etc. "
   ]
  },
  {
   "cell_type": "code",
   "execution_count": 10,
   "metadata": {},
   "outputs": [
    {
     "name": "stdout",
     "output_type": "stream",
     "text": [
      "Enter your preferred gesture: rock\n",
      "Enter your preferred gesture: rock\n",
      "Enter your preferred gesture: rock\n",
      "Enter your preferred gesture: rock\n",
      "Enter your preferred gesture: rock\n",
      "Enter your preferred gesture: rock\n",
      "Enter your preferred gesture: rock\n",
      "Enter your preferred gesture: rock\n",
      "Enter your preferred gesture: rock\n",
      "Computer's score: 3\n",
      "Player's score: 1\n"
     ]
    }
   ],
   "source": [
    "cpu_score=0\n",
    "player_score=0\n",
    "currentround=0\n",
    "while n_rounds > currentround:\n",
    "            gestureinput()\n",
    "            if winner(x)==1:\n",
    "                cpu_score=cpu_score+1\n",
    "            elif winner(x)==2:\n",
    "                player_score=player_score+1\n",
    "            currentround=currentround+1\n",
    "print(\"Computer's score:\", cpu_score)\n",
    "print(\"Player's score:\", player_score)"
   ]
  },
  {
   "cell_type": "markdown",
   "metadata": {},
   "source": [
    "#### 11. Print the winner of the game based on who won more rounds.\n",
    "Remember that the game might be tied. "
   ]
  },
  {
   "cell_type": "code",
   "execution_count": 11,
   "metadata": {},
   "outputs": [
    {
     "name": "stdout",
     "output_type": "stream",
     "text": [
      "Computer wins!\n"
     ]
    }
   ],
   "source": [
    "if cpu_score==player_score:\n",
    "    print(\"It's a tie!\")\n",
    "elif cpu_score>player_score:\n",
    "    print(\"Computer wins!\")\n",
    "elif cpu_score<player_score:\n",
    "    print(\"Player wins!\")"
   ]
  },
  {
   "cell_type": "markdown",
   "metadata": {},
   "source": [
    "# Bonus: Rock, Paper, Scissors, Lizard & Spock\n",
    "![](images/rpsls.jpg)\n",
    "\n",
    "In this challenge, you need to improve the previous game by adding two new options. To know more about the rules of the improved version of rock, paper, scissors, check this [link](http://www.samkass.com/theories/RPSSL.html). \n",
    "\n",
    "In addition, you will also need to improve how the game interacts with the player: the number of rounds to play, which must be an odd number, will be requested to the user until a valid number is entered. Define a new function to make that request.\n",
    "\n",
    "**Hint**: Try to reuse the code that you already coded in the previous challenge. If your code is efficient, this bonus will only consist of simple modifications to the original game."
   ]
  },
  {
   "cell_type": "code",
   "execution_count": 21,
   "metadata": {},
   "outputs": [],
   "source": [
    "gestures2=[\"rock\", \"paper\", \"scissors\", \"lizard\", \"spock\"]"
   ]
  },
  {
   "cell_type": "code",
   "execution_count": 22,
   "metadata": {},
   "outputs": [
    {
     "name": "stdout",
     "output_type": "stream",
     "text": [
      "What's the number of rounds you'd like to play? 5\n",
      "5\n"
     ]
    }
   ],
   "source": [
    "def n_rounds2():\n",
    "    global i\n",
    "    i=0\n",
    "    while i % 2 == 0:\n",
    "        input(\"What's the number of rounds you'd like to play? \")\n",
    "        i=int(input())\n",
    "n_rounds2()"
   ]
  },
  {
   "cell_type": "code",
   "execution_count": 23,
   "metadata": {},
   "outputs": [],
   "source": [
    "rounds_to_win2=(i+1)/2"
   ]
  },
  {
   "cell_type": "code",
   "execution_count": 24,
   "metadata": {},
   "outputs": [],
   "source": [
    "cpu_score2=0\n",
    "player_score2=0"
   ]
  },
  {
   "cell_type": "code",
   "execution_count": 25,
   "metadata": {},
   "outputs": [
    {
     "name": "stdout",
     "output_type": "stream",
     "text": [
      "scissors\n"
     ]
    }
   ],
   "source": [
    "randomgesture2=random.choice(gestures2)\n",
    "print(randomgesture2)"
   ]
  },
  {
   "cell_type": "code",
   "execution_count": 26,
   "metadata": {},
   "outputs": [
    {
     "name": "stdout",
     "output_type": "stream",
     "text": [
      "Enter your preferred gesture: rock\n"
     ]
    }
   ],
   "source": [
    "def gestureinput2():\n",
    "    global x\n",
    "    x=None\n",
    "    while x not in gestures2:\n",
    "        x=input(\"Enter your preferred gesture: \")\n",
    "gestureinput2()"
   ]
  },
  {
   "cell_type": "code",
   "execution_count": 27,
   "metadata": {},
   "outputs": [
    {
     "data": {
      "text/plain": [
       "1"
      ]
     },
     "execution_count": 27,
     "metadata": {},
     "output_type": "execute_result"
    }
   ],
   "source": [
    "def winner2(y):\n",
    "    global randomgesture2\n",
    "    randomgesture2=random.choice(gestures2)\n",
    "    if y==\"rock\":\n",
    "        if randomgesture2==\"rock\":\n",
    "            return 0\n",
    "        elif randomgesture2==\"paper\":\n",
    "            return 1\n",
    "        elif randomgesture2==\"scissors\":\n",
    "            return 2\n",
    "        elif randomgesture2==\"lizard\":\n",
    "            return 2\n",
    "        elif randomgesture2==\"spock\":\n",
    "            return 1\n",
    "    elif y==\"scissors\":\n",
    "        if randomgesture2==\"scissors\":\n",
    "            return 0\n",
    "        elif randomgesture2==\"rock\":\n",
    "            return 1\n",
    "        elif randomgesture2==\"paper\":\n",
    "            return 2\n",
    "        elif randomgesture2==\"lizard\":\n",
    "            return 2\n",
    "        elif randomgesture2==\"spock\":\n",
    "            return 1\n",
    "    elif y==\"paper\":\n",
    "        if randomgesture2==\"paper\":\n",
    "            return 0\n",
    "        elif randomgesture2==\"scissors\":\n",
    "            return 1\n",
    "        elif randomgesture2==\"rock\":\n",
    "            return 2\n",
    "        elif randomgesture2==\"lizard\":\n",
    "            return 1\n",
    "        elif randomgesture2==\"spock\":\n",
    "            return 2\n",
    "    elif y==\"lizard\":\n",
    "        if randomgesture2==\"paper\":\n",
    "            return 2\n",
    "        elif randomgesture2==\"scissors\":\n",
    "            return 1\n",
    "        elif randomgesture2==\"rock\":\n",
    "            return 1\n",
    "        elif randomgesture2==\"lizard\":\n",
    "            return 0\n",
    "        elif randomgesture2==\"spock\":\n",
    "            return 2\n",
    "    elif y==\"spock\":\n",
    "        if randomgesture2==\"paper\":\n",
    "            return 1\n",
    "        elif randomgesture2==\"scissors\":\n",
    "            return 2\n",
    "        elif randomgesture2==\"rock\":\n",
    "            return 2\n",
    "        elif randomgesture2==\"lizard\":\n",
    "            return 1\n",
    "        elif randomgesture2==\"spock\":\n",
    "            return 0\n",
    "winner2(x)"
   ]
  },
  {
   "cell_type": "code",
   "execution_count": 28,
   "metadata": {},
   "outputs": [
    {
     "name": "stdout",
     "output_type": "stream",
     "text": [
      "Computer won!\n",
      "Computer plays: paper\n",
      "Player plays: rock\n",
      "The score of the player:  0\n",
      "The score of the computer:  1\n"
     ]
    }
   ],
   "source": [
    "cpu_score2=0\n",
    "player_score2=0\n",
    "def game2(x):\n",
    "    if winner2(x)==0:\n",
    "        print(\"It's a tie!\")\n",
    "    elif winner2(x)==1:\n",
    "        print(\"Computer won!\")\n",
    "        global cpu_score2\n",
    "        cpu_score2=cpu_score2+1\n",
    "    elif winner2(x)==2:\n",
    "        print(\"Player won!\")\n",
    "        global player_score2\n",
    "        player_score2=player_score2+1\n",
    "    print(\"Computer plays:\", randomgesture2)\n",
    "    print(\"Player plays:\", x)\n",
    "game2(x)\n",
    "print(\"The score of the player: \", player_score2)\n",
    "print(\"The score of the computer: \", cpu_score2)"
   ]
  },
  {
   "cell_type": "code",
   "execution_count": 29,
   "metadata": {},
   "outputs": [
    {
     "name": "stdout",
     "output_type": "stream",
     "text": [
      "Enter your preferred gesture: rock\n",
      "Enter your preferred gesture: rock\n",
      "Enter your preferred gesture: spock\n",
      "Enter your preferred gesture: paper\n",
      "Enter your preferred gesture: lizard\n",
      "Computer's score: 1\n",
      "Player's score: 3\n"
     ]
    }
   ],
   "source": [
    "cpu_score2=0\n",
    "player_score2=0\n",
    "currentround2=0\n",
    "while i > currentround2:\n",
    "            gestureinput2()\n",
    "            if winner2(x)==1:\n",
    "                cpu_score2=cpu_score2+1\n",
    "            elif winner2(x)==2:\n",
    "                player_score2=player_score2+1\n",
    "            currentround2=currentround2+1\n",
    "print(\"Computer's score:\", cpu_score2)\n",
    "print(\"Player's score:\", player_score2)"
   ]
  },
  {
   "cell_type": "code",
   "execution_count": 30,
   "metadata": {},
   "outputs": [
    {
     "name": "stdout",
     "output_type": "stream",
     "text": [
      "Player wins!\n"
     ]
    }
   ],
   "source": [
    "if cpu_score2==player_score2:\n",
    "    print(\"It's a tie!\")\n",
    "elif cpu_score2>player_score2:\n",
    "    print(\"Computer wins!\")\n",
    "elif cpu_score2<player_score2:\n",
    "    print(\"Player wins!\")"
   ]
  }
 ],
 "metadata": {
  "kernelspec": {
   "display_name": "Python 3",
   "language": "python",
   "name": "python3"
  },
  "language_info": {
   "codemirror_mode": {
    "name": "ipython",
    "version": 3
   },
   "file_extension": ".py",
   "mimetype": "text/x-python",
   "name": "python",
   "nbconvert_exporter": "python",
   "pygments_lexer": "ipython3",
   "version": "3.7.3"
  }
 },
 "nbformat": 4,
 "nbformat_minor": 2
}
