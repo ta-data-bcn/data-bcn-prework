{
 "cells": [
  {
   "cell_type": "markdown",
   "metadata": {},
   "source": [
    "<img src=\"https://bit.ly/2VnXWr2\" width=\"100\" align=\"left\">"
   ]
  },
  {
   "cell_type": "markdown",
   "metadata": {},
   "source": [
    "# Rock, Paper & Scissors\n",
    "\n",
    "Let's play the famous game against our computer. You can check the rules [here](https://en.wikipedia.org/wiki/Rock%E2%80%93paper%E2%80%93scissors). \n",
    "\n",
    "## Task\n",
    "Create a program that imitates the playability of the well known game of rock, paper, scissors. Follow the guidelines provided.\n",
    "\n",
    "## Tools\n",
    "1. Loop: **for/while**\n",
    "2. Functions: **input(), print()...**\n",
    "3. Conditional statements: **if, elif, else**\n",
    "4. Definition of functions. Modular programming\n",
    "5. Import modules\n",
    "\n",
    "**To solve this challenge, the use of functions is recommended.**\n",
    "\n",
    "#### 1. Import the choice function of the random module."
   ]
  },
  {
   "cell_type": "code",
   "execution_count": 114,
   "metadata": {},
   "outputs": [],
   "source": [
    "import random\n"
   ]
  },
  {
   "cell_type": "markdown",
   "metadata": {},
   "source": [
    "#### 2. Create a list that includes the 3 possible gesture options of the game: 'rock', 'paper' or 'scissors'. Store the list in a variable called `gestures`."
   ]
  },
  {
   "cell_type": "code",
   "execution_count": 217,
   "metadata": {},
   "outputs": [],
   "source": [
    "gestures = [\"rock\", \"paper\", \"scissors\"]"
   ]
  },
  {
   "cell_type": "markdown",
   "metadata": {},
   "source": [
    "#### 3. Create a variable called `n_rounds` to store the maximum number of rounds to play in a game. \n",
    "Remember that the number of rounds must be odd: 1, 3, 5, ..."
   ]
  },
  {
   "cell_type": "code",
   "execution_count": 116,
   "metadata": {},
   "outputs": [],
   "source": [
    "n_rounds = 5"
   ]
  },
  {
   "cell_type": "markdown",
   "metadata": {},
   "source": [
    "#### 4. Create a variable called `rounds_to_win` to store the number of rounds that a player must win to win the game.\n",
    "**Hint**: the value stored in `rounds_to_win` depends on the value of `n_rounds`. "
   ]
  },
  {
   "cell_type": "code",
   "execution_count": 152,
   "metadata": {},
   "outputs": [],
   "source": [
    "rounds_to_win = int(n_rounds/2+0.5)"
   ]
  },
  {
   "cell_type": "markdown",
   "metadata": {},
   "source": [
    "#### 5. Create two variables to store the number of rounds that the computer and the player have won. Call these variables `cpu_score` and `player_score`."
   ]
  },
  {
   "cell_type": "code",
   "execution_count": 159,
   "metadata": {},
   "outputs": [],
   "source": [
    "cpu_score = 0\n",
    "player_score = 0"
   ]
  },
  {
   "cell_type": "markdown",
   "metadata": {},
   "source": [
    "#### 6. Define a function that randomly returns one of the 3 gesture options.\n",
    "You will use this function to simulate the gesture choice of the computer. "
   ]
  },
  {
   "cell_type": "code",
   "execution_count": 150,
   "metadata": {},
   "outputs": [],
   "source": [
    "def bot_play():\n",
    "    b = random.choice(gestures)\n",
    "    return(b)"
   ]
  },
  {
   "cell_type": "markdown",
   "metadata": {},
   "source": [
    "#### 7. Define a function that asks the player which is the gesture he or she wants to show: 'rock', 'paper' or 'scissors'.\n",
    "The player should only be allowed to choose one of the 3 gesture options. If the player's choice is not rock, paper or scissors, keep asking until it is."
   ]
  },
  {
   "cell_type": "code",
   "execution_count": 151,
   "metadata": {},
   "outputs": [],
   "source": [
    "def player_play():\n",
    "    continue_game = True\n",
    "    while continue_game == True:\n",
    "        a = input(\"Please enter your move (rock, paper or scissors): \")\n",
    "        if a == \"rock\" or a == \"paper\" or a == \"scissors\":\n",
    "            continue_game = False\n",
    "            return(a)\n",
    "        else:\n",
    "            continue_game = True\n",
    "            print(\"Input not valid\")"
   ]
  },
  {
   "cell_type": "markdown",
   "metadata": {},
   "source": [
    "#### 8. Define a function that checks who won a round. \n",
    "The function should return 0 if there is a tie, 1 if the computer wins and 2 if the player wins."
   ]
  },
  {
   "cell_type": "code",
   "execution_count": 149,
   "metadata": {},
   "outputs": [],
   "source": [
    "def who_won(a,b):\n",
    "    if a == \"rock\":\n",
    "        if b == \"rock\":\n",
    "            c = 0\n",
    "        elif b == \"paper\":\n",
    "            c = 1\n",
    "        elif b == \"scissors\":\n",
    "            c = 2\n",
    "    elif a == \"paper\":\n",
    "        if b == \"rock\":\n",
    "            c = 2\n",
    "        elif b == \"paper\":\n",
    "            c = 0\n",
    "        elif b == \"scissors\":\n",
    "            c = 1\n",
    "    elif a == \"scissors\":\n",
    "        if b == \"rock\":\n",
    "            c = 1\n",
    "        elif b == \"paper\":\n",
    "            c = 2\n",
    "        elif b == \"scissors\":\n",
    "            c = 0\n",
    "    return(c)"
   ]
  },
  {
   "cell_type": "markdown",
   "metadata": {},
   "source": [
    "#### 9. Define a function that prints the choice of the computer, the choice of the player and a message that announces who won the current round. \n",
    "You should also use this function to update the variables that count the number of rounds that the computer and the player have won. The score of the winner increases by one point. If there is a tie, the score does not increase."
   ]
  },
  {
   "cell_type": "code",
   "execution_count": 192,
   "metadata": {},
   "outputs": [],
   "source": [
    "def play_game(c):\n",
    "    print(\"The player's move is:\", a)\n",
    "    print(\"The computer's move is:\", b)\n",
    "    if c == 0:\n",
    "        print(\"It was a tie.\")\n",
    "        return(0)\n",
    "    elif c == 1:\n",
    "        print(\"Computer wins.\")\n",
    "        return(1)\n",
    "    elif c == 2:\n",
    "        print(\"Player wins.\")\n",
    "        return(2)"
   ]
  },
  {
   "cell_type": "markdown",
   "metadata": {},
   "source": [
    "#### 10. Now it's time to code the execution of the game using the functions and variables you defined above. \n",
    "\n",
    "First, create a loop structure that repeats while no player reaches the minimum score necessary to win and the number of rounds is less than the maximum number of rounds to play in a game.  \n",
    "\n",
    "Inside the loop, use the functions and variables above to create the execution of a round: ask for the player's choice, generate the random choice of the computer, show the round results, update the scores, etc. "
   ]
  },
  {
   "cell_type": "code",
   "execution_count": 202,
   "metadata": {},
   "outputs": [
    {
     "name": "stdout",
     "output_type": "stream",
     "text": [
      "Please enter your move (rock, paper or scissors): rock\n",
      "The player's move is: rock\n",
      "The computer's move is: scissors\n",
      "Player wins.\n",
      "Player score= 1\n",
      "CPU score= 0\n",
      "Please enter your move (rock, paper or scissors): paper\n",
      "The player's move is: paper\n",
      "The computer's move is: rock\n",
      "Player wins.\n",
      "Player score= 2\n",
      "CPU score= 0\n",
      "Please enter your move (rock, paper or scissors): scissors\n",
      "The player's move is: scissors\n",
      "The computer's move is: rock\n",
      "Computer wins.\n",
      "Player score= 2\n",
      "CPU score= 1\n",
      "Please enter your move (rock, paper or scissors): rock\n",
      "The player's move is: rock\n",
      "The computer's move is: paper\n",
      "Computer wins.\n",
      "Player score= 2\n",
      "CPU score= 2\n",
      "Please enter your move (rock, paper or scissors): paper\n",
      "The player's move is: paper\n",
      "The computer's move is: paper\n",
      "It was a tie.\n",
      "Player score= 2\n",
      "CPU score= 2\n"
     ]
    }
   ],
   "source": [
    "rounds = 0\n",
    "player_score=0\n",
    "cpu_score=0\n",
    "while cpu_score < rounds_to_win and player_score < rounds_to_win and rounds < n_rounds:\n",
    "    a = player_play()\n",
    "    b = bot_play()\n",
    "    c = who_won(a,b)\n",
    "    d = play_game(c)\n",
    "    if d==1:\n",
    "        cpu_score +=1\n",
    "    if d==2:\n",
    "        player_score +=1\n",
    "    print(\"Player score=\", player_score)\n",
    "    print(\"CPU score=\", cpu_score)\n",
    "    rounds += 1\n",
    "# if cpu_score == player_score:\n",
    "    # print(\"The game is tied.\")\n",
    "# elif cpu_score > player_score:\n",
    "    # print(\"The computer wins the game.\")\n",
    "# elif cpu_score < player_score:\n",
    "    # print(\"The player wins the game.\")"
   ]
  },
  {
   "cell_type": "raw",
   "metadata": {},
   "source": [
    "#### 11. Print the winner of the game based on who won more rounds.\n",
    "Remember that the game might be tied. "
   ]
  },
  {
   "cell_type": "code",
   "execution_count": 203,
   "metadata": {},
   "outputs": [
    {
     "name": "stdout",
     "output_type": "stream",
     "text": [
      "The game is tied.\n"
     ]
    }
   ],
   "source": [
    "if cpu_score == player_score:\n",
    "    print(\"The game is tied.\")\n",
    "elif cpu_score > player_score:\n",
    "    print(\"The computer wins the game.\")\n",
    "elif cpu_score < player_score:\n",
    "    print(\"The player wins the game.\")"
   ]
  },
  {
   "cell_type": "markdown",
   "metadata": {},
   "source": [
    "# Bonus: Rock, Paper, Scissors, Lizard & Spock\n",
    "![](images/rpsls.jpg)\n",
    "\n",
    "In this challenge, you need to improve the previous game by adding two new options. To know more about the rules of the improved version of rock, paper, scissors, check this [link](http://www.samkass.com/theories/RPSSL.html). \n",
    "\n",
    "In addition, you will also need to improve how the game interacts with the player: the number of rounds to play, which must be an odd number, will be requested to the user until a valid number is entered. Define a new function to make that request.\n",
    "\n",
    "**Hint**: Try to reuse the code that you already coded in the previous challenge. If your code is efficient, this bonus will only consist of simple modifications to the original game."
   ]
  },
  {
   "cell_type": "code",
   "execution_count": 225,
   "metadata": {},
   "outputs": [
    {
     "name": "stdout",
     "output_type": "stream",
     "text": [
      "How many rounds do you want to play? 7\n",
      "Please enter your move (rock, paper, scissors, lizard or spock): spock\n",
      "The player's move is: spock\n",
      "The computer's move is: scissors\n",
      "Player wins.\n",
      "Player score= 1\n",
      "CPU score= 0\n",
      "Please enter your move (rock, paper, scissors, lizard or spock): lizard\n",
      "The player's move is: lizard\n",
      "The computer's move is: rock\n",
      "Computer wins.\n",
      "Player score= 1\n",
      "CPU score= 1\n",
      "Please enter your move (rock, paper, scissors, lizard or spock): lizard\n",
      "The player's move is: lizard\n",
      "The computer's move is: scissors\n",
      "Computer wins.\n",
      "Player score= 1\n",
      "CPU score= 2\n",
      "Please enter your move (rock, paper, scissors, lizard or spock): spock\n",
      "The player's move is: spock\n",
      "The computer's move is: rock\n",
      "Player wins.\n",
      "Player score= 2\n",
      "CPU score= 2\n",
      "Please enter your move (rock, paper, scissors, lizard or spock): rock\n",
      "The player's move is: rock\n",
      "The computer's move is: paper\n",
      "Computer wins.\n",
      "Player score= 2\n",
      "CPU score= 3\n",
      "Please enter your move (rock, paper, scissors, lizard or spock): paper\n",
      "The player's move is: paper\n",
      "The computer's move is: scissors\n",
      "Computer wins.\n",
      "Player score= 2\n",
      "CPU score= 4\n",
      "The computer wins the game.\n"
     ]
    }
   ],
   "source": [
    "import random\n",
    "\n",
    "def input_rounds_new():\n",
    "    continue_game = True\n",
    "    while continue_game == True:\n",
    "        a = int(input(\"How many rounds do you want to play? \"))\n",
    "        b = a%2\n",
    "        if b == 0:\n",
    "            continue_game = True\n",
    "            print(\"Please enter an odd number.\")\n",
    "        else:\n",
    "            continue_game = False\n",
    "            return(a)\n",
    "            \n",
    "def bot_play_new():\n",
    "    b = random.choice(gestures)\n",
    "    return(b)\n",
    "\n",
    "def player_play_new():\n",
    "    continue_game = True\n",
    "    while continue_game == True:\n",
    "        a = input(\"Please enter your move (rock, paper, scissors, lizard or spock): \")\n",
    "        if a == \"rock\" or a == \"paper\" or a == \"scissors\" or a == \"lizard\" or a == \"spock\":\n",
    "            continue_game = False\n",
    "            return(a)\n",
    "        else:\n",
    "            continue_game = True\n",
    "            print(\"Input not valid\")\n",
    "            \n",
    "def who_won_new(a,b):\n",
    "    if a == \"rock\":\n",
    "        if b == \"rock\":\n",
    "            c = 0\n",
    "        elif b == \"paper\":\n",
    "            c = 1\n",
    "        elif b == \"scissors\":\n",
    "            c = 2\n",
    "        elif b == \"lizard\":\n",
    "            c = 2\n",
    "        elif b == \"spock\":\n",
    "            c = 1\n",
    "    elif a == \"paper\":\n",
    "        if b == \"rock\":\n",
    "            c = 2\n",
    "        elif b == \"paper\":\n",
    "            c = 0\n",
    "        elif b == \"scissors\":\n",
    "            c = 1\n",
    "        elif b == \"lizard\":\n",
    "            c = 1\n",
    "        elif b == \"spock\":\n",
    "            c = 2\n",
    "    elif a == \"scissors\":\n",
    "        if b == \"rock\":\n",
    "            c = 1\n",
    "        elif b == \"paper\":\n",
    "            c = 2\n",
    "        elif b == \"scissors\":\n",
    "            c = 0\n",
    "        elif b == \"lizard\":\n",
    "            c = 2\n",
    "        elif b == \"spock\":\n",
    "            c = 1\n",
    "    elif a == \"lizard\":\n",
    "        if b == \"rock\":\n",
    "            c = 1\n",
    "        elif b == \"paper\":\n",
    "            c = 2\n",
    "        elif b == \"scissors\":\n",
    "            c = 1\n",
    "        elif b == \"lizard\":\n",
    "            c = 0\n",
    "        elif b == \"spock\":\n",
    "            c = 2\n",
    "    elif a == \"spock\":\n",
    "        if b == \"rock\":\n",
    "            c = 2\n",
    "        elif b == \"paper\":\n",
    "            c = 1\n",
    "        elif b == \"scissors\":\n",
    "            c = 2\n",
    "        elif b == \"lizard\":\n",
    "            c = 1\n",
    "        elif b == \"spock\":\n",
    "            c = 0\n",
    "    return(c)\n",
    "            \n",
    "def play_game_new(c):\n",
    "    print(\"The player's move is:\", a)\n",
    "    print(\"The computer's move is:\", b)\n",
    "    if c == 0:\n",
    "        print(\"It was a tie.\")\n",
    "        return(0)\n",
    "    elif c == 1:\n",
    "        print(\"Computer wins.\")\n",
    "        return(1)\n",
    "    elif c == 2:\n",
    "        print(\"Player wins.\")\n",
    "        return(2)\n",
    "    \n",
    "gestures_new = [\"rock\", \"paper\", \"scissors\", \"lizard\", \"spock\"]\n",
    "\n",
    "rounds_new=input_rounds_new()\n",
    "rounds_to_win_new = int(rounds_new/2+0.5)\n",
    "\n",
    "cpu_score_new = 0\n",
    "player_score_new = 0\n",
    "\n",
    "rounds_played_new = 0\n",
    "\n",
    "while cpu_score_new < rounds_to_win_new and player_score_new < rounds_to_win_new and rounds_played_new < rounds_new:\n",
    "    a = player_play_new()\n",
    "    b = bot_play_new()\n",
    "    c = who_won_new(a,b)\n",
    "    d = play_game_new(c)\n",
    "    if d==1:\n",
    "        cpu_score_new +=1\n",
    "    if d==2:\n",
    "        player_score_new +=1\n",
    "    print(\"Player score=\", player_score_new)\n",
    "    print(\"CPU score=\", cpu_score_new)\n",
    "    rounds_played_new += 1\n",
    "if cpu_score_new == player_score_new:\n",
    "    print(\"The game is tied.\")\n",
    "elif cpu_score_new > player_score_new:\n",
    "    print(\"The computer wins the game.\")\n",
    "elif cpu_score_new < player_score_new:\n",
    "    print(\"The player wins the game.\")"
   ]
  }
 ],
 "metadata": {
  "kernelspec": {
   "display_name": "Python 3",
   "language": "python",
   "name": "python3"
  },
  "language_info": {
   "codemirror_mode": {
    "name": "ipython",
    "version": 3
   },
   "file_extension": ".py",
   "mimetype": "text/x-python",
   "name": "python",
   "nbconvert_exporter": "python",
   "pygments_lexer": "ipython3",
   "version": "3.7.1"
  }
 },
 "nbformat": 4,
 "nbformat_minor": 2
}
