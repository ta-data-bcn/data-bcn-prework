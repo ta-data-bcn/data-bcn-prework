{
 "cells": [
  {
   "cell_type": "markdown",
   "metadata": {},
   "source": [
    "<img src=\"https://bit.ly/2VnXWr2\" width=\"100\" align=\"left\">"
   ]
  },
  {
   "cell_type": "markdown",
   "metadata": {},
   "source": [
    "# Rock, Paper & Scissors\n",
    "\n",
    "Let's play the famous game against our computer. You can check the rules [here](https://en.wikipedia.org/wiki/Rock%E2%80%93paper%E2%80%93scissors). \n",
    "\n",
    "## Task\n",
    "Create a program that imitates the playability of the well known game of rock, paper, scissors. Follow the guidelines provided.\n",
    "\n",
    "## Tools\n",
    "1. Loop: **for/while**\n",
    "2. Functions: **input(), print()...**\n",
    "3. Conditional statements: **if, elif, else**\n",
    "4. Definition of functions. Modular programming\n",
    "5. Import modules\n",
    "\n",
    "**To solve this challenge, the use of functions is recommended.**\n",
    "\n",
    "#### 1. Import the choice function of the random module."
   ]
  },
  {
   "cell_type": "code",
   "execution_count": 2,
   "metadata": {},
   "outputs": [],
   "source": [
    "from random import choice"
   ]
  },
  {
   "cell_type": "markdown",
   "metadata": {},
   "source": [
    "#### 2. Create a list that includes the 3 possible gesture options of the game: 'rock', 'paper' or 'scissors'. Store the list in a variable called `gestures`."
   ]
  },
  {
   "cell_type": "code",
   "execution_count": 3,
   "metadata": {},
   "outputs": [],
   "source": [
    "gestures = ['rock', 'paper', 'scissors']"
   ]
  },
  {
   "cell_type": "markdown",
   "metadata": {},
   "source": [
    "#### 3. Create a variable called `n_rounds` to store the maximum number of rounds to play in a game. \n",
    "Remember that the number of rounds must be odd: 1, 3, 5, ..."
   ]
  },
  {
   "cell_type": "code",
   "execution_count": 4,
   "metadata": {},
   "outputs": [],
   "source": [
    "n_rounds = 9"
   ]
  },
  {
   "cell_type": "markdown",
   "metadata": {},
   "source": [
    "#### 4. Create a variable called `rounds_to_win` to store the number of rounds that a player must win to win the game.\n",
    "**Hint**: the value stored in `rounds_to_win` depends on the value of `n_rounds`. "
   ]
  },
  {
   "cell_type": "code",
   "execution_count": 5,
   "metadata": {},
   "outputs": [],
   "source": [
    "rounds_to_win = n_rounds / 3"
   ]
  },
  {
   "cell_type": "markdown",
   "metadata": {},
   "source": [
    "#### 5. Create two variables to store the number of rounds that the computer and the player have won. Call these variables `cpu_score` and `player_score`."
   ]
  },
  {
   "cell_type": "code",
   "execution_count": 6,
   "metadata": {},
   "outputs": [],
   "source": [
    "cpu_score = 0\n",
    "player_score = 0"
   ]
  },
  {
   "cell_type": "markdown",
   "metadata": {},
   "source": [
    "#### 6. Define a function that randomly returns one of the 3 gesture options.\n",
    "You will use this function to simulate the gesture choice of the computer. "
   ]
  },
  {
   "cell_type": "code",
   "execution_count": 7,
   "metadata": {},
   "outputs": [
    {
     "name": "stdout",
     "output_type": "stream",
     "text": [
      "scissors\n"
     ]
    }
   ],
   "source": [
    "def cpu_plays() :\n",
    "    cpu_plays.i = choice(gestures)\n",
    "    return cpu_plays.i\n",
    "\n",
    "print(cpu_plays())"
   ]
  },
  {
   "cell_type": "markdown",
   "metadata": {},
   "source": [
    "#### 7. Define a function that asks the player which is the gesture he or she wants to show: 'rock', 'paper' or 'scissors'.\n",
    "The player should only be allowed to choose one of the 3 gesture options. If the player's choice is not rock, paper or scissors, keep asking until it is."
   ]
  },
  {
   "cell_type": "code",
   "execution_count": 8,
   "metadata": {},
   "outputs": [
    {
     "name": "stdout",
     "output_type": "stream",
     "text": [
      "Your play (you must choose between rock, paper or scissors)? paper\n",
      "paper\n"
     ]
    }
   ],
   "source": [
    "def player_plays() :\n",
    "    player_plays.i = \"\"\n",
    "    while player_plays.i not in gestures :\n",
    "        player_plays.i = input(\"Your play (you must choose between rock, paper or scissors)? \")\n",
    "        if player_plays.i == \"rock\" :\n",
    "            return player_plays.i\n",
    "        elif player_plays.i == \"paper\" :\n",
    "            return player_plays.i\n",
    "        elif player_plays.i == \"scissors\" :\n",
    "            return player_plays.i\n",
    "\n",
    "print(player_plays())"
   ]
  },
  {
   "cell_type": "markdown",
   "metadata": {},
   "source": [
    "#### 8. Define a function that checks who won a round. \n",
    "The function should return 0 if there is a tie, 1 if the computer wins and 2 if the player wins."
   ]
  },
  {
   "cell_type": "code",
   "execution_count": 9,
   "metadata": {},
   "outputs": [
    {
     "name": "stdout",
     "output_type": "stream",
     "text": [
      "Your play (you must choose between rock, paper or scissors)? paper\n",
      "2\n"
     ]
    }
   ],
   "source": [
    "def round_winner() :\n",
    "    cpu_plays()\n",
    "    player_plays()\n",
    "    if cpu_plays.i == player_plays.i :\n",
    "        return 0\n",
    "    elif (cpu_plays.i == \"rock\" and player_plays.i == \"scissors\") or (cpu_plays.i == \"scissors\" and player_plays.i == \"paper\") or (cpu_plays.i == \"paper\" and player_plays.i == \"rock\") :\n",
    "        return 1\n",
    "    else :\n",
    "        return 2\n",
    "\n",
    "print(round_winner())"
   ]
  },
  {
   "cell_type": "markdown",
   "metadata": {},
   "source": [
    "#### 9. Define a function that prints the choice of the computer, the choice of the player and a message that announces who won the current round. \n",
    "You should also use this function to update the variables that count the number of rounds that the computer and the player have won. The score of the winner increases by one point. If there is a tie, the score does not increase."
   ]
  },
  {
   "cell_type": "code",
   "execution_count": 10,
   "metadata": {},
   "outputs": [
    {
     "name": "stdout",
     "output_type": "stream",
     "text": [
      "Your play (you must choose between rock, paper or scissors)? paper\n",
      "player plays: paper\n",
      "cpu plays: paper\n",
      "tie\n",
      "player score = 0\n",
      "cpu score = 0\n",
      "\n"
     ]
    }
   ],
   "source": [
    "def results() :\n",
    "    result = round_winner()\n",
    "    global cpu_score\n",
    "    global player_score\n",
    "    print(\"player plays:\", player_plays.i)\n",
    "    print(\"cpu plays:\", cpu_plays.i)\n",
    "    if result == 0 :\n",
    "        print(\"tie\")\n",
    "    if result == 1 :\n",
    "        cpu_score += 1\n",
    "        print(\"cpu wins\")\n",
    "    if result == 2 :\n",
    "        player_score += 1\n",
    "        print(\"player wins\")\n",
    "    print(\"player score =\", player_score)\n",
    "    print(\"cpu score =\", cpu_score)\n",
    "    print(\"\")\n",
    "\n",
    "results()"
   ]
  },
  {
   "cell_type": "markdown",
   "metadata": {},
   "source": [
    "#### 10. Now it's time to code the execution of the game using the functions and variables you defined above. \n",
    "\n",
    "First, create a loop structure that repeats while no player reaches the minimum score necessary to win and the number of rounds is less than the maximum number of rounds to play in a game.  \n",
    "\n",
    "Inside the loop, use the functions and variables above to create the execution of a round: ask for the player's choice, generate the random choice of the computer, show the round results, update the scores, etc. "
   ]
  },
  {
   "cell_type": "code",
   "execution_count": 11,
   "metadata": {},
   "outputs": [
    {
     "name": "stdout",
     "output_type": "stream",
     "text": [
      "Your play (you must choose between rock, paper or scissors)? rock\n",
      "player plays: rock\n",
      "cpu plays: rock\n",
      "tie\n",
      "player score = 0\n",
      "cpu score = 0\n",
      "\n",
      "Your play (you must choose between rock, paper or scissors)? rock\n",
      "player plays: rock\n",
      "cpu plays: rock\n",
      "tie\n",
      "player score = 0\n",
      "cpu score = 0\n",
      "\n",
      "Your play (you must choose between rock, paper or scissors)? rock\n",
      "player plays: rock\n",
      "cpu plays: rock\n",
      "tie\n",
      "player score = 0\n",
      "cpu score = 0\n",
      "\n",
      "Your play (you must choose between rock, paper or scissors)? rock\n",
      "player plays: rock\n",
      "cpu plays: rock\n",
      "tie\n",
      "player score = 0\n",
      "cpu score = 0\n",
      "\n",
      "Your play (you must choose between rock, paper or scissors)? rock\n",
      "player plays: rock\n",
      "cpu plays: paper\n",
      "cpu wins\n",
      "player score = 0\n",
      "cpu score = 1\n",
      "\n",
      "Your play (you must choose between rock, paper or scissors)? rock\n",
      "player plays: rock\n",
      "cpu plays: scissors\n",
      "player wins\n",
      "player score = 1\n",
      "cpu score = 1\n",
      "\n",
      "Your play (you must choose between rock, paper or scissors)? paper\n",
      "player plays: paper\n",
      "cpu plays: paper\n",
      "tie\n",
      "player score = 1\n",
      "cpu score = 1\n",
      "\n",
      "Your play (you must choose between rock, paper or scissors)? scissors\n",
      "player plays: scissors\n",
      "cpu plays: paper\n",
      "player wins\n",
      "player score = 2\n",
      "cpu score = 1\n",
      "\n",
      "Your play (you must choose between rock, paper or scissors)? paper\n",
      "player plays: paper\n",
      "cpu plays: paper\n",
      "tie\n",
      "player score = 2\n",
      "cpu score = 1\n",
      "\n"
     ]
    }
   ],
   "source": [
    "rounds = 1\n",
    "while player_score < rounds_to_win and cpu_score < rounds_to_win and rounds <= n_rounds :\n",
    "    results()\n",
    "    rounds += 1"
   ]
  },
  {
   "cell_type": "raw",
   "metadata": {},
   "source": [
    "11. Print the winner of the game based on who won more rounds.\n",
    "Remember that the game might be tied. "
   ]
  },
  {
   "cell_type": "code",
   "execution_count": 13,
   "metadata": {},
   "outputs": [
    {
     "name": "stdout",
     "output_type": "stream",
     "text": [
      "Player wins!\n"
     ]
    }
   ],
   "source": [
    "if player_score > cpu_score :\n",
    "    print(\"Player wins!\")\n",
    "elif cpu_score > player_score :\n",
    "    print(\"Cpu wins!\")\n",
    "else :\n",
    "    print(\"Tie\")"
   ]
  },
  {
   "cell_type": "markdown",
   "metadata": {},
   "source": [
    "# Bonus: Rock, Paper, Scissors, Lizard & Spock\n",
    "![](images/rpsls.jpg)\n",
    "\n",
    "In this challenge, you need to improve the previous game by adding two new options. To know more about the rules of the improved version of rock, paper, scissors, check this [link](http://www.samkass.com/theories/RPSSL.html). \n",
    "\n",
    "In addition, you will also need to improve how the game interacts with the player: the number of rounds to play, which must be an odd number, will be requested to the user until a valid number is entered. Define a new function to make that request.\n",
    "\n",
    "**Hint**: Try to reuse the code that you already coded in the previous challenge. If your code is efficient, this bonus will only consist of simple modifications to the original game."
   ]
  },
  {
   "cell_type": "code",
   "execution_count": 14,
   "metadata": {},
   "outputs": [
    {
     "name": "stdout",
     "output_type": "stream",
     "text": [
      "Number of rounds to play (it must be an odd number)? bla\n",
      "Number of rounds to play (it must be an odd number)? 10\n",
      "Number of rounds to play (it must be an odd number)? 7\n",
      "Your play (you must choose between rock, paper, scissors, lizard or spock)? rock\n",
      "player plays: rock\n",
      "cpu plays: rock\n",
      "tie\n",
      "player score = 0\n",
      "cpu score = 0\n",
      "\n",
      "Your play (you must choose between rock, paper, scissors, lizard or spock)? spock\n",
      "player plays: spock\n",
      "cpu plays: scissors\n",
      "player wins\n",
      "player score = 1\n",
      "cpu score = 0\n",
      "\n",
      "Your play (you must choose between rock, paper, scissors, lizard or spock)? paper\n",
      "player plays: paper\n",
      "cpu plays: scissors\n",
      "cpu wins\n",
      "player score = 1\n",
      "cpu score = 1\n",
      "\n",
      "Your play (you must choose between rock, paper, scissors, lizard or spock)? lizard\n",
      "player plays: lizard\n",
      "cpu plays: spock\n",
      "player wins\n",
      "player score = 2\n",
      "cpu score = 1\n",
      "\n",
      "Your play (you must choose between rock, paper, scissors, lizard or spock)? paper\n",
      "player plays: paper\n",
      "cpu plays: lizard\n",
      "cpu wins\n",
      "player score = 2\n",
      "cpu score = 2\n",
      "\n",
      "Your play (you must choose between rock, paper, scissors, lizard or spock)? spock\n",
      "player plays: spock\n",
      "cpu plays: spock\n",
      "tie\n",
      "player score = 2\n",
      "cpu score = 2\n",
      "\n",
      "Your play (you must choose between rock, paper, scissors, lizard or spock)? paper\n",
      "player plays: paper\n",
      "cpu plays: scissors\n",
      "cpu wins\n",
      "player score = 2\n",
      "cpu score = 3\n",
      "\n",
      "Cpu wins!\n"
     ]
    }
   ],
   "source": [
    "gestures_bonus = ['rock', 'paper', 'scissors', 'lizard', 'spock']\n",
    "cpu_score_bonus = 0\n",
    "player_score_bonus = 0\n",
    "\n",
    "def cpu_plays_bonus() :\n",
    "    cpu_plays_bonus.i = choice(gestures_bonus)\n",
    "    return cpu_plays_bonus.i\n",
    "\n",
    "def player_plays_bonus() :\n",
    "    player_plays_bonus.i = \"\"\n",
    "    while player_plays_bonus.i not in gestures_bonus :\n",
    "        player_plays_bonus.i = input(\"Your play (you must choose between rock, paper, scissors, lizard or spock)? \")\n",
    "        if player_plays_bonus.i == \"rock\" :\n",
    "            return player_plays_bonus.i\n",
    "        elif player_plays_bonus.i == \"paper\" :\n",
    "            return player_plays_bonus.i\n",
    "        elif player_plays_bonus.i == \"scissors\" :\n",
    "            return player_plays_bonus.i\n",
    "        elif player_plays_bonus.i == \"lizard\" :\n",
    "            return player_plays_bonus.i\n",
    "        elif player_plays_bonus.i == \"spock\" :\n",
    "            return player_plays_bonus.i\n",
    "\n",
    "def round_winner_bonus() :\n",
    "    cpu_plays_bonus()\n",
    "    player_plays_bonus()\n",
    "    if cpu_plays_bonus.i == player_plays_bonus.i :\n",
    "        return 0\n",
    "    elif (cpu_plays_bonus.i == \"rock\" and (player_plays_bonus.i == \"scissors\" or player_plays_bonus.i == \"lizard\")) or (cpu_plays_bonus.i == \"scissors\" and (player_plays_bonus.i == \"paper\" or player_plays_bonus.i == \"lizard\")) or (cpu_plays_bonus.i == \"paper\" and (player_plays_bonus.i == \"rock\" or player_plays_bonus.i == \"spock\")) or (cpu_plays_bonus.i == \"lizard\" and (player_plays_bonus.i == \"paper\" or player_plays_bonus.i == \"spock\")) or (cpu_plays_bonus.i == \"spock\" and (player_plays_bonus.i == \"scissors\" or player_plays_bonus.i == \"rock\")) :\n",
    "        return 1\n",
    "    else :\n",
    "        return 2\n",
    "\n",
    "def results_bonus() :\n",
    "    result_bonus = round_winner_bonus()\n",
    "    global cpu_score_bonus\n",
    "    global player_score_bonus\n",
    "    print(\"player plays:\", player_plays_bonus.i)\n",
    "    print(\"cpu plays:\", cpu_plays_bonus.i)\n",
    "    if result_bonus == 0 :\n",
    "        print(\"tie\")\n",
    "    if result_bonus == 1 :\n",
    "        cpu_score_bonus += 1\n",
    "        print(\"cpu wins\")\n",
    "    if result_bonus == 2 :\n",
    "        player_score_bonus += 1\n",
    "        print(\"player wins\")\n",
    "    print(\"player score =\", player_score_bonus)\n",
    "    print(\"cpu score =\", cpu_score_bonus)\n",
    "    print(\"\")\n",
    "\n",
    "n_rounds_bonus = \"\"\n",
    "while not n_rounds_bonus.isdigit() or int(n_rounds_bonus) % 2 == 0 :\n",
    "    n_rounds_bonus = input(\"Number of rounds to play (it must be an odd number)? \")\n",
    "n_rounds_bonus = int(n_rounds_bonus)\n",
    "\n",
    "rounds_to_win_bonus = n_rounds_bonus / 3\n",
    "rounds_bonus = 1\n",
    "while player_score_bonus < rounds_to_win_bonus and cpu_score_bonus < rounds_to_win_bonus and rounds_bonus <= n_rounds_bonus :\n",
    "    results_bonus()\n",
    "    rounds_bonus += 1\n",
    "    \n",
    "if player_score_bonus > cpu_score_bonus :\n",
    "    print(\"Player wins!\")\n",
    "elif cpu_score_bonus > player_score_bonus :\n",
    "    print(\"Cpu wins!\")\n",
    "else :\n",
    "    print(\"Tie\")"
   ]
  },
  {
   "cell_type": "code",
   "execution_count": null,
   "metadata": {},
   "outputs": [],
   "source": []
  }
 ],
 "metadata": {
  "kernelspec": {
   "display_name": "Python 3",
   "language": "python",
   "name": "python3"
  },
  "language_info": {
   "codemirror_mode": {
    "name": "ipython",
    "version": 3
   },
   "file_extension": ".py",
   "mimetype": "text/x-python",
   "name": "python",
   "nbconvert_exporter": "python",
   "pygments_lexer": "ipython3",
   "version": "3.7.4"
  }
 },
 "nbformat": 4,
 "nbformat_minor": 2
}
