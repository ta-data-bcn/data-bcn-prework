{
 "cells": [
  {
   "cell_type": "markdown",
   "metadata": {},
   "source": [
    "<img src=\"https://bit.ly/2VnXWr2\" width=\"100\" align=\"left\">"
   ]
  },
  {
   "cell_type": "markdown",
   "metadata": {},
   "source": [
    "# Rock, Paper & Scissors\n",
    "\n",
    "Let's play the famous game against our computer. You can check the rules [here](https://en.wikipedia.org/wiki/Rock%E2%80%93paper%E2%80%93scissors). \n",
    "\n",
    "## Task\n",
    "Create a program that imitates the playability of the well known game of rock, paper, scissors. Follow the guidelines provided.\n",
    "\n",
    "## Tools\n",
    "1. Loop: **for/while**\n",
    "2. Functions: **input(), print()...**\n",
    "3. Conditional statements: **if, elif, else**\n",
    "4. Definition of functions. Modular programming\n",
    "5. Import modules\n",
    "\n",
    "**To solve this challenge, the use of functions is recommended.**\n",
    "\n",
    "#### 1. Import the choice function of the random module."
   ]
  },
  {
   "cell_type": "code",
   "execution_count": 1,
   "metadata": {},
   "outputs": [],
   "source": [
    "import random"
   ]
  },
  {
   "cell_type": "markdown",
   "metadata": {},
   "source": [
    "#### 2. Create a list that includes the 3 possible gesture options of the game: 'rock', 'paper' or 'scissors'. Store the list in a variable called `gestures`."
   ]
  },
  {
   "cell_type": "code",
   "execution_count": 2,
   "metadata": {},
   "outputs": [],
   "source": [
    "gestures = [\"rock\", \"paper\", \"scissors\"]"
   ]
  },
  {
   "cell_type": "markdown",
   "metadata": {},
   "source": [
    "#### 3. Create a variable called `n_rounds` to store the maximum number of rounds to play in a game. \n",
    "Remember that the number of rounds must be odd: 1, 3, 5, ..."
   ]
  },
  {
   "cell_type": "code",
   "execution_count": 3,
   "metadata": {},
   "outputs": [],
   "source": [
    "n_rounds = 5"
   ]
  },
  {
   "cell_type": "markdown",
   "metadata": {},
   "source": [
    "#### 4. Create a variable called `rounds_to_win` to store the number of rounds that a player must win to win the game.\n",
    "**Hint**: the value stored in `rounds_to_win` depends on the value of `n_rounds`. "
   ]
  },
  {
   "cell_type": "code",
   "execution_count": 4,
   "metadata": {},
   "outputs": [],
   "source": [
    "rounds_to_win = int(n_rounds/2) + 1"
   ]
  },
  {
   "cell_type": "markdown",
   "metadata": {},
   "source": [
    "#### 5. Create two variables to store the number of rounds that the computer and the player have won. Call these variables `cpu_score` and `player_score`."
   ]
  },
  {
   "cell_type": "code",
   "execution_count": 5,
   "metadata": {},
   "outputs": [],
   "source": [
    "cpu_score = 0\n",
    "player_score = 0"
   ]
  },
  {
   "cell_type": "markdown",
   "metadata": {},
   "source": [
    "#### 6. Define a function that randomly returns one of the 3 gesture options.\n",
    "You will use this function to simulate the gesture choice of the computer. "
   ]
  },
  {
   "cell_type": "code",
   "execution_count": 6,
   "metadata": {},
   "outputs": [],
   "source": [
    "def get_cpu_gesture():\n",
    "  cpu_gesture = random.choice(gestures)\n",
    "  return cpu_gesture"
   ]
  },
  {
   "cell_type": "markdown",
   "metadata": {},
   "source": [
    "#### 7. Define a function that asks the player which is the gesture he or she wants to show: 'rock', 'paper' or 'scissors'.\n",
    "The player should only be allowed to choose one of the 3 gesture options. If the player's choice is not rock, paper or scissors, keep asking until it is."
   ]
  },
  {
   "cell_type": "code",
   "execution_count": 7,
   "metadata": {},
   "outputs": [],
   "source": [
    "def get_player_gesture():\n",
    "  player_gesture = input(\"Choose an option - rock, paper or scissors: \").casefold()\n",
    "  while player_gesture not in gestures:\n",
    "    player_gesture = input(\"You must choose a valid option! rock, paper or scissors: \").casefold()\n",
    "  return player_gesture"
   ]
  },
  {
   "cell_type": "markdown",
   "metadata": {},
   "source": [
    "#### 8. Define a function that checks who won a round. \n",
    "The function should return 0 if there is a tie, 1 if the computer wins and 2 if the player wins."
   ]
  },
  {
   "cell_type": "code",
   "execution_count": 8,
   "metadata": {},
   "outputs": [],
   "source": [
    "def check_winner(player_gesture, cpu_gesture):\n",
    "  if player_gesture == \"rock\":\n",
    "    if cpu_gesture == \"paper\":\n",
    "      return 1\n",
    "    elif cpu_gesture == \"rock\":\n",
    "      return 0\n",
    "    else:\n",
    "      return 2\n",
    "  elif player_gesture == \"paper\":\n",
    "    if cpu_gesture == \"scissors\":\n",
    "      return 1\n",
    "    elif cpu_gesture == \"paper\":\n",
    "      return 0\n",
    "    else:\n",
    "      return 2\n",
    "  elif player_gesture == \"scissors\":\n",
    "    if cpu_gesture == \"rock\":\n",
    "      return 1\n",
    "    elif cpu_gesture == \"scissors\":\n",
    "      return 0\n",
    "    else:\n",
    "      return 2"
   ]
  },
  {
   "cell_type": "markdown",
   "metadata": {},
   "source": [
    "#### 9. Define a function that prints the choice of the computer, the choice of the player and a message that announces who won the current round. \n",
    "You should also use this function to update the variables that count the number of rounds that the computer and the player have won. The score of the winner increases by one point. If there is a tie, the score does not increase."
   ]
  },
  {
   "cell_type": "code",
   "execution_count": 9,
   "metadata": {},
   "outputs": [],
   "source": [
    "def round_results(player_gesture, cpu_gesture):\n",
    "  print (\"Your choice:\", player_gesture)\n",
    "  print(\"Computer's choice:\", cpu_gesture)\n",
    "  result = check_winner(player_gesture, cpu_gesture)\n",
    "  if result == 0:\n",
    "    print(\"It's a tie!\")\n",
    "  if result == 1:\n",
    "    print(\"Computer wins the round!\")\n",
    "    global cpu_score\n",
    "    cpu_score += 1\n",
    "    return cpu_score\n",
    "  if result == 2:\n",
    "    print(\"You win the round!\")\n",
    "    global player_score \n",
    "    player_score += 1\n",
    "    return player_score "
   ]
  },
  {
   "cell_type": "markdown",
   "metadata": {},
   "source": [
    "#### 10. Now it's time to code the execution of the game using the functions and variables you defined above. \n",
    "\n",
    "First, create a loop structure that repeats while no player reaches the minimum score necessary to win and the number of rounds is less than the maximum number of rounds to play in a game.  \n",
    "\n",
    "Inside the loop, use the functions and variables above to create the execution of a round: ask for the player's choice, generate the random choice of the computer, show the round results, update the scores, etc. "
   ]
  },
  {
   "cell_type": "code",
   "execution_count": 10,
   "metadata": {},
   "outputs": [
    {
     "name": "stdout",
     "output_type": "stream",
     "text": [
      "\n",
      "PLAYING THE BEST IN 5 ROUNDS...\n",
      "\n",
      "ROUND 1 !\n",
      "Choose an option - rock, paper or scissors: d\n",
      "You must choose a valid option! rock, paper or scissors: ro\n",
      "You must choose a valid option! rock, paper or scissors: ROCK\n",
      "Your choice: rock\n",
      "Computer's choice: rock\n",
      "It's a tie!\n",
      "\n",
      "ROUND 2 !\n",
      "Choose an option - rock, paper or scissors: SCISSORS\n",
      "Your choice: scissors\n",
      "Computer's choice: rock\n",
      "Computer wins the round!\n",
      "\n",
      "ROUND 3 !\n",
      "Choose an option - rock, paper or scissors: SCISSORS\n",
      "Your choice: scissors\n",
      "Computer's choice: rock\n",
      "Computer wins the round!\n",
      "\n",
      "ROUND 4 !\n",
      "Choose an option - rock, paper or scissors: PAPER\n",
      "Your choice: paper\n",
      "Computer's choice: rock\n",
      "You win the round!\n",
      "\n",
      "ROUND 5 !\n",
      "Choose an option - rock, paper or scissors: ROCK\n",
      "Your choice: rock\n",
      "Computer's choice: paper\n",
      "Computer wins the round!\n"
     ]
    }
   ],
   "source": [
    "played_rounds = 0\n",
    "print(\"\")\n",
    "print (\"PLAYING THE BEST IN\", n_rounds, \"ROUNDS...\")\n",
    "while played_rounds < n_rounds and player_score < rounds_to_win and cpu_score < rounds_to_win:\n",
    "  played_rounds +=1\n",
    "  print(\"\")\n",
    "  print(\"ROUND\", played_rounds, \"!\")\n",
    "  player_gesture = get_player_gesture()\n",
    "  cpu_gesture = get_cpu_gesture()\n",
    "  round_results(player_gesture, cpu_gesture)"
   ]
  },
  {
   "cell_type": "markdown",
   "metadata": {},
   "source": [
    "#### 11. Print the winner of the game based on who won more rounds.\n",
    "Remember that the game might be tied. "
   ]
  },
  {
   "cell_type": "code",
   "execution_count": 11,
   "metadata": {},
   "outputs": [
    {
     "name": "stdout",
     "output_type": "stream",
     "text": [
      "\n",
      "FINAL GAME RESULT: YOU LOSE!\n"
     ]
    }
   ],
   "source": [
    "print(\"\")\n",
    "if player_score > cpu_score:\n",
    "  print(\"FINAL GAME RESULT: YOU WIN!\")\n",
    "elif player_score < cpu_score :\n",
    "  print(\"FINAL GAME RESULT: YOU LOSE!\")\n",
    "else:\n",
    "  print(\"FINAL GAME RESULT: IT'S A TIE!\") "
   ]
  },
  {
   "cell_type": "markdown",
   "metadata": {},
   "source": [
    "# Bonus: Rock, Paper, Scissors, Lizard & Spock\n",
    "![](images/rpsls.jpg)\n",
    "\n",
    "In this challenge, you need to improve the previous game by adding two new options. To know more about the rules of the improved version of rock, paper, scissors, check this [link](http://www.samkass.com/theories/RPSSL.html). \n",
    "\n",
    "In addition, you will also need to improve how the game interacts with the player: the number of rounds to play, which must be an odd number, will be requested to the user until a valid number is entered. Define a new function to make that request.\n",
    "\n",
    "**Hint**: Try to reuse the code that you already coded in the previous challenge. If your code is efficient, this bonus will only consist of simple modifications to the original game."
   ]
  },
  {
   "cell_type": "code",
   "execution_count": null,
   "metadata": {},
   "outputs": [],
   "source": []
  },
  {
   "cell_type": "code",
   "execution_count": 12,
   "metadata": {},
   "outputs": [
    {
     "name": "stdout",
     "output_type": "stream",
     "text": [
      "\n",
      "How many rounds do you wish to play? (please choose an odd number bigger than zero): 3\n",
      "\n",
      "PLAYING THE BEST IN 3 ROUNDS...\n",
      "\n",
      "ROUND 1 !\n",
      "Choose an option: rock, paper, scissors, lizard or spock: LIZARD\n",
      "Your choice: lizard\n",
      "Computer's choice: rock\n",
      "Computer wins the round!\n",
      "\n",
      "ROUND 2 !\n",
      "Choose an option: rock, paper, scissors, lizard or spock: sPOck\n",
      "Your choice: spock\n",
      "Computer's choice: rock\n",
      "You win the round!\n",
      "\n",
      "ROUND 3 !\n",
      "Choose an option: rock, paper, scissors, lizard or spock: scissors\n",
      "Your choice: scissors\n",
      "Computer's choice: paper\n",
      "You win the round!\n",
      "\n",
      "FINAL GAME RESULT: YOU WIN!\n"
     ]
    }
   ],
   "source": [
    "## Scissors cuts Paper covers Rock crushes Lizard poisons Spock smashes Scissors decapitates Lizard eats Paper disproves Spock vaporizes Rock crushes Scissors\n",
    "\n",
    "import random\n",
    "\n",
    "gestures = [\"rock\", \"paper\", \"scissors\", \"lizard\", \"spock\"]\n",
    "\n",
    "n_rounds = 0\n",
    "print(\"\")\n",
    "while n_rounds <= 0 or n_rounds%2 == 0:\n",
    "  n_rounds = int(input(\"How many rounds do you wish to play? (please choose an odd number bigger than zero): \"))\n",
    "\n",
    "rounds_to_win = int(n_rounds/2) + 1\n",
    "\n",
    "cpu_score = 0\n",
    "player_score = 0\n",
    "\n",
    "\n",
    "def get_cpu_gesture():\n",
    "  cpu_gesture = random.choice(gestures)\n",
    "  return cpu_gesture\n",
    "\n",
    "\n",
    "def get_player_gesture():\n",
    "  player_gesture = input(\"Choose an option: rock, paper, scissors, lizard or spock: \").casefold()\n",
    "  while player_gesture not in gestures:\n",
    "    player_gesture = input(\"You must choose a valid option! rock, paper, scissors, lizard or spock: \").casefold()\n",
    "  return player_gesture\n",
    "\n",
    "\n",
    "def check_winner(player_gesture, cpu_gesture):\n",
    "  if player_gesture == \"rock\":\n",
    "    if cpu_gesture == \"paper\" or cpu_gesture == \"spock\":\n",
    "      return 1\n",
    "    if cpu_gesture == \"rock\":\n",
    "      return 0\n",
    "    else:\n",
    "      return 2\n",
    "  elif player_gesture == \"paper\":\n",
    "    if cpu_gesture == \"scissors\" or cpu_gesture == \"lizard\":\n",
    "      return 1\n",
    "    if cpu_gesture == \"paper\":\n",
    "      return 0\n",
    "    else:\n",
    "      return 2\n",
    "  elif player_gesture == \"scissors\":\n",
    "    if cpu_gesture == \"rock\" or cpu_gesture == \"spock\":\n",
    "      return 1\n",
    "    if cpu_gesture == \"scissors\":\n",
    "      return 0\n",
    "    else:\n",
    "      return 2\n",
    "  elif player_gesture == \"lizard\":\n",
    "    if cpu_gesture == \"rock\" or cpu_gesture == \"scissors\":\n",
    "      return 1\n",
    "    if cpu_gesture == \"lizard\":\n",
    "      return 0\n",
    "    else:\n",
    "      return 2\n",
    "  elif player_gesture == \"spock\":\n",
    "    if cpu_gesture == \"paper\" or cpu_gesture == \"lizard\":\n",
    "      return 1\n",
    "    if cpu_gesture == \"spock\":\n",
    "      return 0\n",
    "    else:\n",
    "      return 2\n",
    "\n",
    "\n",
    "def round_results(player_gesture, cpu_gesture):\n",
    "  print (\"Your choice:\", player_gesture)\n",
    "  print(\"Computer's choice:\", cpu_gesture)\n",
    "  result = check_winner(player_gesture, cpu_gesture)\n",
    "  if result == 0:\n",
    "    print(\"It's a tie!\")\n",
    "  if result == 1:\n",
    "    print(\"Computer wins the round!\")\n",
    "    global cpu_score\n",
    "    cpu_score += 1\n",
    "    return cpu_score\n",
    "  if result == 2:\n",
    "    print(\"You win the round!\")\n",
    "    global player_score \n",
    "    player_score += 1\n",
    "    return player_score \n",
    "\n",
    "\n",
    "played_rounds = 0\n",
    "print(\"\")\n",
    "print (\"PLAYING THE BEST IN\", n_rounds, \"ROUNDS...\")\n",
    "while played_rounds < n_rounds and player_score < rounds_to_win and cpu_score < rounds_to_win:\n",
    "  played_rounds +=1\n",
    "  print(\"\")\n",
    "  print(\"ROUND\", played_rounds, \"!\")\n",
    "  player_gesture = get_player_gesture()\n",
    "  cpu_gesture = get_cpu_gesture()\n",
    "  round_results(player_gesture, cpu_gesture)\n",
    "  \n",
    "\n",
    "print(\"\")\n",
    "if player_score > cpu_score:\n",
    "  print(\"FINAL GAME RESULT: YOU WIN!\")\n",
    "elif player_score < cpu_score:\n",
    "  print(\"FINAL GAME RESULT: YOU LOSE!\")\n",
    "else:\n",
    "  print(\"FINAL GAME RESULT: IT'S A TIE!\") "
   ]
  },
  {
   "cell_type": "code",
   "execution_count": null,
   "metadata": {},
   "outputs": [],
   "source": []
  }
 ],
 "metadata": {
  "kernelspec": {
   "display_name": "Python 3",
   "language": "python",
   "name": "python3"
  },
  "language_info": {
   "codemirror_mode": {
    "name": "ipython",
    "version": 3
   },
   "file_extension": ".py",
   "mimetype": "text/x-python",
   "name": "python",
   "nbconvert_exporter": "python",
   "pygments_lexer": "ipython3",
   "version": "3.7.4"
  }
 },
 "nbformat": 4,
 "nbformat_minor": 2
}
