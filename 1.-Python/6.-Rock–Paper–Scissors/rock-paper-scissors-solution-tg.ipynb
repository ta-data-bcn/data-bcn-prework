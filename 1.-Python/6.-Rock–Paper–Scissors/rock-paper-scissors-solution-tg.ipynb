{
 "cells": [
  {
   "cell_type": "markdown",
   "metadata": {},
   "source": [
    "<img src=\"https://bit.ly/2VnXWr2\" width=\"100\" align=\"left\">"
   ]
  },
  {
   "cell_type": "markdown",
   "metadata": {},
   "source": [
    "# Rock, Paper & Scissors\n",
    "\n",
    "Let's play the famous game against our computer. You can check the rules [here](https://en.wikipedia.org/wiki/Rock%E2%80%93paper%E2%80%93scissors). \n",
    "\n",
    "## Task\n",
    "Create a program that imitates the playability of the well known game of rock, paper, scissors. Follow the guidelines provided.\n",
    "\n",
    "## Tools\n",
    "1. Loop: **for/while**\n",
    "2. Functions: **input(), print()...**\n",
    "3. Conditional statements: **if, elif, else**\n",
    "4. Definition of functions. Modular programming\n",
    "5. Import modules\n",
    "\n",
    "**To solve this challenge, the use of functions is recommended.**\n",
    "\n",
    "#### 1. Import the choice function of the random module."
   ]
  },
  {
   "cell_type": "code",
   "execution_count": 1,
   "metadata": {},
   "outputs": [],
   "source": [
    "import random "
   ]
  },
  {
   "cell_type": "markdown",
   "metadata": {},
   "source": [
    "#### 2. Create a list that includes the 3 possible gesture options of the game: 'rock', 'paper' or 'scissors'. Store the list in a variable called `gestures`."
   ]
  },
  {
   "cell_type": "code",
   "execution_count": 2,
   "metadata": {},
   "outputs": [],
   "source": [
    "gestures=[\"rock\",\"paper\",\"scissors\"]"
   ]
  },
  {
   "cell_type": "markdown",
   "metadata": {},
   "source": [
    "#### 3. Create a variable called `n_rounds` to store the maximum number of rounds to play in a game. \n",
    "Remember that the number of rounds must be odd: 1, 3, 5, ..."
   ]
  },
  {
   "cell_type": "code",
   "execution_count": 3,
   "metadata": {},
   "outputs": [
    {
     "name": "stdout",
     "output_type": "stream",
     "text": [
      "Enter the number of rounds, number has to be odd: 5\n"
     ]
    }
   ],
   "source": [
    "while True:\n",
    "    n_rounds = int(input(\"Enter the number of rounds, number has to be odd: \"))\n",
    "    if n_rounds%2==0 or n_rounds<1:\n",
    "        continue\n",
    "    elif n_rounds%2!=0 and n_rounds>=1:\n",
    "        break\n",
    "\n",
    "\n",
    "#check if text inputs can be excluded"
   ]
  },
  {
   "cell_type": "markdown",
   "metadata": {},
   "source": [
    "## 4. Create a variable called `rounds_to_win` to store the number of rounds that a player must win to win the game.\n",
    "**Hint**: the value stored in `rounds_to_win` depends on the value of `n_rounds`. "
   ]
  },
  {
   "cell_type": "code",
   "execution_count": 4,
   "metadata": {},
   "outputs": [],
   "source": [
    "rounds_to_win=int(n_rounds/2)+1"
   ]
  },
  {
   "cell_type": "markdown",
   "metadata": {},
   "source": [
    "#### 5. Create two variables to store the number of rounds that the computer and the player have won. Call these variables `cpu_score` and `player_score`."
   ]
  },
  {
   "cell_type": "code",
   "execution_count": 5,
   "metadata": {},
   "outputs": [],
   "source": [
    "cpu_score=0\n",
    "player_score=0"
   ]
  },
  {
   "cell_type": "markdown",
   "metadata": {},
   "source": [
    "#### 6. Define a function that randomly returns one of the 3 gesture options.\n",
    "You will use this function to simulate the gesture choice of the computer. "
   ]
  },
  {
   "cell_type": "code",
   "execution_count": 6,
   "metadata": {},
   "outputs": [],
   "source": [
    "choice_computer=random.choice(gestures)"
   ]
  },
  {
   "cell_type": "markdown",
   "metadata": {},
   "source": [
    "#### 7. Define a function that asks the player which is the gesture he or she wants to show: 'rock', 'paper' or 'scissors'.\n",
    "The player should only be allowed to choose one of the 3 gesture options. If the player's choice is not rock, paper or scissors, keep asking until it is."
   ]
  },
  {
   "cell_type": "code",
   "execution_count": 9,
   "metadata": {},
   "outputs": [
    {
     "name": "stdout",
     "output_type": "stream",
     "text": [
      "Choose between one of the 3 gesture options: Rock, Paper or Scissors: jhgghghj\n",
      "Choose between one of the 3 gesture options: Rock, Paper or Scissors: rock\n"
     ]
    }
   ],
   "source": [
    "while True:\n",
    "        choice_player = input(\"Choose between one of the 3 gesture options: Rock, Paper or Scissors: \")\n",
    "        if choice_player.lower()==\"rock\" or choice_player.lower()==\"paper\" or choice_player.lower()==\"scissors\":\n",
    "            break\n",
    "        else: continue "
   ]
  },
  {
   "cell_type": "raw",
   "metadata": {},
   "source": [
    "#### 8. Define a function that checks who won a round. \n",
    "The function should return 0 if there is a tie, 1 if the computer wins and 2 if the player wins."
   ]
  },
  {
   "cell_type": "code",
   "execution_count": 10,
   "metadata": {},
   "outputs": [
    {
     "name": "stdout",
     "output_type": "stream",
     "text": [
      "0\n"
     ]
    }
   ],
   "source": [
    "if choice_computer==\"scissors\" and choice_player.lower()==\"paper\":\n",
    "        winner=1\n",
    "elif choice_computer==\"paper\" and choice_player.lower()==\"rock\":\n",
    "        winner=1\n",
    "elif choice_computer==\"rock\" and choice_player.lower()==\"scissors\":\n",
    "        winner=1\n",
    "elif choice_computer==\"paper\" and choice_player.lower()==\"scissors\":\n",
    "        winner=2\n",
    "elif choice_computer==\"rock\" and choice_player.lower()==\"paper\":\n",
    "        winner=2\n",
    "elif choice_computer==\"scissors\" and choice_player.lower()==\"rock\":\n",
    "        winner=2\n",
    "else: winner=0\n",
    "print(winner)    "
   ]
  },
  {
   "cell_type": "markdown",
   "metadata": {},
   "source": [
    "#### 9. Define a function that prints the choice of the computer, the choice of the player and a message that announces who won the current round. \n",
    "You should also use this function to update the variables that count the number of rounds that the computer and the player have won. The score of the winner increases by one point. If there is a tie, the score does not increase."
   ]
  },
  {
   "cell_type": "code",
   "execution_count": 11,
   "metadata": {},
   "outputs": [
    {
     "name": "stdout",
     "output_type": "stream",
     "text": [
      "Computer chose: rock\n",
      "Player chose: rock\n",
      "No winner of this round: Tie\n",
      "Player Score: 0\n",
      "Computer Score: 0\n"
     ]
    }
   ],
   "source": [
    "print(\"Computer chose:\",choice_computer)\n",
    "print(\"Player chose:\",choice_player.lower())\n",
    "if winner==1:\n",
    "    print(\"Winner of this round is: Computer\")\n",
    "    cpu_score+=1\n",
    "elif winner==2:\n",
    "    print(\"Winner of this round is: Player\")\n",
    "    player_score+=1\n",
    "else:\n",
    "    print(\"No winner of this round: Tie\")\n",
    "print(\"Player Score:\",player_score)\n",
    "print(\"Computer Score:\",cpu_score)"
   ]
  },
  {
   "cell_type": "markdown",
   "metadata": {},
   "source": [
    "#### 10. Now it's time to code the execution of the game using the functions and variables you defined above. \n",
    "\n",
    "First, create a loop structure that repeats while no player reaches the minimum score necessary to win and the number of rounds is less than the maximum number of rounds to play in a game.  \n",
    "\n",
    "Inside the loop, use the functions and variables above to create the execution of a round: ask for the player's choice, generate the random choice of the computer, show the round results, update the scores, etc. "
   ]
  },
  {
   "cell_type": "code",
   "execution_count": 12,
   "metadata": {},
   "outputs": [
    {
     "name": "stdout",
     "output_type": "stream",
     "text": [
      "Enter the number of rounds, number has to be odd: 1\n",
      "\n",
      "Choose between one of the 3 gesture options: Rock, Paper or Scissors: rock\n",
      "\n",
      "Computer chose: scissors\n",
      "Player chose: rock\n",
      "Winner of this round is: Player\n",
      "Player Score: 1\n",
      "Computer Score: 0\n",
      "\n",
      "Game finished - required # of rounds for winning this game have been won\n"
     ]
    }
   ],
   "source": [
    "import random\n",
    "while True:\n",
    "    n_rounds = int(input(\"Enter the number of rounds, number has to be odd: \"))\n",
    "    if n_rounds%2==0 or n_rounds<1:\n",
    "        continue\n",
    "    elif n_rounds%2!=0 and n_rounds>=1:\n",
    "        break\n",
    "print(\"\")        \n",
    "gestures=['rock','paper','scissors']\n",
    "rounds_to_win=int(n_rounds/2)+1\n",
    "cpu_score=0\n",
    "player_score=0\n",
    "while True:\n",
    "    n_rounds-=1\n",
    "    if n_rounds <0:\n",
    "        print(\"Game finished - all rounds have been played\")\n",
    "        break\n",
    "    while True:\n",
    "        choice_player = input(\"Choose between one of the 3 gesture options: Rock, Paper or Scissors: \")\n",
    "        if choice_player.lower()==\"rock\" or choice_player.lower()==\"paper\" or choice_player.lower()==\"scissors\":\n",
    "            break\n",
    "        else: continue  \n",
    "    print(\"\")\n",
    "    choice_computer=random.choice(gestures)\n",
    "    if choice_computer==\"scissors\" and choice_player.lower()==\"paper\":\n",
    "        winner=1\n",
    "    elif choice_computer==\"paper\" and choice_player.lower()==\"rock\":\n",
    "        winner=1\n",
    "    elif choice_computer==\"rock\" and choice_player.lower()==\"scissors\":\n",
    "        winner=1\n",
    "    elif choice_computer==\"paper\" and choice_player.lower()==\"scissors\":\n",
    "        winner=2\n",
    "    elif choice_computer==\"rock\" and choice_player.lower()==\"paper\":\n",
    "        winner=2\n",
    "    elif choice_computer==\"scissors\" and choice_player.lower()==\"rock\":\n",
    "        winner=2\n",
    "    else: winner=0\n",
    "      \n",
    "    print(\"Computer chose:\",choice_computer)\n",
    "    print(\"Player chose:\",choice_player.lower())\n",
    "    if winner==1:\n",
    "        print(\"Winner of this round is: Computer\")\n",
    "        cpu_score+=1\n",
    "    elif winner==2:\n",
    "        print(\"Winner of this round is: Player\")\n",
    "        player_score+=1\n",
    "    elif winner==0:\n",
    "        print(\"No winner of this round: Tie\")\n",
    "    print(\"Player Score:\",player_score)\n",
    "    print(\"Computer Score:\",cpu_score)\n",
    "    print(\"\")\n",
    "    if player_score==rounds_to_win or cpu_score==rounds_to_win:\n",
    "        print(\"Game finished - required # of rounds for winning this game have been won\")\n",
    "        break"
   ]
  },
  {
   "cell_type": "raw",
   "metadata": {},
   "source": [
    "#### 11. Print the winner of the game based on who won more rounds.\n",
    "Remember that the game might be tied. "
   ]
  },
  {
   "cell_type": "code",
   "execution_count": 13,
   "metadata": {},
   "outputs": [
    {
     "name": "stdout",
     "output_type": "stream",
     "text": [
      "Rounds won by player: 1\n",
      "Rounds won by computer: 0\n",
      "The winner is: Player\n"
     ]
    }
   ],
   "source": [
    "print(\"Rounds won by player:\",player_score)\n",
    "print(\"Rounds won by computer:\",cpu_score)\n",
    "\n",
    "\n",
    "if cpu_score>player_score:\n",
    "    print(\"The winner is: Computer\")\n",
    "if cpu_score<player_score:\n",
    "    print(\"The winner is: Player\")\n",
    "if cpu_score==player_score:\n",
    "    print(\"Tie - no winner of this game\")\n",
    "    "
   ]
  },
  {
   "cell_type": "markdown",
   "metadata": {},
   "source": [
    "# Bonus: Rock, Paper, Scissors, Lizard & Spock\n",
    "![](images/rpsls.jpg)\n",
    "\n",
    "In this challenge, you need to improve the previous game by adding two new options. To know more about the rules of the improved version of rock, paper, scissors, check this [link](http://www.samkass.com/theories/RPSSL.html). \n",
    "\n",
    "In addition, you will also need to improve how the game interacts with the player: the number of rounds to play, which must be an odd number, will be requested to the user until a valid number is entered. Define a new function to make that request.\n",
    "\n",
    "**Hint**: Try to reuse the code that you already coded in the previous challenge. If your code is efficient, this bonus will only consist of simple modifications to the original game."
   ]
  },
  {
   "cell_type": "code",
   "execution_count": 14,
   "metadata": {},
   "outputs": [
    {
     "name": "stdout",
     "output_type": "stream",
     "text": [
      "Enter the number of rounds, number has to be odd: 3\n",
      "\n",
      "Choose between one of the 5 gesture options: Rock, Paper, Scissors, Lizard or Spock: paper\n",
      "\n",
      "Computer chose: rock\n",
      "Player chose: paper\n",
      "Winner of this round is: Player\n",
      "Player Score: 1\n",
      "Computer Score: 0\n",
      "\n",
      "Choose between one of the 5 gesture options: Rock, Paper, Scissors, Lizard or Spock: lizard\n",
      "\n",
      "Computer chose: rock\n",
      "Player chose: lizard\n",
      "Winner of this round is: Computer\n",
      "Player Score: 1\n",
      "Computer Score: 1\n",
      "\n",
      "Choose between one of the 5 gesture options: Rock, Paper, Scissors, Lizard or Spock: spock\n",
      "\n",
      "Computer chose: scissors\n",
      "Player chose: spock\n",
      "Winner of this round is: Player\n",
      "Player Score: 2\n",
      "Computer Score: 1\n",
      "\n",
      "Game finished - required # of rounds for winning this game have been won\n",
      "\n",
      "Rounds won by player: 2\n",
      "Rounds won by computer: 1\n",
      "The winner is: Player\n"
     ]
    }
   ],
   "source": [
    "import random\n",
    "while True:\n",
    "    n_rounds = int(input(\"Enter the number of rounds, number has to be odd: \"))\n",
    "    if n_rounds%2==0 or n_rounds<1:\n",
    "        continue\n",
    "    elif n_rounds%2!=0 and n_rounds>=1:\n",
    "        break\n",
    "print(\"\")        \n",
    "gestures=['rock','paper','scissors','spock','scissors']\n",
    "rounds_to_win=int(n_rounds/2)+1\n",
    "cpu_score=0\n",
    "player_score=0\n",
    "while True:\n",
    "    n_rounds-=1\n",
    "    if n_rounds <0:\n",
    "        print(\"Game finished - all rounds have been played\")\n",
    "        break\n",
    "    while True:\n",
    "        choice_player = input(\"Choose between one of the 5 gesture options: Rock, Paper, Scissors, Lizard or Spock: \")\n",
    "        if choice_player.lower()==\"rock\" or choice_player.lower()==\"paper\" or choice_player.lower()==\"scissors\" or choice_player.lower()==\"lizard\" or choice_player.lower()==\"spock\":\n",
    "            break\n",
    "        else: continue \n",
    "    print(\"\")\n",
    "    choice_computer=random.choice(gestures)\n",
    "    if choice_computer==\"scissors\" and (choice_player.lower()==\"paper\" or choice_player.lower()==\"lizard\"):\n",
    "        winner=1\n",
    "    elif choice_computer==\"paper\" and (choice_player.lower()==\"rock\" or choice_player.lower()==\"spock\"):\n",
    "        winner=1\n",
    "    elif choice_computer==\"rock\" and (choice_player.lower()==\"scissors\" or choice_player.lower()==\"lizard\"):\n",
    "        winner=1\n",
    "    elif choice_computer==\"lizard\" and (choice_player.lower()==\"spock\" or choice_player.lower()==\"paper\"):\n",
    "        winner=1   \n",
    "    elif choice_computer==\"spock\" and (choice_player.lower()==\"rock\" or choice_player.lower()==\"scissors\"):\n",
    "        winner=1    \n",
    "        \n",
    "    elif (choice_computer==\"paper\" or choice_computer==\"lizard\") and choice_player.lower()==\"scissors\":\n",
    "        winner=2\n",
    "    elif (choice_computer==\"rock\" or choice_computer==\"spock\") and choice_player.lower()==\"paper\":\n",
    "        winner=2\n",
    "    elif (choice_computer==\"scissors\" or choice_computer==\"lizard\") and choice_player.lower()==\"rock\":\n",
    "        winner=2\n",
    "    elif (choice_computer==\"spock\" or choice_computer==\"paper\") and choice_player.lower()==\"lizard\":\n",
    "        winner=2\n",
    "    elif (choice_computer==\"rock\" or choice_computer==\"scissors\") and choice_player.lower()==\"spock\":\n",
    "        winner=2    \n",
    "    else: winner=0\n",
    "      \n",
    "    print(\"Computer chose:\",choice_computer)\n",
    "    print(\"Player chose:\",choice_player.lower())\n",
    "    if winner==1:\n",
    "        print(\"Winner of this round is: Computer\")\n",
    "        cpu_score+=1\n",
    "    elif winner==2:\n",
    "        print(\"Winner of this round is: Player\")\n",
    "        player_score+=1\n",
    "    elif winner==0:\n",
    "        print(\"No winner of this round: Tie\")\n",
    "    print(\"Player Score:\",player_score)\n",
    "    print(\"Computer Score:\",cpu_score)\n",
    "    print(\"\")\n",
    "    if player_score==rounds_to_win or cpu_score==rounds_to_win:\n",
    "        print(\"Game finished - required # of rounds for winning this game have been won\")\n",
    "        break\n",
    "print(\"\")\n",
    "print(\"Rounds won by player:\",player_score)\n",
    "print(\"Rounds won by computer:\",cpu_score)\n",
    "\n",
    "\n",
    "if cpu_score>player_score:\n",
    "    print(\"The winner is: Computer\")\n",
    "if cpu_score<player_score:\n",
    "    print(\"The winner is: Player\")\n",
    "if cpu_score==player_score:\n",
    "    print(\"Tie - no winner of this game\")"
   ]
  }
 ],
 "metadata": {
  "kernelspec": {
   "display_name": "Python 3",
   "language": "python",
   "name": "python3"
  },
  "language_info": {
   "codemirror_mode": {
    "name": "ipython",
    "version": 3
   },
   "file_extension": ".py",
   "mimetype": "text/x-python",
   "name": "python",
   "nbconvert_exporter": "python",
   "pygments_lexer": "ipython3",
   "version": "3.7.5"
  }
 },
 "nbformat": 4,
 "nbformat_minor": 2
}
