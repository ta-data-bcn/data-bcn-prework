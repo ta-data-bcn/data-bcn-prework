{
 "cells": [
  {
   "cell_type": "markdown",
   "metadata": {},
   "source": [
    "<img src=\"https://bit.ly/2VnXWr2\" width=\"100\" align=\"left\">"
   ]
  },
  {
   "cell_type": "markdown",
   "metadata": {},
   "source": [
    "# Temperature Sensor\n",
    "\n",
    "There is a temperature sensor in the processor of your company's server. The company wants to analyze the data provided by the sensor to decide if they should change the cooling system for a better one. As changing the cooling system is expensive and you are an excellent data analyst, you can't make a decision without basis.\n",
    "\n",
    "## Tools\n",
    "You don't necessarily need to use all the tools. Maybe you opt to use some of them or completely different ones, they are given to help you shape the exercise. Programming exercises can be solved in many different ways.\n",
    "1. Data structures: **lists**\n",
    "2. Loops: **list comprehension**\n",
    "3. Functions: **min, max, print, len**\n",
    "4. Conditional statements: **if-elif-else**\n",
    "\n",
    "## Tasks\n",
    "The temperatures measured throughout the 24 hours of a day are:"
   ]
  },
  {
   "cell_type": "code",
   "execution_count": 1,
   "metadata": {},
   "outputs": [],
   "source": [
    "temperatures_C = [33, 66, 65, 0, 59, 60, 62, 64, 70, 76, 80, 81, 80, 83, 90, 79, 61, 53, 50, 49, 53, 48, 45, 39]"
   ]
  },
  {
   "cell_type": "markdown",
   "metadata": {},
   "source": [
    "The first element of the list is the temperature at 12am, the second element is the temperature at 1am, and so on. \n",
    "\n",
    "The company has decided that if one of the following events occurs, then the cooling system needs to be replaced for a new one to avoid damaging the processor.\n",
    "* More than 4 temperatures are greater than or equal to 70ºC.\n",
    "* Any temperature is above 80ºC.\n",
    "* The average temperature exceeds 65ºC.\n",
    "\n",
    "Follow the steps so that you can make the decision.\n",
    "\n",
    "#### 1. Find the minimum temperature of the day and store it in a variable."
   ]
  },
  {
   "cell_type": "code",
   "execution_count": 2,
   "metadata": {},
   "outputs": [
    {
     "name": "stdout",
     "output_type": "stream",
     "text": [
      "Minimum temperature of the day is: 0\n"
     ]
    }
   ],
   "source": [
    "min_temp=min(temperatures_C)\n",
    "print(\"Minimum temperature of the day is:\",min_temp)"
   ]
  },
  {
   "cell_type": "markdown",
   "metadata": {},
   "source": [
    "#### 2. Find the maximum temperature of the day and store it in a variable."
   ]
  },
  {
   "cell_type": "code",
   "execution_count": 3,
   "metadata": {},
   "outputs": [
    {
     "name": "stdout",
     "output_type": "stream",
     "text": [
      "Maximum temperature of the day is: 90\n"
     ]
    }
   ],
   "source": [
    "max_temp=max(temperatures_C)\n",
    "print(\"Maximum temperature of the day is:\",max_temp)"
   ]
  },
  {
   "cell_type": "markdown",
   "metadata": {},
   "source": [
    "#### 3. Create a list with the temperatures that are greater than or equal to 70ºC. Store it in a variable."
   ]
  },
  {
   "cell_type": "code",
   "execution_count": 4,
   "metadata": {},
   "outputs": [
    {
     "name": "stdout",
     "output_type": "stream",
     "text": [
      "Temperatures >= 70C: [70, 76, 80, 81, 80, 83, 90, 79]\n"
     ]
    }
   ],
   "source": [
    "temp_greater_equal_70=[]\n",
    "for temp in temperatures_C:\n",
    "    if temp >= 70:\n",
    "        temp_greater_equal_70.append(temp)\n",
    "print(\"Temperatures >= 70C:\",temp_greater_equal_70)"
   ]
  },
  {
   "cell_type": "markdown",
   "metadata": {},
   "source": [
    "#### 4. Find the average temperature of the day and store it in a variable."
   ]
  },
  {
   "cell_type": "code",
   "execution_count": 5,
   "metadata": {},
   "outputs": [
    {
     "name": "stdout",
     "output_type": "stream",
     "text": [
      "Average temperature of the day is: 60.25\n"
     ]
    }
   ],
   "source": [
    "avg_temp=sum(temperatures_C)/len(temperatures_C)\n",
    "print(\"Average temperature of the day is:\",avg_temp)"
   ]
  },
  {
   "cell_type": "markdown",
   "metadata": {},
   "source": [
    "#### 5. Imagine that there was a sensor failure at 3am and the data for that specific hour was not recorded. How would you estimate the missing value? Replace the current value of the list at 3am for an estimation. "
   ]
  },
  {
   "cell_type": "code",
   "execution_count": 6,
   "metadata": {},
   "outputs": [
    {
     "name": "stdout",
     "output_type": "stream",
     "text": [
      "Estimating missing value by calculating mean of i+1 and i-1: 62\n",
      "List of temperatures updated with estimated value: [33, 66, 65, 62, 59, 60, 62, 64, 70, 76, 80, 81, 80, 83, 90, 79, 61, 53, 50, 49, 53, 48, 45, 39]\n"
     ]
    }
   ],
   "source": [
    "temperatures_C = [33, 66, 65, 0, 59, 60, 62, 64, 70, 76, 80, 81, 80, 83, 90, 79, 61, 53, 50, 49, 53, 48, 45, 39]\n",
    "\n",
    "temp_est=int((temperatures_C[2]+temperatures_C[4])/2)\n",
    "print(\"Estimating missing value by calculating mean of i+1 and i-1:\",temp_est)\n",
    "\n",
    "for i in range(3,4):\n",
    "    if temperatures_C[3]==0:\n",
    "        temperatures_C[3]=temp_est\n",
    "print(\"List of temperatures updated with estimated value:\",temperatures_C)"
   ]
  },
  {
   "cell_type": "markdown",
   "metadata": {},
   "source": [
    "#### 6. Bonus: the maintenance staff is from the United States and does not understand the international metric system. Help them by converting the temperatures from Celsius to Fahrenheit.\n",
    "To know more about temperature conversion check this [link](https://en.wikipedia.org/wiki/Conversion_of_units_of_temperature).\n",
    "\n",
    "**Formula**: \n",
    "\n",
    "$F = 1.8 * C + 32$"
   ]
  },
  {
   "cell_type": "code",
   "execution_count": 7,
   "metadata": {},
   "outputs": [
    {
     "name": "stdout",
     "output_type": "stream",
     "text": [
      "List of temperatures in Fahrenheit: [91.4, 150.8, 149.0, 143.60000000000002, 138.2, 140.0, 143.60000000000002, 147.2, 158.0, 168.8, 176.0, 177.8, 176.0, 181.4, 194.0, 174.20000000000002, 141.8, 127.4, 122.0, 120.2, 127.4, 118.4, 113.0, 102.2]\n"
     ]
    }
   ],
   "source": [
    "temperatures_F=[]\n",
    "\n",
    "for i in range(len(temperatures_C)):\n",
    "    temperatures_F.append(1.8*temperatures_C[i]+32)\n",
    "print(\"List of temperatures in Fahrenheit:\",temperatures_F)"
   ]
  },
  {
   "cell_type": "markdown",
   "metadata": {},
   "source": [
    "#### 7. Make a decision!\n",
    "Now it's time to make a decision taking into account what you have seen until now. \n",
    "\n",
    "Remember that if one of the following events occurs, then the cooling system needs to be replaced for a new one to avoid damaging the processor.\n",
    "* More than 4 temperatures are greater than or equal to 70ºC.\n",
    "* Any temperature is above 80ºC.\n",
    "* The average temperature exceeds 65ºC.\n",
    "\n",
    "#### To make your decision, check if any of the three conditions above is met. You might need to use some of the variables you created in steps 1 to 6. Print a message to show if the cooling system needs to be changed or not."
   ]
  },
  {
   "cell_type": "code",
   "execution_count": 8,
   "metadata": {},
   "outputs": [
    {
     "name": "stdout",
     "output_type": "stream",
     "text": [
      "Cooling system needs to be changed\n"
     ]
    }
   ],
   "source": [
    "if len(temp_greater_equal_70)>=4 or max(temperatures_C)>80 or avg_temp>65:\n",
    "    print(\"Cooling system needs to be changed\")\n",
    "else: print(\"Cooling system does not need to be changed\") "
   ]
  },
  {
   "cell_type": "markdown",
   "metadata": {},
   "source": [
    "## Bonus\n",
    "\n",
    "The company has decided that the decision you made is not valid. They want you to analyze the data again but this time, the conditions that need to be met in order to change the cooling system are different.\n",
    "\n",
    "This time, if one of the following events occurs, then the cooling system needs to be replaced:\n",
    "* The temperature is greater than 70ºC during more than 4 consecutive hours.\n",
    "* Any temperature is above 80ºC.\n",
    "* The average temperature exceeds 65ºC.\n",
    "\n",
    "Follow the steps so that you can make the decision.\n",
    "\n",
    "#### 1. Create a list with the hours where the temperature is greater than 70ºC. Store it in a variable."
   ]
  },
  {
   "cell_type": "code",
   "execution_count": 10,
   "metadata": {},
   "outputs": [
    {
     "name": "stdout",
     "output_type": "stream",
     "text": [
      "Hours >70C (incl. duplicates due to .index method): [9, 10, 11, 10, 13, 14, 15]\n",
      "Hours >70C with correct 'index': [9, 10, 11, 12, 13, 14, 15]\n",
      "Hours shown in correct time of day: [9, 10, 11, 12, 1, 2, 3]\n"
     ]
    }
   ],
   "source": [
    "temperatures_C = [33, 66, 65, 62, 59, 60, 62, 64, 70, 76, 80, 81, 80, 83, 90, 79, 61, 53, 50, 49, 53, 48, 45, 39]\n",
    "hours_temp_greater_70=[]\n",
    "\n",
    "#index based list of temperatures >70 (might contain duplicates as index of first \n",
    "#occurrence of an element will be shown for every occurrence of this element)\n",
    "for temp in temperatures_C:\n",
    "    if temp >70:\n",
    "        hours_temp_greater_70.append(temperatures_C.index(temp))\n",
    "print(\"Hours >70C (incl. duplicates due to .index method):\",hours_temp_greater_70)\n",
    "\n",
    "#removing duplicates caused by .index method\n",
    "index2=[]\n",
    "for i in range(len(temperatures_C)):\n",
    "    if temperatures_C[i]>70:\n",
    "        index2.append(i)\n",
    "print(\"Hours >70C with correct 'index':\",index2)\n",
    "\n",
    "#convert in times of day:\n",
    "hours=[]\n",
    "for i in index2:\n",
    "    if i <=12:\n",
    "        hours.append(i)\n",
    "    else: hours.append(i-12)\n",
    "print(\"Hours shown in correct time of day:\",hours)\n",
    "\n"
   ]
  },
  {
   "cell_type": "markdown",
   "metadata": {},
   "source": [
    "#### 2. Check if the list you created in step 1 has more than 4 consecutive hours. "
   ]
  },
  {
   "cell_type": "code",
   "execution_count": 11,
   "metadata": {},
   "outputs": [
    {
     "name": "stdout",
     "output_type": "stream",
     "text": [
      "List has more than 4 consecutive hours.\n"
     ]
    }
   ],
   "source": [
    "consecutive_hours=[]\n",
    "for n in range(3): \n",
    "    if index2[n+1]==index2[n]+1 and index2[n+2]==index2[n]+2 and index2[n+3]==index2[n]+3 and index2[n+4]==index2[n]+4:\n",
    "        consecutive_hours.append(\"Yes\")\n",
    "        break\n",
    "    else: \n",
    "        consecutive_hours.append(\"No\")\n",
    "if \"Yes\" in consecutive_hours:\n",
    "    print(\"List has more than 4 consecutive hours.\")\n",
    "else: print(\"List hasn't more than 4 consecutive hours.\")"
   ]
  },
  {
   "cell_type": "markdown",
   "metadata": {},
   "source": [
    "#### 3. Make the decision!\n",
    "To make your decision, check if any of the three conditions is met. Print a message to show if the cooling system needs to be changed or not."
   ]
  },
  {
   "cell_type": "code",
   "execution_count": 12,
   "metadata": {},
   "outputs": [
    {
     "name": "stdout",
     "output_type": "stream",
     "text": [
      "Cooling system needs to be changed\n"
     ]
    }
   ],
   "source": [
    "if \"Yes\" in consecutive_hours or max(temperatures_C)>80 or avg_temp>65:\n",
    "    print(\"Cooling system needs to be changed\")\n",
    "else: print(\"Cooling system does not need to be changed\") "
   ]
  },
  {
   "cell_type": "markdown",
   "metadata": {},
   "source": [
    "#### 4. Find the average value of the temperature lists (ºC and ºF). What is the relation between both average values?"
   ]
  },
  {
   "cell_type": "code",
   "execution_count": 13,
   "metadata": {},
   "outputs": [
    {
     "name": "stdout",
     "output_type": "stream",
     "text": [
      "Average temperature (C) of the day is: 62.833333333333336\n",
      "Average temperature (F) of the day is: 145.1\n",
      "The relation between both is that avg_temp_F is equal to 1.8∗avg_temp+32\n"
     ]
    }
   ],
   "source": [
    "#Calculations based on the temp list with updated value at 3:\n",
    "\n",
    "avg_temp=sum(temperatures_C)/len(temperatures_C)\n",
    "print(\"Average temperature (C) of the day is:\",avg_temp)\n",
    "\n",
    "avg_temp_F=sum(temperatures_F)/len(temperatures_F)\n",
    "print(\"Average temperature (F) of the day is:\",avg_temp_F)\n",
    "\n",
    "print(\"The relation between both is that avg_temp_F is equal to 1.8∗avg_temp+32\")"
   ]
  },
  {
   "cell_type": "markdown",
   "metadata": {},
   "source": [
    "#### 5. Find the standard deviation of the temperature lists (ºC and ºF). What is the relation between both standard deviations?"
   ]
  },
  {
   "cell_type": "code",
   "execution_count": 14,
   "metadata": {},
   "outputs": [
    {
     "name": "stdout",
     "output_type": "stream",
     "text": [
      "Standard deviation of temperature list in Celsius: 14.633485192833897\n",
      "Standard deviation of temperature list in Fahrenheit: 26.340273347101014\n",
      "Dividing Standard Deviation (F) by Standard Deviation (C): 1.8\n",
      "Standard deviation in Fahrenheit is 1.8x higher than the standard deviation in Celsius, as the spread is affected by factor 1.8 (adding 32 does not affect the spread)\n"
     ]
    }
   ],
   "source": [
    "import statistics\n",
    "print(\"Standard deviation of temperature list in Celsius:\",statistics.pstdev(temperatures_C))\n",
    "\n",
    "print(\"Standard deviation of temperature list in Fahrenheit:\",statistics.pstdev(temperatures_F))\n",
    "print(\"Dividing Standard Deviation (F) by Standard Deviation (C):\",statistics.pstdev(temperatures_F)/statistics.pstdev(temperatures_C))\n",
    "print(\"Standard deviation in Fahrenheit is 1.8x higher than the standard deviation in Celsius, as the spread is affected by factor 1.8 (adding 32 does not affect the spread)\")"
   ]
  }
 ],
 "metadata": {
  "kernelspec": {
   "display_name": "Python 3",
   "language": "python",
   "name": "python3"
  },
  "language_info": {
   "codemirror_mode": {
    "name": "ipython",
    "version": 3
   },
   "file_extension": ".py",
   "mimetype": "text/x-python",
   "name": "python",
   "nbconvert_exporter": "python",
   "pygments_lexer": "ipython3",
   "version": "3.7.5"
  }
 },
 "nbformat": 4,
 "nbformat_minor": 2
}
