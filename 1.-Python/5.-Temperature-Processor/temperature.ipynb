{
 "cells": [
  {
   "cell_type": "markdown",
   "metadata": {},
   "source": [
    "<img src=\"https://bit.ly/2VnXWr2\" width=\"100\" align=\"left\">"
   ]
  },
  {
   "cell_type": "markdown",
   "metadata": {},
   "source": [
    "# Temperature Sensor\n",
    "\n",
    "There is a temperature sensor in the processor of your company's server. The company wants to analyze the data provided by the sensor to decide if they should change the cooling system for a better one. As changing the cooling system is expensive and you are an excellent data analyst, you can't make a decision without basis.\n",
    "\n",
    "## Tools\n",
    "You don't necessarily need to use all the tools. Maybe you opt to use some of them or completely different ones, they are given to help you shape the exercise. Programming exercises can be solved in many different ways.\n",
    "1. Data structures: **lists**\n",
    "2. Loops: **list comprehension**\n",
    "3. Functions: **min, max, print, len**\n",
    "4. Conditional statements: **if-elif-else**\n",
    "\n",
    "## Tasks\n",
    "The temperatures measured throughout the 24 hours of a day are:"
   ]
  },
  {
   "cell_type": "code",
   "execution_count": 1,
   "metadata": {},
   "outputs": [],
   "source": [
    "temperatures_C = [33, 66, 65, 0, 59, 60, 62, 64, 70, 76, 80, 81, 80, 83, 90, 79, 61, 53, 50, 49, 53, 48, 45, 39]"
   ]
  },
  {
   "cell_type": "markdown",
   "metadata": {},
   "source": [
    "The first element of the list is the temperature at 12am, the second element is the temperature at 1am, and so on. \n",
    "\n",
    "The company has decided that if one of the following events occurs, then the cooling system needs to be replaced for a new one to avoid damaging the processor.\n",
    "* More than 4 temperatures are greater than or equal to 70ºC.\n",
    "* Any temperature is above 80ºC.\n",
    "* The average temperature exceeds 65ºC.\n",
    "\n",
    "Follow the steps so that you can make the decision.\n",
    "\n",
    "#### 1. Find the minimum temperature of the day and store it in a variable."
   ]
  },
  {
   "cell_type": "code",
   "execution_count": 2,
   "metadata": {},
   "outputs": [
    {
     "name": "stdout",
     "output_type": "stream",
     "text": [
      "The minimum temperature of the day is: 0°C\n"
     ]
    }
   ],
   "source": [
    "min_temp = min(temperatures_C)\n",
    "print(\"The minimum temperature of the day is: \" + str(min_temp) + \"°C\")"
   ]
  },
  {
   "cell_type": "markdown",
   "metadata": {},
   "source": [
    "#### 2. Find the maximum temperature of the day and store it in a variable."
   ]
  },
  {
   "cell_type": "code",
   "execution_count": 3,
   "metadata": {},
   "outputs": [
    {
     "name": "stdout",
     "output_type": "stream",
     "text": [
      "The maximum temperature of the day is: 90°C\n"
     ]
    }
   ],
   "source": [
    "max_temp = max(temperatures_C)\n",
    "print(\"The maximum temperature of the day is: \" + str(max_temp) + \"°C\")"
   ]
  },
  {
   "cell_type": "markdown",
   "metadata": {},
   "source": [
    "#### 3. Create a list with the temperatures that are greater than or equal to 70ºC. Store it in a variable."
   ]
  },
  {
   "cell_type": "code",
   "execution_count": 4,
   "metadata": {},
   "outputs": [
    {
     "name": "stdout",
     "output_type": "stream",
     "text": [
      "List of temperatures >= 70°C: [70, 76, 79, 80, 80, 81, 83, 90]\n"
     ]
    }
   ],
   "source": [
    "temp_greater_than_or_equal_to_70 = tp70 = []\n",
    "\n",
    "for i in temperatures_C:\n",
    "    if i >= 70:\n",
    "        tp70.append(i)\n",
    "\n",
    "        \n",
    "tp70.sort()\n",
    "print(\"List of temperatures >= 70°C:\", tp70)"
   ]
  },
  {
   "cell_type": "markdown",
   "metadata": {},
   "source": [
    "#### 4. Find the average temperature of the day and store it in a variable."
   ]
  },
  {
   "cell_type": "code",
   "execution_count": 5,
   "metadata": {},
   "outputs": [
    {
     "name": "stdout",
     "output_type": "stream",
     "text": [
      "The average temperature of the day is: 60.25°C\n"
     ]
    }
   ],
   "source": [
    "avg_temp = sum(temperatures_C)/len(temperatures_C)\n",
    "print(\"The average temperature of the day is: \" + str(avg_temp) + \"°C\")"
   ]
  },
  {
   "cell_type": "markdown",
   "metadata": {},
   "source": [
    "#### 5. Imagine that there was a sensor failure at 3am and the data for that specific hour was not recorded. How would you estimate the missing value? Replace the current value of the list at 3am for an estimation. "
   ]
  },
  {
   "cell_type": "code",
   "execution_count": 6,
   "metadata": {},
   "outputs": [
    {
     "name": "stdout",
     "output_type": "stream",
     "text": [
      "The estimated temperature at 3am would be the mean of the temperatures at 2am and 4am: 62°C\n",
      "\n",
      "Updated list of temperatures with the missing estimated 3am value: [33, 66, 65, 62, 59, 60, 62, 64, 70, 76, 80, 81, 80, 83, 90, 79, 61, 53, 50, 49, 53, 48, 45, 39]\n"
     ]
    }
   ],
   "source": [
    "est_temp_3am = round((temperatures_C[2] + temperatures_C[4]) / 2)\n",
    "\n",
    "print(\"The estimated temperature at 3am would be \\\n",
    "the mean of the temperatures at 2am and 4am: \" + str(est_temp_3am) + \"°C\")\n",
    "\n",
    "print(\"\")\n",
    "\n",
    "temperatures_C[3] = est_temp_3am\n",
    "\n",
    "print(\"Updated list of temperatures with the \\\n",
    "missing estimated 3am value:\", temperatures_C)"
   ]
  },
  {
   "cell_type": "markdown",
   "metadata": {},
   "source": [
    "#### 6. Bonus: the maintenance staff is from the United States and does not understand the international metric system. Help them by converting the temperatures from Celsius to Fahrenheit.\n",
    "To know more about temperature conversion check this [link](https://en.wikipedia.org/wiki/Conversion_of_units_of_temperature).\n",
    "\n",
    "**Formula**: \n",
    "\n",
    "$F = 1.8 * C + 32$"
   ]
  },
  {
   "cell_type": "code",
   "execution_count": 7,
   "metadata": {},
   "outputs": [
    {
     "name": "stdout",
     "output_type": "stream",
     "text": [
      "List of temperatures in Fahrenheit: [91, 151, 149, 144, 138, 140, 144, 147, 158, 169, 176, 178, 176, 181, 194, 174, 142, 127, 122, 120, 127, 118, 113, 102]\n"
     ]
    }
   ],
   "source": [
    "temps_in_F = []\n",
    "\n",
    "for i in range(len(temperatures_C)):\n",
    "    temps_in_F.append(round((1.8 * temperatures_C[i]) + 32))\n",
    "\n",
    "print(\"List of temperatures in Fahrenheit:\", temps_in_F)"
   ]
  },
  {
   "cell_type": "markdown",
   "metadata": {},
   "source": [
    "#### 7. Make a decision!\n",
    "Now it's time to make a decision taking into account what you have seen until now. \n",
    "\n",
    "Remember that if one of the following events occurs, then the cooling system needs to be replaced for a new one to avoid damaging the processor.\n",
    "* More than 4 temperatures are greater than or equal to 70ºC.\n",
    "* Any temperature is above 80ºC.\n",
    "* The average temperature exceeds 65ºC.\n",
    "\n",
    "#### To make your decision, check if any of the three conditions above is met. You might need to use some of the variables you created in steps 1 to 6. Print a message to show if the cooling system needs to be changed or not."
   ]
  },
  {
   "cell_type": "code",
   "execution_count": 8,
   "metadata": {},
   "outputs": [
    {
     "name": "stdout",
     "output_type": "stream",
     "text": [
      "The cooling system needs to be changed.\n"
     ]
    }
   ],
   "source": [
    "if len(tp70) >= 4 or max(temperatures_C) > 80 or avg_temp > 65:\n",
    "    print(\"The cooling system needs to be changed.\")\n",
    "else:\n",
    "    print(\"The cooling system does not need to be changed.\")"
   ]
  },
  {
   "cell_type": "markdown",
   "metadata": {},
   "source": [
    "## Bonus\n",
    "\n",
    "The company has decided that the decision you made is not valid. They want you to analyze the data again but this time, the conditions that need to be met in order to change the cooling system are different.\n",
    "\n",
    "This time, if one of the following events occurs, then the cooling system needs to be replaced:\n",
    "* The temperature is greater than 70ºC during more than 4 consecutive hours.\n",
    "* Any temperature is above 80ºC.\n",
    "* The average temperature exceeds 65ºC.\n",
    "\n",
    "Follow the steps so that you can make the decision.\n",
    "\n",
    "#### 1. Create a list with the hours where the temperature is greater than 70ºC. Store it in a variable."
   ]
  },
  {
   "cell_type": "code",
   "execution_count": 9,
   "metadata": {},
   "outputs": [
    {
     "name": "stdout",
     "output_type": "stream",
     "text": [
      "List of hours where the temperature is > 70°C: [9, 10, 11, 12, 13, 14, 15]\n"
     ]
    }
   ],
   "source": [
    "hours_temps_greater_70 = ht70 = []\n",
    "\n",
    "for i, x in enumerate(temperatures_C):\n",
    "    if x > 70:\n",
    "        ht70.append(i)\n",
    "\n",
    "print(\"List of hours where the temperature is > 70°C:\", ht70)"
   ]
  },
  {
   "cell_type": "code",
   "execution_count": 10,
   "metadata": {},
   "outputs": [
    {
     "name": "stdout",
     "output_type": "stream",
     "text": [
      "Test list of hours with temps > 70°C: [9, 10, 11, 12, 13, 14, 15]\n"
     ]
    }
   ],
   "source": [
    "# This also seems to work\n",
    "test = []\n",
    "\n",
    "for i in range(len(temperatures_C)):\n",
    "    if temperatures_C[i] > 70:\n",
    "        test.append(i)\n",
    "print(\"Test list of hours with temps > 70°C:\", test)"
   ]
  },
  {
   "cell_type": "markdown",
   "metadata": {},
   "source": [
    "#### 2. Check if the list you created in step 1 has more than 4 consecutive hours. "
   ]
  },
  {
   "cell_type": "code",
   "execution_count": 11,
   "metadata": {},
   "outputs": [
    {
     "name": "stdout",
     "output_type": "stream",
     "text": [
      "The list has more than 4 consecutive hours.\n"
     ]
    }
   ],
   "source": [
    "# Ok, I thought about this. Maybe it's not the best solution? As I'd have to input indices manually to check :/\n",
    "\n",
    "for i in range(len(ht70)):\n",
    "    \n",
    "    if (ht70[1] - ht70[0] == 1\n",
    "        and ht70[2] - ht70[1] == 1\n",
    "        and ht70[3] - ht70[2] == 1\n",
    "        and ht70[4] - ht70[3] == 1\n",
    "        and ht70[5] - ht70[4] == 1):\n",
    "        consecutive_hours = \"Yes\"\n",
    "        \n",
    "    else:\n",
    "        consecutive_hours = \"No\"\n",
    "\n",
    "if \"Yes\" in consecutive_hours:\n",
    "    print(\"The list has more than 4 consecutive hours.\")\n",
    "else:\n",
    "    print(\"The list doesn't have more than 4 consecutive hours.\")"
   ]
  },
  {
   "cell_type": "code",
   "execution_count": 12,
   "metadata": {},
   "outputs": [
    {
     "name": "stdout",
     "output_type": "stream",
     "text": [
      "The list has more than 4 consecutive hours.\n"
     ]
    }
   ],
   "source": [
    "# I also thought about this. Is this better? Or is it incorrect? I think it kinda makes sense, no?\n",
    "\n",
    "for i in range(len(ht70)):\n",
    "    \n",
    "    if (ht70[i]+1 - ht70[i]) == 1:\n",
    "        consecutive_hours = \"Yes\"\n",
    "        \n",
    "    else:\n",
    "        consecutive_hours = \"No\"\n",
    "\n",
    "if \"Yes\" in consecutive_hours:\n",
    "    print(\"The list has more than 4 consecutive hours.\")\n",
    "else:\n",
    "    print(\"The list doesn't have more than 4 consecutive hours.\")"
   ]
  },
  {
   "cell_type": "markdown",
   "metadata": {},
   "source": [
    "#### 3. Make the decision!\n",
    "To make your decision, check if any of the three conditions is met. Print a message to show if the cooling system needs to be changed or not."
   ]
  },
  {
   "cell_type": "code",
   "execution_count": 13,
   "metadata": {},
   "outputs": [
    {
     "name": "stdout",
     "output_type": "stream",
     "text": [
      "The cooling system needs to be changed.\n"
     ]
    }
   ],
   "source": [
    "if consecutive_hours == \"Yes\" or max(temperatures_C) > 80 or avg_temp > 65:\n",
    "    print(\"The cooling system needs to be changed.\")\n",
    "    \n",
    "else:\n",
    "    print(\"The cooling system does not need to be changed.\")"
   ]
  },
  {
   "cell_type": "markdown",
   "metadata": {},
   "source": [
    "#### 4. Find the average value of the temperature lists (ºC and ºF). What is the relation between both average values?"
   ]
  },
  {
   "cell_type": "code",
   "execution_count": 14,
   "metadata": {},
   "outputs": [
    {
     "name": "stdout",
     "output_type": "stream",
     "text": [
      "Average value of the Celsius list: 62.833333333333336\n",
      "Average value of the Fahrenheit list: 145.04166666666666\n",
      "\n",
      "The relation between both average values is that the average in Fahrenheit is equal to 1.8 * the average value in Celsius + 32.\n"
     ]
    }
   ],
   "source": [
    "print(\"Average value of the Celsius list:\", sum(temperatures_C)/len(temperatures_C))\n",
    "\n",
    "print(\"Average value of the Fahrenheit list:\", sum(temps_in_F)/len(temps_in_F))\n",
    "\n",
    "print(\"\")\n",
    "\n",
    "print(\"The relation between both average values is that the average \\\n",
    "in Fahrenheit is equal to 1.8 * the average value in Celsius + 32.\")"
   ]
  },
  {
   "cell_type": "markdown",
   "metadata": {},
   "source": [
    "#### 5. Find the standard deviation of the temperature lists (ºC and ºF). What is the relation between both standard deviations?"
   ]
  },
  {
   "cell_type": "code",
   "execution_count": 15,
   "metadata": {},
   "outputs": [
    {
     "name": "stdout",
     "output_type": "stream",
     "text": [
      "Standard deviation of the temperature list in Celsius: 14.633485192833897\n",
      "Standard deviation of the temperature list in Fahrenheit: 26.42202232776456\n",
      "\n",
      "The standard deviation in Fahrenheit is 1.8* higher than the standard deviation in Celsius. We can verify that by dividing the SD in F by the SD in C, which will gives us 1.8 as a result.\n",
      "\n",
      "Result of dividing the SD in F by the SD in C: 1.8055864327319358\n"
     ]
    }
   ],
   "source": [
    "import statistics\n",
    "\n",
    "print(\"Standard deviation of the temperature list in Celsius:\", statistics.pstdev(temperatures_C))\n",
    "\n",
    "print(\"Standard deviation of the temperature list in Fahrenheit:\", statistics.pstdev(temps_in_F))\n",
    "\n",
    "print(\"\")\n",
    "\n",
    "print(\"The standard deviation in Fahrenheit is 1.8* higher than the \\\n",
    "standard deviation in Celsius. We can verify that by dividing the SD in F by \\\n",
    "the SD in C, which will gives us 1.8 as a result.\")\n",
    "\n",
    "print(\"\")\n",
    "\n",
    "print(\"Result of dividing the SD in F by the SD in C:\",\n",
    "      statistics.pstdev(temps_in_F)/statistics.pstdev(temperatures_C))"
   ]
  }
 ],
 "metadata": {
  "kernelspec": {
   "display_name": "Python 3",
   "language": "python",
   "name": "python3"
  },
  "language_info": {
   "codemirror_mode": {
    "name": "ipython",
    "version": 3
   },
   "file_extension": ".py",
   "mimetype": "text/x-python",
   "name": "python",
   "nbconvert_exporter": "python",
   "pygments_lexer": "ipython3",
   "version": "3.7.6"
  }
 },
 "nbformat": 4,
 "nbformat_minor": 2
}
