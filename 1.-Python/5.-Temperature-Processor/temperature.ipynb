{
 "cells": [
  {
   "cell_type": "markdown",
   "metadata": {},
   "source": [
    "<img src=\"https://bit.ly/2VnXWr2\" width=\"100\" align=\"left\">"
   ]
  },
  {
   "cell_type": "markdown",
   "metadata": {},
   "source": [
    "# Temperature Sensor\n",
    "\n",
    "There is a temperature sensor in the processor of your company's server. The company wants to analyze the data provided by the sensor to decide if they should change the cooling system for a better one. As changing the cooling system is expensive and you are an excellent data analyst, you can't make a decision without basis.\n",
    "\n",
    "## Tools\n",
    "You don't necessarily need to use all the tools. Maybe you opt to use some of them or completely different ones, they are given to help you shape the exercise. Programming exercises can be solved in many different ways.\n",
    "1. Data structures: **lists**\n",
    "2. Loops: **list comprehension**\n",
    "3. Functions: **min, max, print, len**\n",
    "4. Conditional statements: **if-elif-else**\n",
    "\n",
    "## Tasks\n",
    "The temperatures measured throughout the 24 hours of a day are:"
   ]
  },
  {
   "cell_type": "code",
   "execution_count": 1,
   "metadata": {},
   "outputs": [],
   "source": [
    "temperatures_C = [33, 66, 65, 0, 59, 60, 62, 64, 70, 76, 80, 81, 80, 83, 90, 79, 61, 53, 50, 49, 53, 48, 45, 39]"
   ]
  },
  {
   "cell_type": "markdown",
   "metadata": {},
   "source": [
    "The first element of the list is the temperature at 12am, the second element is the temperature at 1am, and so on. \n",
    "\n",
    "The company has decided that if one of the following events occurs, then the cooling system needs to be replaced for a new one to avoid damaging the processor.\n",
    "* More than 4 temperatures are greater than or equal to 70ºC.\n",
    "* Any temperature is above 80ºC.\n",
    "* The average temperature exceeds 65ºC.\n",
    "\n",
    "Follow the steps so that you can make the decision.\n",
    "\n",
    "#### 1. Find the minimum temperature of the day and store it in a variable."
   ]
  },
  {
   "cell_type": "code",
   "execution_count": 2,
   "metadata": {},
   "outputs": [],
   "source": [
    "minimum_temp_C = min(temperatures_C)\n"
   ]
  },
  {
   "cell_type": "markdown",
   "metadata": {},
   "source": [
    "#### 2. Find the maximum temperature of the day and store it in a variable."
   ]
  },
  {
   "cell_type": "code",
   "execution_count": 3,
   "metadata": {},
   "outputs": [],
   "source": [
    "maximum_temp_C = max(temperatures_C)"
   ]
  },
  {
   "cell_type": "markdown",
   "metadata": {},
   "source": [
    "#### 3. Create a list with the temperatures that are greater than or equal to 70ºC. Store it in a variable."
   ]
  },
  {
   "cell_type": "code",
   "execution_count": 4,
   "metadata": {},
   "outputs": [],
   "source": [
    "temp_above_70_C = []\n",
    "\n",
    "for i in temperatures_C:\n",
    "  if i >= 70:\n",
    "    temp_above_70_C.append(i)"
   ]
  },
  {
   "cell_type": "markdown",
   "metadata": {},
   "source": [
    "#### 4. Find the average temperature of the day and store it in a variable."
   ]
  },
  {
   "cell_type": "code",
   "execution_count": 5,
   "metadata": {},
   "outputs": [],
   "source": [
    "average_temp_C = sum(temperatures_C)/len(temperatures_C)"
   ]
  },
  {
   "cell_type": "markdown",
   "metadata": {},
   "source": [
    "#### 5. Imagine that there was a sensor failure at 3am and the data for that specific hour was not recorded. How would you estimate the missing value? Replace the current value of the list at 3am for an estimation. "
   ]
  },
  {
   "cell_type": "code",
   "execution_count": 6,
   "metadata": {},
   "outputs": [
    {
     "name": "stdout",
     "output_type": "stream",
     "text": [
      "[33, 66, 65, 62.0, 59, 60, 62, 64, 70, 76, 80, 81, 80, 83, 90, 79, 61, 53, 50, 49, 53, 48, 45, 39]\n"
     ]
    }
   ],
   "source": [
    "temperatures_C = [33, 66, 65, 0, 59, 60, 62, 64, 70, 76, 80, 81, 80, 83, 90, 79, 61, 53, 50, 49, 53, 48, 45, 39]\n",
    "\n",
    "for i in range(0,len(temperatures_C)):\n",
    "  if temperatures_C[i] == 0:\n",
    "    average = (temperatures_C[i-1] + temperatures_C[i+1])/2\n",
    "    temperatures_C[i] = average\n",
    "\n",
    "print(temperatures_C)"
   ]
  },
  {
   "cell_type": "markdown",
   "metadata": {},
   "source": [
    "#### 6. Bonus: the maintenance staff is from the United States and does not understand the international metric system. Help them by converting the temperatures from Celsius to Fahrenheit.\n",
    "To know more about temperature conversion check this [link](https://en.wikipedia.org/wiki/Conversion_of_units_of_temperature).\n",
    "\n",
    "**Formula**: \n",
    "\n",
    "$F = 1.8 * C + 32$"
   ]
  },
  {
   "cell_type": "code",
   "execution_count": 7,
   "metadata": {},
   "outputs": [
    {
     "name": "stdout",
     "output_type": "stream",
     "text": [
      "\n",
      "The temperatures measured for the day, in Fahrenheit degrees, are [91.4, 150.8, 149.0, 143.60000000000002, 138.2, 140.0, 143.60000000000002, 147.2, 158.0, 168.8, 176.0, 177.8, 176.0, 181.4, 194.0, 174.20000000000002, 141.8, 127.4, 122.0, 120.2, 127.4, 118.4, 113.0, 102.2]\n",
      "\n",
      "The minimum temperature is 32.0 degrees Fahrenheit.\n",
      "\n",
      "The maximum temperature is 194.0 degrees Fahrenheit.\n",
      "\n",
      "These temperatures reached the limit of 158 degrees Fahrenheit: [158.0, 168.8, 176.0, 177.8, 176.0, 181.4, 194.0, 174.20000000000002]\n",
      "\n",
      "The average temperature is 140.45 degrees Fahrenheit.\n"
     ]
    }
   ],
   "source": [
    "## NOTE: in order to get the correct results, please run question 5 first and then run again 1, 2, 3 and 4. \n",
    "## Otherwise most values will be calculated based on the original list, and not the list with the 3AM replaced value.\n",
    "\n",
    "def C_to_F(x):\n",
    "  return (1.8*x) + 32\n",
    "  \n",
    "temperatures_F = []\n",
    "\n",
    "for i in temperatures_C:\n",
    "  temperatures_F.append(C_to_F(i))\n",
    "\n",
    "minimum_temp_F = C_to_F(minimum_temp_C)\n",
    "maximum_temp_F = C_to_F(maximum_temp_C)\n",
    "\n",
    "temp_above_158_F = []\n",
    "\n",
    "for i in temp_above_70_C:\n",
    "  temp_above_158_F.append(C_to_F(i))\n",
    "\n",
    "average_temp_F = C_to_F(average_temp_C)\n",
    "\n",
    "print(\"\")\n",
    "print (\"The temperatures measured for the day, in Fahrenheit degrees, are\", temperatures_F)\n",
    "print(\"\")\n",
    "print(\"The minimum temperature is\", minimum_temp_F, \"degrees Fahrenheit.\")\n",
    "print(\"\")\n",
    "print(\"The maximum temperature is\", maximum_temp_F, \"degrees Fahrenheit.\")\n",
    "print(\"\")\n",
    "print(\"These temperatures reached the limit of 158 degrees Fahrenheit:\", temp_above_158_F)\n",
    "print(\"\")\n",
    "print(\"The average temperature is\", average_temp_F, \"degrees Fahrenheit.\")\n"
   ]
  },
  {
   "cell_type": "markdown",
   "metadata": {},
   "source": [
    "#### 7. Make a decision!\n",
    "Now it's time to make a decision taking into account what you have seen until now. \n",
    "\n",
    "Remember that if one of the following events occurs, then the cooling system needs to be replaced for a new one to avoid damaging the processor.\n",
    "* More than 4 temperatures are greater than or equal to 70ºC.\n",
    "* Any temperature is above 80ºC.\n",
    "* The average temperature exceeds 65ºC.\n",
    "\n",
    "#### To make your decision, check if any of the three conditions above is met. You might need to use some of the variables you created in steps 1 to 6. Print a message to show if the cooling system needs to be changed or not."
   ]
  },
  {
   "cell_type": "code",
   "execution_count": 8,
   "metadata": {},
   "outputs": [
    {
     "name": "stdout",
     "output_type": "stream",
     "text": [
      "\n",
      "The cooling system needs to be changed.\n"
     ]
    }
   ],
   "source": [
    "if len(temp_above_70_C) > 4 or maximum_temp_C > 80 or average_temp_C > 65:\n",
    "  print(\"\")\n",
    "  print (\"The cooling system needs to be changed.\")\n",
    "else:\n",
    "  print(\"\")\n",
    "  print (\"The cooling system does not need to be changed.\")"
   ]
  },
  {
   "cell_type": "markdown",
   "metadata": {},
   "source": [
    "## Bonus\n",
    "\n",
    "The company has decided that the decision you made is not valid. They want you to analyze the data again but this time, the conditions that need to be met in order to change the cooling system are different.\n",
    "\n",
    "This time, if one of the following events occurs, then the cooling system needs to be replaced:\n",
    "* The temperature is greater than 70ºC during more than 4 consecutive hours.\n",
    "* Any temperature is above 80ºC.\n",
    "* The average temperature exceeds 65ºC.\n",
    "\n",
    "Follow the steps so that you can make the decision.\n",
    "\n",
    "#### 1. Create a list with the hours where the temperature is greater than 70ºC. Store it in a variable."
   ]
  },
  {
   "cell_type": "code",
   "execution_count": 9,
   "metadata": {},
   "outputs": [],
   "source": [
    "hours_greater_70_C = []\n",
    "\n",
    "for i in range(0,len(temperatures_C)):\n",
    "  if temperatures_C[i] >= 70:\n",
    "    hours_greater_70_C.append(i)"
   ]
  },
  {
   "cell_type": "markdown",
   "metadata": {},
   "source": [
    "#### 2. Check if the list you created in step 1 has more than 4 consecutive hours. "
   ]
  },
  {
   "cell_type": "code",
   "execution_count": 10,
   "metadata": {},
   "outputs": [],
   "source": [
    "consecutive_hours = 1\n",
    "\n",
    "for i in range(0,(len(hours_greater_70_C)-1)):\n",
    "  if hours_greater_70_C[i+1] == hours_greater_70_C[i] + 1:\n",
    "    consecutive_hours += 1\n",
    "  else:\n",
    "    consecutive_hours = 1"
   ]
  },
  {
   "cell_type": "markdown",
   "metadata": {},
   "source": [
    "#### 3. Make the decision!\n",
    "To make your decision, check if any of the three conditions is met. Print a message to show if the cooling system needs to be changed or not."
   ]
  },
  {
   "cell_type": "code",
   "execution_count": 11,
   "metadata": {},
   "outputs": [
    {
     "name": "stdout",
     "output_type": "stream",
     "text": [
      "\n",
      "The cooling system needs to be changed\n"
     ]
    }
   ],
   "source": [
    "if consecutive_hours > 4 or maximum_temp_C > 80 or average_temp_C > 65:\n",
    "  print(\"\")\n",
    "  print (\"The cooling system needs to be changed\")\n",
    "else:\n",
    "  print(\"\")\n",
    "  print (\"The cooling system does not need to be changed\")"
   ]
  },
  {
   "cell_type": "markdown",
   "metadata": {},
   "source": [
    "#### 4. Find the average value of the temperature lists (ºC and ºF). What is the relation between both average values?"
   ]
  },
  {
   "cell_type": "code",
   "execution_count": 12,
   "metadata": {},
   "outputs": [
    {
     "name": "stdout",
     "output_type": "stream",
     "text": [
      "\n",
      "The average temperature in Celsius is 60.25 degrees.\n",
      "\n",
      "The average temperature in Farenheit is 140.45 degrees.\n",
      "\n",
      "The relation between both average values is the conversion formula from Celsius to Fahrenheit (average in Farenheit = 1.8 x average in Celsius + 32)\n"
     ]
    }
   ],
   "source": [
    "temp_C = [33, 66, 65, 0, 59, 60, 62, 64, 70, 76, 80, 81, 80, 83, 90, 79, 61, 53, 50, 49, 53, 48, 45, 39]\n",
    "temp_F = []\n",
    "\n",
    "for i in temp_C:\n",
    "  temp_F.append(C_to_F(i))\n",
    "\n",
    "avg_C = sum(temp_C)/len(temp_C)\n",
    "avg_F = sum(temp_F)/len(temp_F)\n",
    "\n",
    "print(\"\")\n",
    "print(\"The average temperature in Celsius is\", avg_C, \"degrees.\")\n",
    "print(\"\")\n",
    "print(\"The average temperature in Farenheit is\", avg_F, \"degrees.\")\n",
    "\n",
    "if avg_F == C_to_F(avg_C):\n",
    "    print(\"\")\n",
    "    print (\"The relation between both average values is the conversion formula from Celsius to Fahrenheit (average in Farenheit = 1.8 x average in Celsius + 32)\")\n",
    "else:\n",
    "    print(\"\")\n",
    "    print (\"The relation between both average values IS NOT the conversion formula from Celsius to Fahrenheit.\")\n",
    "    "
   ]
  },
  {
   "cell_type": "markdown",
   "metadata": {},
   "source": [
    "#### 5. Find the standard deviation of the temperature lists (ºC and ºF). What is the relation between both standard deviations?"
   ]
  },
  {
   "cell_type": "code",
   "execution_count": 13,
   "metadata": {},
   "outputs": [
    {
     "name": "stdout",
     "output_type": "stream",
     "text": [
      "\n",
      "The standard deviation for the temperature in Celsius is 19.285681216902866 degrees.\n",
      "\n",
      "The standard deviation for the temperature in Fahrenheit is 34.71422619042516 degrees.\n",
      "\n",
      "The relation between both average values IS NOT the conversion formula from Celsius to Fahrenheit.\n"
     ]
    }
   ],
   "source": [
    "squared_deviation_around_mean_C = []\n",
    "squared_deviation_around_mean_F = []\n",
    "\n",
    "for i in temp_C:\n",
    "  x = (i - avg_C)**2\n",
    "  squared_deviation_around_mean_C.append(x)\n",
    "\n",
    "for i in temp_F:\n",
    "  x = (i - avg_F)**2\n",
    "  squared_deviation_around_mean_F.append(x)\n",
    "\n",
    "variance_C = sum(squared_deviation_around_mean_C)/len(squared_deviation_around_mean_C)\n",
    "variance_F = sum(squared_deviation_around_mean_F)/len(squared_deviation_around_mean_F)\n",
    "\n",
    "standard_deviation_C = variance_C**0.5\n",
    "standard_deviation_F = variance_F**0.5\n",
    "\n",
    "print(\"\")\n",
    "print(\"The standard deviation for the temperature in Celsius is\", standard_deviation_C, \"degrees.\")\n",
    "print(\"\")\n",
    "print(\"The standard deviation for the temperature in Fahrenheit is\", standard_deviation_F, \"degrees.\")\n",
    "\n",
    "if standard_deviation_F == C_to_F(standard_deviation_C):\n",
    "    print(\"\")\n",
    "    print (\"The relation between both average values is the conversion formula from Celsius to Fahrenheit (average in Farenheit = 1.8 x average in Celsius + 32)\")\n",
    "else:\n",
    "    print(\"\")\n",
    "    print (\"The relation between both average values IS NOT the conversion formula from Celsius to Fahrenheit.\")\n",
    "    "
   ]
  },
  {
   "cell_type": "code",
   "execution_count": null,
   "metadata": {},
   "outputs": [],
   "source": []
  }
 ],
 "metadata": {
  "kernelspec": {
   "display_name": "Python 3",
   "language": "python",
   "name": "python3"
  },
  "language_info": {
   "codemirror_mode": {
    "name": "ipython",
    "version": 3
   },
   "file_extension": ".py",
   "mimetype": "text/x-python",
   "name": "python",
   "nbconvert_exporter": "python",
   "pygments_lexer": "ipython3",
   "version": "3.7.4"
  }
 },
 "nbformat": 4,
 "nbformat_minor": 2
}
