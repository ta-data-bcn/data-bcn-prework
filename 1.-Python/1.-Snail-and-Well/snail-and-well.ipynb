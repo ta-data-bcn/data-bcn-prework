{
 "cells": [
  {
   "cell_type": "markdown",
   "metadata": {},
   "source": [
    "<img src=\"https://bit.ly/2VnXWr2\" width=\"100\" align=\"left\">"
   ]
  },
  {
   "cell_type": "markdown",
   "metadata": {},
   "source": [
    "# The Snail and the Well\n",
    "\n",
    "A snail falls at the bottom of a 125 cm well. Each day the snail rises 30 cm. But at night, while sleeping, slides 20 cm because the walls are wet. How many days does it take for the snail to escape the well?\n",
    "\n",
    "**Hint**: The snail gets out of the well when it surpasses the 125cm of height.\n",
    "\n",
    "## Tools\n",
    "\n",
    "1. Loop: **while**\n",
    "2. Conditional statements: **if-else**\n",
    "3. Function: **print()**\n",
    "\n",
    "## Tasks\n",
    "\n",
    "#### 1. Assign the challenge data to variables with representative names: `well_height`, `daily_distance`, `nightly_distance` and `snail_position`."
   ]
  },
  {
   "cell_type": "code",
   "execution_count": 2,
   "metadata": {},
   "outputs": [],
   "source": [
    "well_height=125\n",
    "daily_distance=30\n",
    "nightly_distance=20\n",
    "snail_position=0"
   ]
  },
  {
   "cell_type": "markdown",
   "metadata": {},
   "source": [
    "#### 2. Create a variable `days` to keep count of the days that pass until the snail escapes the well. "
   ]
  },
  {
   "cell_type": "code",
   "execution_count": 3,
   "metadata": {},
   "outputs": [],
   "source": [
    "days=0"
   ]
  },
  {
   "cell_type": "markdown",
   "metadata": {},
   "source": [
    "#### 3. Find the solution to the challenge using the variables defined above. "
   ]
  },
  {
   "cell_type": "code",
   "execution_count": 4,
   "metadata": {},
   "outputs": [],
   "source": [
    "while snail_position<well_height:\n",
    "    snail_position=snail_position+(daily_distance-nightly_distance)\n",
    "    days=days+1"
   ]
  },
  {
   "cell_type": "markdown",
   "metadata": {},
   "source": [
    "#### 4. Print the solution."
   ]
  },
  {
   "cell_type": "code",
   "execution_count": 5,
   "metadata": {},
   "outputs": [
    {
     "name": "stdout",
     "output_type": "stream",
     "text": [
      "13\n"
     ]
    }
   ],
   "source": [
    "print(days)"
   ]
  },
  {
   "cell_type": "markdown",
   "metadata": {},
   "source": [
    "## Bonus\n",
    "The distance traveled by the snail each day is now defined by a list.\n",
    "```\n",
    "advance_cm = [30, 21, 33, 77, 44, 45, 23, 45, 12, 34, 55]\n",
    "```\n",
    "On the first day, the snail rises 30cm but during the night it slides 20cm. On the second day, the snail rises 21cm but during the night it slides 20cm, and so on. \n",
    "\n",
    "#### 1. How many days does it take for the snail to escape the well?\n",
    "Follow the same guidelines as in the previous challenge.\n",
    "\n",
    "**Hint**: Remember that the snail gets out of the well when it surpasses the 125cm of height."
   ]
  },
  {
   "cell_type": "code",
   "execution_count": 23,
   "metadata": {},
   "outputs": [
    {
     "name": "stdout",
     "output_type": "stream",
     "text": [
      "Snail Position on day 1: 10\n",
      "Snail Position on day 2: 11\n",
      "Snail Position on day 3: 24\n",
      "Snail Position on day 4: 81\n",
      "Snail Position on day 5: 105\n",
      "Snail Position on day 6: 130\n",
      "Days it took to escape the well: 6\n"
     ]
    }
   ],
   "source": [
    "well_height=125\n",
    "advance_cm = [30, 21, 33, 77, 44, 45, 23, 45, 12, 34, 55]\n",
    "days=0\n",
    "nightly_distance=20\n",
    "snail_position=0\n",
    "while snail_position<well_height:\n",
    "    daily_distance=advance_cm[days]\n",
    "    snail_position=snail_position+(daily_distance-nightly_distance)\n",
    "    days=days+1\n",
    "    print(\"Snail Position on day %d:\" % days, snail_position)\n",
    "print(\"Days it took to escape the well:\",days)"
   ]
  },
  {
   "cell_type": "markdown",
   "metadata": {},
   "source": [
    "#### 2. What is its maximum displacement in one day? And its minimum? Calculate the displacement using only the travel distance of the days used to get out of the well. \n",
    "**Hint**: Remember that displacement means the total distance risen taking into account that the snail slides at night.  "
   ]
  },
  {
   "cell_type": "code",
   "execution_count": 30,
   "metadata": {},
   "outputs": [
    {
     "name": "stdout",
     "output_type": "stream",
     "text": [
      "[10, 1, 13, 57, 24, 25]\n",
      "Maximum displacement accomplished in 1 day: 57\n",
      "Minimum displacement accomplished in 1 day: 1\n"
     ]
    }
   ],
   "source": [
    "well_height=125\n",
    "advance_cm = [30, 21, 33, 77, 44, 45, 23, 45, 12, 34, 55]\n",
    "days=0\n",
    "nightly_distance=20\n",
    "snail_position=0\n",
    "displacement=[]\n",
    "while snail_position<well_height:\n",
    "    daily_distance=advance_cm[days]\n",
    "    snail_position=snail_position+(daily_distance-nightly_distance)\n",
    "    days=days+1\n",
    "    displacement.append(daily_distance-nightly_distance)\n",
    "print(\"Maximum displacement accomplished in 1 day:\", max(displacement))\n",
    "print(\"Minimum displacement accomplished in 1 day:\", min(displacement))"
   ]
  },
  {
   "cell_type": "markdown",
   "metadata": {},
   "source": [
    "#### 3. What is its average progress? Take into account the snail slides at night."
   ]
  },
  {
   "cell_type": "code",
   "execution_count": 27,
   "metadata": {},
   "outputs": [
    {
     "name": "stdout",
     "output_type": "stream",
     "text": [
      "Average progress of the snail: 21.666666666666668\n"
     ]
    }
   ],
   "source": [
    "well_height=125\n",
    "advance_cm = [30, 21, 33, 77, 44, 45, 23, 45, 12, 34, 55]\n",
    "days=0\n",
    "nightly_distance=20\n",
    "snail_position=0\n",
    "while snail_position<well_height:\n",
    "    daily_distance=advance_cm[days]\n",
    "    snail_position=snail_position+(daily_distance-nightly_distance)\n",
    "    days=days+1\n",
    "    displacement.append(daily_distance-nightly_distance)\n",
    "average_progress=sum(displacement)/len(displacement)\n",
    "print(\"Average progress of the snail:\", average_progress)"
   ]
  },
  {
   "cell_type": "markdown",
   "metadata": {},
   "source": [
    "#### 4. What is the standard deviation of its displacement? Take into account the snail slides at night."
   ]
  },
  {
   "cell_type": "code",
   "execution_count": 32,
   "metadata": {},
   "outputs": [
    {
     "name": "stdout",
     "output_type": "stream",
     "text": [
      "[10, 1, 13, 57, 24, 25]\n",
      "Standard deviation of displacement:  19.510680835549195\n"
     ]
    }
   ],
   "source": [
    "well_height=125\n",
    "advance_cm = [30, 21, 33, 77, 44, 45, 23, 45, 12, 34, 55]\n",
    "days=0\n",
    "nightly_distance=20\n",
    "snail_position=0\n",
    "displacement=[]\n",
    "snail_position_list=[]\n",
    "while snail_position<well_height:\n",
    "    daily_distance=advance_cm[days]\n",
    "    snail_position=snail_position+(daily_distance-nightly_distance)\n",
    "    days=days+1\n",
    "    displacement.append(daily_distance-nightly_distance)\n",
    "print(displacement)\n",
    "import statistics\n",
    "stdev_displacement=statistics.stdev(displacement)\n",
    "print(\"Standard deviation of displacement: \",stdev_displacement)"
   ]
  }
 ],
 "metadata": {
  "kernelspec": {
   "display_name": "Python 3",
   "language": "python",
   "name": "python3"
  },
  "language_info": {
   "codemirror_mode": {
    "name": "ipython",
    "version": 3
   },
   "file_extension": ".py",
   "mimetype": "text/x-python",
   "name": "python",
   "nbconvert_exporter": "python",
   "pygments_lexer": "ipython3",
   "version": "3.7.3"
  }
 },
 "nbformat": 4,
 "nbformat_minor": 2
}
