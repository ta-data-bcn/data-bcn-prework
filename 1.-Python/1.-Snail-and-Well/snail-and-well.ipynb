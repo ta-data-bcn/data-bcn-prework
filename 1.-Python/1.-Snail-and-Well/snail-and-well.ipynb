{
 "cells": [
  {
   "cell_type": "markdown",
   "metadata": {},
   "source": [
    "<img src=\"https://bit.ly/2VnXWr2\" width=\"100\" align=\"left\">"
   ]
  },
  {
   "cell_type": "markdown",
   "metadata": {},
   "source": [
    "# The Snail and the Well\n",
    "\n",
    "A snail falls at the bottom of a 125 cm well. Each day the snail rises 30 cm. But at night, while sleeping, slides 20 cm because the walls are wet. How many days does it take for the snail to escape the well?\n",
    "\n",
    "**Hint**: The snail gets out of the well when it surpasses the 125cm of height.\n",
    "\n",
    "## Tools\n",
    "\n",
    "1. Loop: **while**\n",
    "2. Conditional statements: **if-else**\n",
    "3. Function: **print()**\n",
    "\n",
    "## Tasks\n",
    "\n",
    "#### 1. Assign the challenge data to variables with representative names: `well_height`, `daily_distance`, `nightly_distance` and `snail_position`."
   ]
  },
  {
   "cell_type": "code",
   "execution_count": null,
   "metadata": {},
   "outputs": [],
   "source": [
    "well_height = 125\n",
    "daily_distance = 30\n",
    "nightly_distance = 20\n",
    "snail_position = 0"
   ]
  },
  {
   "cell_type": "markdown",
   "metadata": {},
   "source": [
    "#### 2. Create a variable `days` to keep count of the days that pass until the snail escapes the well. "
   ]
  },
  {
   "cell_type": "code",
   "execution_count": null,
   "metadata": {},
   "outputs": [],
   "source": [
    "days = 0"
   ]
  },
  {
   "cell_type": "markdown",
   "metadata": {},
   "source": [
    "#### 3. Find the solution to the challenge using the variables defined above. "
   ]
  },
  {
   "cell_type": "code",
   "execution_count": 35,
   "metadata": {},
   "outputs": [
    {
     "name": "stdout",
     "output_type": "stream",
     "text": [
      "The snail is finally out after 13 days.\n"
     ]
    }
   ],
   "source": [
    "well_height = 125\n",
    "snail_position = 0\n",
    "days = 0\n",
    "\n",
    "while snail_position < well_height:\n",
    "    days += 1\n",
    "    snail_position += 10\n",
    "    \n",
    "print(\"The snail is finally out after\", days, \"days.\")"
   ]
  },
  {
   "cell_type": "markdown",
   "metadata": {},
   "source": [
    "#### 4. Print the solution."
   ]
  },
  {
   "cell_type": "code",
   "execution_count": 2,
   "metadata": {},
   "outputs": [
    {
     "name": "stdout",
     "output_type": "stream",
     "text": [
      "The snail is finally out after 13 days.\n"
     ]
    }
   ],
   "source": [
    "print(\"The snail is finally out after 13 days.\")\n",
    "\n",
    "# I had actually done the final print statement like this:\n",
    "# print(\"The snail is finally out after\", days, \"days.\")\n",
    "# But it gives me errors as this doesn't seem to run the whole code at once."
   ]
  },
  {
   "cell_type": "markdown",
   "metadata": {},
   "source": [
    "## Bonus\n",
    "The distance traveled by the snail each day is now defined by a list.\n",
    "```\n",
    "advance_cm = [30, 21, 33, 77, 44, 45, 23, 45, 12, 34, 55]\n",
    "```\n",
    "On the first day, the snail rises 30cm but during the night it slides 20cm. On the second day, the snail rises 21cm but during the night it slides 20cm, and so on. \n",
    "\n",
    "#### 1. How many days does it take for the snail to escape the well?\n",
    "Follow the same guidelines as in the previous challenge.\n",
    "\n",
    "**Hint**: Remember that the snail gets out of the well when it surpasses the 125cm of height."
   ]
  },
  {
   "cell_type": "code",
   "execution_count": 31,
   "metadata": {
    "scrolled": true
   },
   "outputs": [
    {
     "name": "stdout",
     "output_type": "stream",
     "text": [
      "Displacement: [10, 1, 13, 57, 24, 25, 3, 25, -8, 14, 35]\n",
      "Displacement sum: [10, 11, 24, 81, 105, 130, 133, 158, 150, 164, 199]\n",
      "The snail is finally out after 6 days.\n"
     ]
    }
   ],
   "source": [
    "well_height = 125\n",
    "advance_cm = [30, 21, 33, 77, 44, 45, 23, 45, 12, 34, 55]\n",
    "nightly_distance = 20\n",
    "displacement = [x - 20 for x in advance_cm]\n",
    "snail_position = 0\n",
    "days = 0\n",
    "print(\"Displacement:\", displacement)\n",
    "\n",
    "displacement_sum = ds = [sum(displacement[:i+1]) for i in range(len(displacement))]\n",
    "print(\"Displacement sum:\", ds)\n",
    "\n",
    "for i in range(11):\n",
    "    days += 1\n",
    "    snail_position = ds[i]\n",
    "    if snail_position > well_height:\n",
    "        break\n",
    "\n",
    "print(\"The snail is finally out after\", days, \"days.\")"
   ]
  },
  {
   "cell_type": "markdown",
   "metadata": {},
   "source": [
    "#### 2. What is its maximum displacement in one day? And its minimum? Calculate the displacement using only the travel distance of the days used to get out of the well. \n",
    "**Hint**: Remember that displacement means the total distance risen taking into account that the snail slides at night.  "
   ]
  },
  {
   "cell_type": "code",
   "execution_count": 32,
   "metadata": {},
   "outputs": [
    {
     "name": "stdout",
     "output_type": "stream",
     "text": [
      "Max. displacement: 57\n",
      "Min. displacement: 1\n"
     ]
    }
   ],
   "source": [
    "print(\"Max. displacement:\", (max(displacement[:6])))\n",
    "print(\"Min. displacement:\", (min(displacement[:6])))"
   ]
  },
  {
   "cell_type": "markdown",
   "metadata": {},
   "source": [
    "#### 3. What is its average progress? Take into account the snail slides at night."
   ]
  },
  {
   "cell_type": "code",
   "execution_count": 33,
   "metadata": {},
   "outputs": [
    {
     "name": "stdout",
     "output_type": "stream",
     "text": [
      "Average progress: 58.09090909090909\n"
     ]
    }
   ],
   "source": [
    "# I didn't fully understand if I'm supposed to count\n",
    "# the 20cm of night slides as progress or not. Decided to do so.\n",
    "total_progress = [x + 20 for x in advance_cm]\n",
    "print(\"Average progress:\", sum(total_progress)/len(total_progress))"
   ]
  },
  {
   "cell_type": "markdown",
   "metadata": {},
   "source": [
    "#### 4. What is the standard deviation of its displacement? Take into account the snail slides at night."
   ]
  },
  {
   "cell_type": "code",
   "execution_count": 34,
   "metadata": {},
   "outputs": [
    {
     "name": "stdout",
     "output_type": "stream",
     "text": [
      "Standard deviation: 17.996969441850734\n"
     ]
    }
   ],
   "source": [
    "# I'm guessing it is a sample and not population?\n",
    "import statistics\n",
    "print(\"Standard deviation:\", statistics.stdev(total_progress))"
   ]
  }
 ],
 "metadata": {
  "kernelspec": {
   "display_name": "Python 3",
   "language": "python",
   "name": "python3"
  },
  "language_info": {
   "codemirror_mode": {
    "name": "ipython",
    "version": 3
   },
   "file_extension": ".py",
   "mimetype": "text/x-python",
   "name": "python",
   "nbconvert_exporter": "python",
   "pygments_lexer": "ipython3",
   "version": "3.7.5"
  }
 },
 "nbformat": 4,
 "nbformat_minor": 2
}
