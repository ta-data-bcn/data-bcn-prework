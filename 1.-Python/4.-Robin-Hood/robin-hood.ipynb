{
 "cells": [
  {
   "cell_type": "markdown",
   "metadata": {},
   "source": [
    "<img src=\"https://bit.ly/2VnXWr2\" width=\"100\" align=\"left\"/>"
   ]
  },
  {
   "cell_type": "markdown",
   "metadata": {},
   "source": [
    "# Robin Hood\n",
    "Robin Hood has entered a competition to win the archery contest in Sherwood. With his bow and arrows, he needs to shoot on a target and try to hit as close as possible to the center.\n",
    "\n",
    "![](images/arrows.jpg)\n",
    "\n",
    "## Context\n",
    "In this challenge, the landing position of arrows shot by archers in the competition will be represented using 2-dimensional coordinates. \n",
    "\n",
    "In the 2-dimensional space, a point can be defined by a pair of values that correspond to the horizontal coordinate (x) and the vertical coordinate (y). For example, in our case, an arrow that hits the center of the archery target will land in position (0, 0) on the coordinate axes. \n",
    "\n",
    "The space can be divided into 4 zones (quadrants): Q1, Q2, Q3, Q4. If a point is in Q1, both its x coordinate and y coordinate are positive. Any point with a null x or y coordinate is considered to not belong to any quadrant. \n",
    "\n",
    "If you want to know more about the cartesian coordinate system, you can check this [link](https://en.wikipedia.org/wiki/Cartesian_coordinate_system). \n",
    "\n",
    "## Tools\n",
    "You don't necessarily need to use all the tools. Maybe you opt to use some of them or completely different ones, they are given to help you shape the exercise. Programming exercises can be solved in many different ways.\n",
    "* Data structures: **lists, sets, tuples**\n",
    "* Conditional statements: **if-elif-else**\n",
    "* Loop: **while/for**\n",
    "* Minimum (optional sorting)\n",
    "\n",
    "## Tasks\n",
    "Robin Hood has hit the following points:"
   ]
  },
  {
   "cell_type": "code",
   "execution_count": 100,
   "metadata": {},
   "outputs": [],
   "source": [
    "points = [(4, 5), (-0, 2), (4, 7), (1, -3), (3, -2), (4, 5), (3, 2), (5, 7), (-5, 7), (2, 2), (-4, 5), (0, -2),\n",
    "          (-4, 7), (-1, 3), (-3, 2), (-4, -5), (-3, 2), (5, 7), (5, 7), (2, 2), (9, 9), (-8, -9)]"
   ]
  },
  {
   "cell_type": "markdown",
   "metadata": {},
   "source": [
    "#### 1. Robin Hood is famous for hitting an arrow with another arrow. Find the coordinates of the points where an arrow hits another arrow."
   ]
  },
  {
   "cell_type": "code",
   "execution_count": 101,
   "metadata": {},
   "outputs": [
    {
     "name": "stdout",
     "output_type": "stream",
     "text": [
      "These coordinates have a duplicate: (4, 5)\n",
      "These coordinates have a duplicate: (4, 5)\n",
      "These coordinates have a duplicate: (5, 7)\n",
      "These coordinates have a duplicate: (5, 7)\n",
      "These coordinates have a duplicate: (2, 2)\n",
      "These coordinates have a duplicate: (-3, 2)\n",
      "These coordinates have a duplicate: (-3, 2)\n",
      "These coordinates have a duplicate: (5, 7)\n",
      "These coordinates have a duplicate: (5, 7)\n",
      "These coordinates have a duplicate: (5, 7)\n",
      "These coordinates have a duplicate: (5, 7)\n",
      "These coordinates have a duplicate: (2, 2)\n"
     ]
    }
   ],
   "source": [
    "for i in range(len(points)):\n",
    "    for j in range(len(points)):\n",
    "        if i != j:\n",
    "            if points[i] == points[j]:\n",
    "                print(\"These coordinates have a duplicate:\", points[i])"
   ]
  },
  {
   "cell_type": "markdown",
   "metadata": {},
   "source": [
    "#### 2. Calculate how many arrows have fallen in each quadrant. \n",
    "**Note**: the arrows that fall in the axis (x=0 or y=0) don't belong to any quadrant."
   ]
  },
  {
   "cell_type": "code",
   "execution_count": 103,
   "metadata": {},
   "outputs": [
    {
     "name": "stdout",
     "output_type": "stream",
     "text": [
      "Arrows that fall in the first quadrant: 10\n",
      "Arrows that fall in the second quadrant: 6\n",
      "Arrows that fall in the third quadrant: 2\n",
      "Arrows that fall in the fourth quadrant: 2\n",
      "Arrows that fall on the axis: 2\n"
     ]
    }
   ],
   "source": [
    "q1_counter = 0\n",
    "q2_counter = 0\n",
    "q3_counter = 0\n",
    "q4_counter = 0\n",
    "axis_counter = 0\n",
    "\n",
    "\n",
    "for i in range(len(points)):\n",
    "    if points[i][0] == 0 or points[i][1] == 0:\n",
    "        axis_counter += 1\n",
    "    elif points[i][0] > 0 and points[i][1] > 0:\n",
    "        q1_counter += 1\n",
    "    elif points[i][0] < 0 and points[i][1] > 0:\n",
    "        q2_counter += 1\n",
    "    elif points[i][0] < 0 and points[i][1] < 0:\n",
    "        q3_counter += 1\n",
    "    elif points[i][0] > 0 and points[i][1] < 0:\n",
    "        q4_counter += 1\n",
    "\n",
    "print(\"Arrows that fall in the first quadrant:\", q1_counter)\n",
    "print(\"Arrows that fall in the second quadrant:\", q2_counter)\n",
    "print(\"Arrows that fall in the third quadrant:\", q3_counter)\n",
    "print(\"Arrows that fall in the fourth quadrant:\", q4_counter)\n",
    "print(\"Arrows that fall on the axis:\", axis_counter)"
   ]
  },
  {
   "cell_type": "markdown",
   "metadata": {},
   "source": [
    "#### 3. Find the point closest to the center. Calculate its distance to the center. \n",
    "Take into account that there might be more than one point at the minimum distance to the center.\n",
    "\n",
    "**Hint**: Use the Euclidean distance. You can find more information about it [here](https://en.wikipedia.org/wiki/Euclidean_distance).  \n",
    "**Hint**: Defining a function that calculates the distance to the center can help."
   ]
  },
  {
   "cell_type": "code",
   "execution_count": 105,
   "metadata": {},
   "outputs": [
    {
     "name": "stdout",
     "output_type": "stream",
     "text": [
      "The closest point to the center is: (0, 2)\n",
      "The distance between the closest point and the center is: 2.0\n"
     ]
    }
   ],
   "source": [
    "def distance_to_center(pointA):\n",
    "    return((pointA[0]**2 + pointA[1]**2)**0.5)\n",
    "\n",
    "closestpoint=0\n",
    "mindistance=100\n",
    "for i in range(len(points)):\n",
    "    if distance_to_center(points[i])<mindistance:\n",
    "        closestpoint = i\n",
    "        mindistance=distance_to_center(points[i])\n",
    "print(\"The closest point to the center is:\", points[closestpoint])\n",
    "print(\"The distance between the closest point and the center is:\", mindistance)"
   ]
  },
  {
   "cell_type": "markdown",
   "metadata": {},
   "source": [
    "#### 4. If the archery target has a radius of 9, calculate the number of arrows that won't hit the target. \n",
    "**Hint**: Use the function created in step 3. "
   ]
  },
  {
   "cell_type": "code",
   "execution_count": 95,
   "metadata": {},
   "outputs": [
    {
     "name": "stdout",
     "output_type": "stream",
     "text": [
      "Number of arrows that won't hit the target: 2\n"
     ]
    }
   ],
   "source": [
    "number_arrows = 0\n",
    "\n",
    "for i in range(len(points)):\n",
    "    if distance_to_center(points[i])>9:\n",
    "        number_arrows += 1\n",
    "        \n",
    "print(\"Number of arrows that won't hit the target:\", number_arrows)"
   ]
  }
 ],
 "metadata": {
  "kernelspec": {
   "display_name": "Python 3",
   "language": "python",
   "name": "python3"
  },
  "language_info": {
   "codemirror_mode": {
    "name": "ipython",
    "version": 3
   },
   "file_extension": ".py",
   "mimetype": "text/x-python",
   "name": "python",
   "nbconvert_exporter": "python",
   "pygments_lexer": "ipython3",
   "version": "3.7.1"
  }
 },
 "nbformat": 4,
 "nbformat_minor": 2
}
