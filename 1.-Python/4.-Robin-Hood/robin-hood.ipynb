{
 "cells": [
  {
   "cell_type": "markdown",
   "metadata": {},
   "source": [
    "<img src=\"https://bit.ly/2VnXWr2\" width=\"100\" align=\"left\"/>"
   ]
  },
  {
   "cell_type": "markdown",
   "metadata": {},
   "source": [
    "# Robin Hood\n",
    "Robin Hood has entered a competition to win the archery contest in Sherwood. With his bow and arrows, he needs to shoot on a target and try to hit as close as possible to the center.\n",
    "\n",
    "![](images/arrows.jpg)\n",
    "\n",
    "## Context\n",
    "In this challenge, the landing position of arrows shot by archers in the competition will be represented using 2-dimensional coordinates. \n",
    "\n",
    "In the 2-dimensional space, a point can be defined by a pair of values that correspond to the horizontal coordinate (x) and the vertical coordinate (y). For example, in our case, an arrow that hits the center of the archery target will land in position (0, 0) on the coordinate axes. \n",
    "\n",
    "The space can be divided into 4 zones (quadrants): Q1, Q2, Q3, Q4. If a point is in Q1, both its x coordinate and y coordinate are positive. Any point with a null x or y coordinate is considered to not belong to any quadrant. \n",
    "\n",
    "If you want to know more about the cartesian coordinate system, you can check this [link](https://en.wikipedia.org/wiki/Cartesian_coordinate_system). \n",
    "\n",
    "## Tools\n",
    "You don't necessarily need to use all the tools. Maybe you opt to use some of them or completely different ones, they are given to help you shape the exercise. Programming exercises can be solved in many different ways.\n",
    "* Data structures: **lists, sets, tuples**\n",
    "* Conditional statements: **if-elif-else**\n",
    "* Loop: **while/for**\n",
    "* Minimum (optional sorting)\n",
    "\n",
    "## Tasks\n",
    "Robin Hood has hit the following points:"
   ]
  },
  {
   "cell_type": "code",
   "execution_count": 1,
   "metadata": {},
   "outputs": [],
   "source": [
    "points = [(4, 5), (-0, 2), (4, 7), (1, -3), (3, -2), (4, 5), (3, 2), (5, 7), (-5, 7), (2, 2), (-4, 5), (0, -2),\n",
    "          (-4, 7), (-1, 3), (-3, 2), (-4, -5), (-3, 2), (5, 7), (5, 7), (2, 2), (9, 9), (-8, -9)]"
   ]
  },
  {
   "cell_type": "markdown",
   "metadata": {},
   "source": [
    "#### 1. Robin Hood is famous for hitting an arrow with another arrow. Find the coordinates of the points where an arrow hits another arrow."
   ]
  },
  {
   "cell_type": "code",
   "execution_count": 2,
   "metadata": {},
   "outputs": [
    {
     "name": "stdout",
     "output_type": "stream",
     "text": [
      "Robin Hood has hitted an arrow with another arrow at point (4, 5)\n",
      "Robin Hood has hitted an arrow with another arrow at point (5, 7)\n",
      "Robin Hood has hitted an arrow with another arrow at point (-3, 2)\n",
      "Robin Hood has hitted an arrow with another arrow at point (2, 2)\n"
     ]
    }
   ],
   "source": [
    "pointSet = set(points)\n",
    "pointSetLen = len(pointSet)\n",
    "pointLen = len(points)\n",
    "if pointSetLen < pointLen:\n",
    "    pointSetHit = []\n",
    "    iSet = 0\n",
    "    for ptSet in pointSet:\n",
    "        pointSetHit.append(0)\n",
    "        for j in range(pointLen):\n",
    "            if (ptSet == points[j]):\n",
    "                pointSetHit[iSet] += 1\n",
    "        if pointSetHit[iSet] >= 2:\n",
    "            print(\"Robin Hood has hitted an arrow with another arrow at point\", ptSet)\n",
    "        iSet += 1\n",
    "# An improvement could be made by breaking the loop in j (once I know the position has been hitted twice at least)\n",
    "# To do that break doesn't work because it kills both nested loops (a function with a proper return would do it?)\n",
    "# Anyway, being pointSetHit computed as it is above, it also serves the purpose for calculating issue 2 below"
   ]
  },
  {
   "cell_type": "markdown",
   "metadata": {},
   "source": [
    "#### 2. Calculate how many arrows have fallen in each quadrant. \n",
    "**Note**: the arrows that fall in the axis (x=0 or y=0) don't belong to any quadrant."
   ]
  },
  {
   "cell_type": "code",
   "execution_count": 3,
   "metadata": {},
   "outputs": [
    {
     "name": "stdout",
     "output_type": "stream",
     "text": [
      "{'Q1': 10, 'Q2': 6, 'Q3': 2, 'Q4': 2}\n"
     ]
    }
   ],
   "source": [
    "quadrantCount = {'Q1':0,'Q2':0,'Q3':0,'Q4':0}\n",
    "iSet = 0\n",
    "for ptSet in pointSet:\n",
    "    if (ptSet[0] != 0) & (ptSet[1] != 0):\n",
    "        if (ptSet[0] > 0) & (ptSet[1] > 0):\n",
    "            quadrantCount['Q1'] += pointSetHit[iSet]\n",
    "        elif (ptSet[0] > 0) & (ptSet[1] < 0):\n",
    "            quadrantCount['Q4'] += pointSetHit[iSet]\n",
    "        elif (ptSet[1] > 0):\n",
    "            quadrantCount['Q2'] += pointSetHit[iSet]\n",
    "        else:\n",
    "            quadrantCount['Q3'] += pointSetHit[iSet]\n",
    "    iSet += 1\n",
    "print(quadrantCount)"
   ]
  },
  {
   "cell_type": "markdown",
   "metadata": {},
   "source": [
    "#### 3. Find the point closest to the center. Calculate its distance to the center. \n",
    "Take into account that there might be more than one point at the minimum distance to the center.\n",
    "\n",
    "**Hint**: Use the Euclidean distance. You can find more information about it [here](https://en.wikipedia.org/wiki/Euclidean_distance).  \n",
    "**Hint**: Defining a function that calculates the distance to the center can help."
   ]
  },
  {
   "cell_type": "code",
   "execution_count": 4,
   "metadata": {},
   "outputs": [
    {
     "name": "stdout",
     "output_type": "stream",
     "text": [
      "Best arrow hit/hits is/are found at:\n",
      "(0, -2)\n",
      "(0, 2)\n"
     ]
    }
   ],
   "source": [
    "def centerDist(x,y):\n",
    "    return (x**2 + y**2)**(0.5)\n",
    "arrowDist = []\n",
    "for ptSet in pointSet:\n",
    "    arrowDist.append(centerDist(ptSet[0],ptSet[1]))\n",
    "minDist = min(arrowDist)\n",
    "# I found the solution below online but would like to discuss it to understand the syntax completely\n",
    "indexMin = [i for i, x in enumerate(arrowDist) if x == minDist]\n",
    "print(\"Best arrow hit/hits is/are found at:\")\n",
    "pointSetList = list(pointSet)\n",
    "for i in range(len(indexMin)):\n",
    "    print(pointSetList[indexMin[i]])"
   ]
  },
  {
   "cell_type": "markdown",
   "metadata": {},
   "source": [
    "#### 4. If the archery target has a radius of 9, calculate the number of arrows that won't hit the target. \n",
    "**Hint**: Use the function created in step 3. "
   ]
  },
  {
   "cell_type": "code",
   "execution_count": 5,
   "metadata": {},
   "outputs": [
    {
     "name": "stdout",
     "output_type": "stream",
     "text": [
      "There are 2 arrows don't hitting target\n"
     ]
    }
   ],
   "source": [
    "nArrowOut = 0\n",
    "iSet = 0\n",
    "for ptSet in pointSet:\n",
    "    if centerDist(ptSet[0],ptSet[1]) > 9:\n",
    "        nArrowOut += pointSetHit[iSet]\n",
    "    iSet += 1\n",
    "print(\"There are\", nArrowOut, \"arrows don't hitting target\")"
   ]
  }
 ],
 "metadata": {
  "kernelspec": {
   "display_name": "Python 3",
   "language": "python",
   "name": "python3"
  },
  "language_info": {
   "codemirror_mode": {
    "name": "ipython",
    "version": 3
   },
   "file_extension": ".py",
   "mimetype": "text/x-python",
   "name": "python",
   "nbconvert_exporter": "python",
   "pygments_lexer": "ipython3",
   "version": "3.7.6"
  }
 },
 "nbformat": 4,
 "nbformat_minor": 2
}
