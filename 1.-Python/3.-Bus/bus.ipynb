{
 "cells": [
  {
   "cell_type": "markdown",
   "metadata": {},
   "source": [
    "<img src=\"https://bit.ly/2VnXWr2\" width=\"100\" align=\"left\">"
   ]
  },
  {
   "cell_type": "markdown",
   "metadata": {},
   "source": [
    "# Bus\n",
    "\n",
    "This bus has a passenger entry and exit control system to monitor the number of occupants it carries and thus detect when there are too many.\n",
    "\n",
    "At each stop, the entry and exit of passengers is represented by a tuple consisting of two integer numbers.\n",
    "```\n",
    "bus_stop = (in, out)\n",
    "```\n",
    "The succession of stops is represented by a list of these tuples.\n",
    "```\n",
    "stops = [(in1, out1), (in2, out2), (in3, out3), (in4, out4)]\n",
    "```\n",
    "\n",
    "## Tools\n",
    "You don't necessarily need to use all the tools. Maybe you opt to use some of them or completely different ones, they are given to help you shape the exercise. Programming exercises can be solved in many different ways.\n",
    "* Data structures: **lists, tuples**\n",
    "* Loop: **while/for loops**\n",
    "* Functions: **min, max, len**\n",
    "\n",
    "## Tasks"
   ]
  },
  {
   "cell_type": "code",
   "execution_count": null,
   "metadata": {},
   "outputs": [],
   "source": [
    "# Variables\n",
    "stops = [(10, 0), (4, 1), (3, 5), (3, 4), (5, 1), (1, 5), (5, 8), (4, 6), (2, 3)]"
   ]
  },
  {
   "cell_type": "markdown",
   "metadata": {},
   "source": [
    "#### 1. Calculate the number of stops."
   ]
  },
  {
   "cell_type": "code",
   "execution_count": null,
   "metadata": {},
   "outputs": [],
   "source": [
    "total_stops = len(stops)\n",
    "print (\"Total number of stops: \", total_stops)"
   ]
  },
  {
   "cell_type": "markdown",
   "metadata": {},
   "source": [
    "#### 2. Assign to a variable a list whose elements are the number of passengers at each stop (in-out).\n",
    "Each item depends on the previous item in the list + in - out."
   ]
  },
  {
   "cell_type": "code",
   "execution_count": null,
   "metadata": {},
   "outputs": [],
   "source": [
    "in_out = []\n",
    "for i, o in stops:\n",
    "  in_out.append(i-o)\n",
    "print (in_out)"
   ]
  },
  {
   "cell_type": "markdown",
   "metadata": {},
   "source": [
    "#### 3. Find the maximum occupation of the bus."
   ]
  },
  {
   "cell_type": "code",
   "execution_count": null,
   "metadata": {},
   "outputs": [],
   "source": [
    "maximum_occupation = 0\n",
    "for i,o in stops:\n",
    "  if (i-o) > 0:\n",
    "    maximum_occupation += i-o\n",
    "  elif (i-o) < 0:\n",
    "    maximum_occupation = maximum_occupation\n",
    "  else:\n",
    "    break\n",
    "print (maximum_occupation)\n",
    "\n",
    "\"\"\"\"\n",
    "Please note that the true maximum occupation at a given time is 16,\n",
    "from the list below, the above code was the best thing that I could reach.\n",
    "\"\"\""
   ]
  },
  {
   "cell_type": "markdown",
   "metadata": {},
   "source": [
    "#### 4. Calculate the average occupation. And the standard deviation."
   ]
  },
  {
   "cell_type": "code",
   "execution_count": null,
   "metadata": {},
   "outputs": [],
   "source": [
    "\"\"\"\n",
    "I was trying to generate the list below (List)\n",
    "using Python, but I wasn't able to, I had to calculateit manually,\n",
    "the below list shows the number of passengers on the bus at each stop.\n",
    "(in - out + in - out + in - out + .........)\n",
    "\"\"\"\n",
    "List = [10,14,13,16,11,14,10,15,14,15,10,15,7,11,5,7,4]\n",
    "print (sum(List) / len(List)) \n",
    "\n",
    "\"\"\"\n",
    "Here I calculated the average through the conventional methon\n",
    "but I wasn't able to calculate the standerd deviation, \n",
    "I had to google it and found out aout the statistics library\n",
    "which I used to douple check the average and calculate \n",
    "the standerd deviation.\n",
    "\"\"\"\n",
    "import statistics\n",
    "Average = statistics.mean(List)\n",
    "print(Average)\n",
    "Standers_deviation = statistics.stdev(List)\n",
    "print (Standers_deviation)"
   ]
  }
 ],
 "metadata": {
  "kernelspec": {
   "display_name": "Python 3",
   "language": "python",
   "name": "python3"
  },
  "language_info": {
   "codemirror_mode": {
    "name": "ipython",
    "version": 3
   },
   "file_extension": ".py",
   "mimetype": "text/x-python",
   "name": "python",
   "nbconvert_exporter": "python",
   "pygments_lexer": "ipython3",
   "version": "3.7.3"
  }
 },
 "nbformat": 4,
 "nbformat_minor": 2
}
