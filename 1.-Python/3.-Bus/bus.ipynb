{
 "cells": [
  {
   "cell_type": "markdown",
   "metadata": {},
   "source": [
    "<img src=\"https://bit.ly/2VnXWr2\" width=\"100\" align=\"left\">"
   ]
  },
  {
   "cell_type": "markdown",
   "metadata": {},
   "source": [
    "# Bus\n",
    "\n",
    "This bus has a passenger entry and exit control system to monitor the number of occupants it carries and thus detect when there are too many.\n",
    "\n",
    "At each stop, the entry and exit of passengers is represented by a tuple consisting of two integer numbers.\n",
    "```\n",
    "bus_stop = (in, out)\n",
    "```\n",
    "The succession of stops is represented by a list of these tuples.\n",
    "```\n",
    "stops = [(in1, out1), (in2, out2), (in3, out3), (in4, out4)]\n",
    "```\n",
    "\n",
    "## Tools\n",
    "You don't necessarily need to use all the tools. Maybe you opt to use some of them or completely different ones, they are given to help you shape the exercise. Programming exercises can be solved in many different ways.\n",
    "* Data structures: **lists, tuples**\n",
    "* Loop: **while/for loops**\n",
    "* Functions: **min, max, len**\n",
    "\n",
    "## Tasks"
   ]
  },
  {
   "cell_type": "code",
   "execution_count": 1,
   "metadata": {},
   "outputs": [],
   "source": [
    "# Variables\n",
    "stops = [(10, 0), (4, 1), (3, 5), (3, 4), (5, 1), (1, 5), (5, 8), (4, 6), (2, 3)]"
   ]
  },
  {
   "cell_type": "markdown",
   "metadata": {},
   "source": [
    "#### 1. Calculate the number of stops."
   ]
  },
  {
   "cell_type": "code",
   "execution_count": 2,
   "metadata": {},
   "outputs": [
    {
     "name": "stdout",
     "output_type": "stream",
     "text": [
      "\n",
      "The number of stops is 9 .\n"
     ]
    }
   ],
   "source": [
    "print(\"\")\n",
    "print(\"The number of stops is\", len(stops), \".\")"
   ]
  },
  {
   "cell_type": "markdown",
   "metadata": {},
   "source": [
    "#### 2. Assign to a variable a list whose elements are the number of passengers at each stop (in-out).\n",
    "Each item depends on the previous item in the list + in - out."
   ]
  },
  {
   "cell_type": "code",
   "execution_count": 3,
   "metadata": {},
   "outputs": [
    {
     "name": "stdout",
     "output_type": "stream",
     "text": [
      "\n",
      "The number of passengers at each stop is shown in the next list: [10, 13, 11, 10, 14, 10, 7, 5, 4]\n"
     ]
    }
   ],
   "source": [
    "stop_number = 0\n",
    "passengers = 0\n",
    "number_passengers_at_stop = []\n",
    "\n",
    "for i in stops:\n",
    "  passengers = passengers + stops[stop_number][0] - stops[stop_number][1]\n",
    "  number_passengers_at_stop.append (passengers)\n",
    "  stop_number += 1\n",
    "\n",
    "print(\"\")\n",
    "print (\"The number of passengers at each stop is shown in the next list:\", number_passengers_at_stop)"
   ]
  },
  {
   "cell_type": "markdown",
   "metadata": {},
   "source": [
    "#### 3. Find the maximum occupation of the bus."
   ]
  },
  {
   "cell_type": "code",
   "execution_count": 4,
   "metadata": {},
   "outputs": [
    {
     "name": "stdout",
     "output_type": "stream",
     "text": [
      "\n",
      "The maximum occupation of the bus is 14 .\n"
     ]
    }
   ],
   "source": [
    "print(\"\")\n",
    "print (\"The maximum occupation of the bus is\", max(number_passengers_at_stop), \".\")"
   ]
  },
  {
   "cell_type": "markdown",
   "metadata": {},
   "source": [
    "#### 4. Calculate the average occupation. And the standard deviation."
   ]
  },
  {
   "cell_type": "code",
   "execution_count": 5,
   "metadata": {},
   "outputs": [
    {
     "name": "stdout",
     "output_type": "stream",
     "text": [
      "\n",
      "The average occupation of the bus is 9.333333333333334 .\n",
      "\n",
      "The standard deviation of the occupation of the bus is 3.197221015541813 .\n"
     ]
    }
   ],
   "source": [
    "average_occupation = sum(number_passengers_at_stop)/len(number_passengers_at_stop)\n",
    "\n",
    "squared_deviation_from_mean = []\n",
    "\n",
    "for i in number_passengers_at_stop:\n",
    "  x = (i - average_occupation)**2\n",
    "  squared_deviation_from_mean.append (x)\n",
    "\n",
    "variance = sum(squared_deviation_from_mean)/len(squared_deviation_from_mean)\n",
    "\n",
    "standard_deviation = variance**0.5\n",
    "\n",
    "print(\"\")\n",
    "print(\"The average occupation of the bus is\", average_occupation, \".\")\n",
    "print(\"\")\n",
    "print(\"The standard deviation of the occupation of the bus is\", standard_deviation, \".\")"
   ]
  }
 ],
 "metadata": {
  "kernelspec": {
   "display_name": "Python 3",
   "language": "python",
   "name": "python3"
  },
  "language_info": {
   "codemirror_mode": {
    "name": "ipython",
    "version": 3
   },
   "file_extension": ".py",
   "mimetype": "text/x-python",
   "name": "python",
   "nbconvert_exporter": "python",
   "pygments_lexer": "ipython3",
   "version": "3.7.4"
  }
 },
 "nbformat": 4,
 "nbformat_minor": 2
}
