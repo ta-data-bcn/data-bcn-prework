{
 "cells": [
  {
   "cell_type": "markdown",
   "metadata": {},
   "source": [
    "<img src=\"https://bit.ly/2VnXWr2\" width=\"100\" align=\"left\">"
   ]
  },
  {
   "cell_type": "markdown",
   "metadata": {},
   "source": [
    "# Bus\n",
    "\n",
    "This bus has a passenger entry and exit control system to monitor the number of occupants it carries and thus detect when there are too many.\n",
    "\n",
    "At each stop, the entry and exit of passengers is represented by a tuple consisting of two integer numbers.\n",
    "```\n",
    "bus_stop = (in, out)\n",
    "```\n",
    "The succession of stops is represented by a list of these tuples.\n",
    "```\n",
    "stops = [(in1, out1), (in2, out2), (in3, out3), (in4, out4)]\n",
    "```\n",
    "\n",
    "## Tools\n",
    "You don't necessarily need to use all the tools. Maybe you opt to use some of them or completely different ones, they are given to help you shape the exercise. Programming exercises can be solved in many different ways.\n",
    "* Data structures: **lists, tuples**\n",
    "* Loop: **while/for loops**\n",
    "* Functions: **min, max, len**\n",
    "\n",
    "## Tasks"
   ]
  },
  {
   "cell_type": "code",
   "execution_count": null,
   "metadata": {},
   "outputs": [],
   "source": [
    "# Variables\n",
    "stops = [(10, 0), (4, 1), (3, 5), (3, 4), (5, 1), (1, 5), (5, 8), (4, 6), (2, 3)]"
   ]
  },
  {
   "cell_type": "markdown",
   "metadata": {},
   "source": [
    "\n",
    "#### 1. Calculate the number of stops."
   ]
  },
  {
   "cell_type": "code",
   "execution_count": 2,
   "metadata": {},
   "outputs": [
    {
     "name": "stdout",
     "output_type": "stream",
     "text": [
      "9\n"
     ]
    }
   ],
   "source": [
    "# Variables\n",
    "stops = [(10, 0), (4, 1), (3, 5), (3, 4), (5, 1), (1, 5), (5, 8), (4, 6), (2, 3)]\n",
    "print(len(stops))\n"
   ]
  },
  {
   "cell_type": "markdown",
   "metadata": {},
   "source": [
    "#### 2. Assign to a variable a list whose elements are the number of passengers at each stop (in-out).\n",
    "Each item depends on the previous item in the list + in - out."
   ]
  },
  {
   "cell_type": "code",
   "execution_count": 26,
   "metadata": {},
   "outputs": [
    {
     "name": "stdout",
     "output_type": "stream",
     "text": [
      "(10, 0)\n",
      "0\n",
      "10\n",
      "[10, 3, -2, -1, 4, -4, -3, -2, -1]\n",
      "10\n",
      "13\n",
      "11\n",
      "10\n",
      "14\n",
      "10\n",
      "7\n",
      "5\n",
      "4\n"
     ]
    }
   ],
   "source": [
    "# Variables\n",
    "stops = [(10, 0), (4, 1), (3, 5), (3, 4), (5, 1), (1, 5), (5, 8), (4, 6), (2, 3)]\n",
    "print(stops[0])\n",
    "print(stops[0][1])\n",
    "print(stops[0][0] - stops[0][1])\n",
    "\n",
    "passengers = []\n",
    "for i in range(len(stops)):\n",
    "   # print(stops[i][0] - stops[i][1])\n",
    "    passengers.append(stops[i][0] - stops[i][1])\n",
    "\n",
    "print(passengers)\n",
    "\n",
    "current_passengers = 0\n",
    "\n",
    "for i in range(len(passengers)):\n",
    "    current_passengers += passengers[i]\n",
    "    print(current_passengers)\n"
   ]
  },
  {
   "cell_type": "markdown",
   "metadata": {},
   "source": [
    "#### 3. Find the maximum occupation of the bus."
   ]
  },
  {
   "cell_type": "code",
   "execution_count": 32,
   "metadata": {},
   "outputs": [
    {
     "name": "stdout",
     "output_type": "stream",
     "text": [
      "(10, 0)\n",
      "0\n",
      "10\n",
      "[10, 3, -2, -1, 4, -4, -3, -2, -1]\n",
      "10\n",
      "13\n",
      "11\n",
      "10\n",
      "14\n",
      "10\n",
      "7\n",
      "5\n",
      "4\n",
      "14\n"
     ]
    }
   ],
   "source": [
    "# Variables\n",
    "stops = [(10, 0), (4, 1), (3, 5), (3, 4), (5, 1), (1, 5), (5, 8), (4, 6), (2, 3)]\n",
    "print(stops[0])\n",
    "print(stops[0][1])\n",
    "print(stops[0][0] - stops[0][1])\n",
    "\n",
    "passengers = []\n",
    "for i in range(len(stops)):\n",
    "   # print(stops[i][0] - stops[i][1])\n",
    "    passengers.append(stops[i][0] - stops[i][1])\n",
    "\n",
    "print(passengers)\n",
    "\n",
    "current_passengers = 0\n",
    "num_passengers = []\n",
    "\n",
    "for i in range(len(passengers)):\n",
    "    current_passengers += passengers[i]\n",
    "    num_passengers.append(current_passengers)\n",
    "    print(current_passengers)\n",
    "\n",
    "print(max(num_passengers))"
   ]
  },
  {
   "cell_type": "markdown",
   "metadata": {},
   "source": [
    "#### 4. Calculate the average occupation. And the standard deviation."
   ]
  },
  {
   "cell_type": "code",
   "execution_count": 74,
   "metadata": {},
   "outputs": [
    {
     "name": "stdout",
     "output_type": "stream",
     "text": [
      "[10, 3, -2, -1, 4, -4, -3, -2, -1]\n",
      "10\n",
      "13\n",
      "11\n",
      "10\n",
      "14\n",
      "10\n",
      "7\n",
      "5\n",
      "4\n",
      "max number of passengers is 14\n",
      "the average number of passengers is 0.4444444444444444\n",
      "the standard deviation for passengers is3.3783990656690603\n"
     ]
    }
   ],
   "source": [
    "# Variables\n",
    "stops = [(10, 0), (4, 1), (3, 5), (3, 4), (5, 1), (1, 5), (5, 8), (4, 6), (2, 3)]\n",
    "#print(stops[0])\n",
    "#print(stops[0][1])\n",
    "#print(stops[0][0] - stops[0][1])\n",
    "\n",
    "passengers = []\n",
    "for i in range(len(stops)):\n",
    "   # print(stops[i][0] - stops[i][1])\n",
    "    passengers.append(stops[i][0] - stops[i][1])\n",
    "\n",
    "print(passengers)\n",
    "\n",
    "current_passengers = 0\n",
    "num_passengers = []\n",
    "\n",
    "for i in range(len(passengers)):\n",
    "    current_passengers += passengers[i]\n",
    "    num_passengers.append(current_passengers)\n",
    "    print(current_passengers)\n",
    "    \n",
    "max_passengers = max(num_passengers)\n",
    "print(\"max number of passengers is \" + str(max_passengers))\n",
    "\n",
    "average_passengers = sum(passengers) / len(passengers)\n",
    "#print(average_passengers)\n",
    "\n",
    "# standard deviation ((sample - avg)**2 / sample size -1 ) sqroot\n",
    "\n",
    "\n",
    "print(\"the average number of passengers is \"+ str(average_passengers))\n",
    "standard_deviation_passengers = ((num_passengers[0] - (average_passengers))**2 / (len(stops) -1))** 0.5\n",
    "print(\"the standard deviation for passengers is \" + str(standard_deviation_passengers))\n",
    "\n",
    "\n",
    "\n"
   ]
  },
  {
   "cell_type": "code",
   "execution_count": null,
   "metadata": {},
   "outputs": [],
   "source": []
  }
 ],
 "metadata": {
  "kernelspec": {
   "display_name": "Python 3",
   "language": "python",
   "name": "python3"
  },
  "language_info": {
   "codemirror_mode": {
    "name": "ipython",
    "version": 3
   },
   "file_extension": ".py",
   "mimetype": "text/x-python",
   "name": "python",
   "nbconvert_exporter": "python",
   "pygments_lexer": "ipython3",
   "version": "3.7.5"
  }
 },
 "nbformat": 4,
 "nbformat_minor": 2
}
