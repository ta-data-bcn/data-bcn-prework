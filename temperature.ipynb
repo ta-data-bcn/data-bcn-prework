{
 "cells": [
  {
   "cell_type": "markdown",
   "metadata": {},
   "source": [
    "<img src=\"https://bit.ly/2VnXWr2\" width=\"100\" align=\"left\">"
   ]
  },
  {
   "cell_type": "markdown",
   "metadata": {},
   "source": [
    "# Temperature Sensor\n",
    "\n",
    "There is a temperature sensor in the processor of your company's server. The company wants to analyze the data provided by the sensor to decide if they should change the cooling system for a better one. As changing the cooling system is expensive and you are an excellent data analyst, you can't make a decision without basis.\n",
    "\n",
    "## Tools\n",
    "You don't necessarily need to use all the tools. Maybe you opt to use some of them or completely different ones, they are given to help you shape the exercise. Programming exercises can be solved in many different ways.\n",
    "1. Data structures: **lists**\n",
    "2. Loops: **list comprehension**\n",
    "3. Functions: **min, max, print, len**\n",
    "4. Conditional statements: **if-elif-else**\n",
    "\n",
    "## Tasks\n",
    "The temperatures measured throughout the 24 hours of a day are:"
   ]
  },
  {
   "cell_type": "code",
   "execution_count": null,
   "metadata": {},
   "outputs": [],
   "source": [
    "temperatures_C = [33, 66, 65, 0, 59, 60, 62, 64, 70, 76, 80, 81, 80, 83, 90, 79, 61, 53, 50, 49, 53, 48, 45, 39]"
   ]
  },
  {
   "cell_type": "markdown",
   "metadata": {},
   "source": [
    "The first element of the list is the temperature at 12am, the second element is the temperature at 1am, and so on. \n",
    "\n",
    "The company has decided that if one of the following events occurs, then the cooling system needs to be replaced for a new one to avoid damaging the processor.\n",
    "* More than 4 temperatures are greater than or equal to 70ºC.\n",
    "* Any temperature is above 80ºC.\n",
    "* The average temperature exceeds 65ºC.\n",
    "\n",
    "Follow the steps so that you can make the decision.\n",
    "\n",
    "#### 1. Find the minimum temperature of the day and store it in a variable."
   ]
  },
  {
   "cell_type": "code",
   "execution_count": 2,
   "metadata": {},
   "outputs": [
    {
     "name": "stdout",
     "output_type": "stream",
     "text": [
      "90\n",
      "0\n"
     ]
    }
   ],
   "source": [
    "temperatures_C = [33, 66, 65, 0, 59, 60, 62, 64, 70, 76, 80, 81, 80, 83, 90, 79, 61, 53, 50, 49, 53, 48, 45, 39]\n",
    "min_temp = min(temperatures_C)\n",
    "max_temp = max(temperatures_C)\n",
    "print(max_temp)\n",
    "print(min_temp)"
   ]
  },
  {
   "cell_type": "markdown",
   "metadata": {},
   "source": [
    "#### 2. Find the maximum temperature of the day and store it in a variable."
   ]
  },
  {
   "cell_type": "code",
   "execution_count": null,
   "metadata": {},
   "outputs": [],
   "source": [
    "temperatures_C = [33, 66, 65, 0, 59, 60, 62, 64, 70, 76, 80, 81, 80, 83, 90, 79, 61, 53, 50, 49, 53, 48, 45, 39]\n",
    "min_temp = min(temperatures_C)\n",
    "max_temp = max(temperatures_C)\n",
    "print(max_temp)\n",
    "print(min_temp)"
   ]
  },
  {
   "cell_type": "markdown",
   "metadata": {},
   "source": [
    "#### 3. Create a list with the temperatures that are greater than or equal to 70ºC. Store it in a variable."
   ]
  },
  {
   "cell_type": "code",
   "execution_count": 3,
   "metadata": {},
   "outputs": [
    {
     "name": "stdout",
     "output_type": "stream",
     "text": [
      "90\n",
      "0\n",
      "[70, 76, 80, 81, 80, 83, 90, 79]\n"
     ]
    }
   ],
   "source": [
    "temperatures_C = [33, 66, 65, 0, 59, 60, 62, 64, 70, 76, 80, 81, 80, 83, 90, 79, 61, 53, 50, 49, 53, 48, 45, 39]\n",
    "min_temp = min(temperatures_C)\n",
    "max_temp = max(temperatures_C)\n",
    "print(max_temp)\n",
    "print(min_temp)\n",
    "\n",
    "over_70 = []\n",
    "for i in temperatures_C:\n",
    "    if i >= 70:\n",
    "        over_70.append(i)\n",
    "\n",
    "print(over_70)"
   ]
  },
  {
   "cell_type": "markdown",
   "metadata": {},
   "source": [
    "#### 4. Find the average temperature of the day and store it in a variable."
   ]
  },
  {
   "cell_type": "code",
   "execution_count": 4,
   "metadata": {},
   "outputs": [
    {
     "name": "stdout",
     "output_type": "stream",
     "text": [
      "90\n",
      "0\n",
      "60.25\n"
     ]
    }
   ],
   "source": [
    "temperatures_C = [33, 66, 65, 0, 59, 60, 62, 64, 70, 76, 80, 81, 80, 83, 90, 79, 61, 53, 50, 49, 53, 48, 45, 39]\n",
    "min_temp = min(temperatures_C)\n",
    "max_temp = max(temperatures_C)\n",
    "print(max_temp)\n",
    "print(min_temp)\n",
    "\n",
    "avg_temp = sum(temperatures_C) / len(temperatures_C)\n",
    "print(avg_temp)"
   ]
  },
  {
   "cell_type": "markdown",
   "metadata": {},
   "source": [
    "#### 5. Imagine that there was a sensor failure at 3am and the data for that specific hour was not recorded. How would you estimate the missing value? Replace the current value of the list at 3am for an estimation. "
   ]
  },
  {
   "cell_type": "code",
   "execution_count": 14,
   "metadata": {},
   "outputs": [
    {
     "name": "stdout",
     "output_type": "stream",
     "text": [
      "15.516029101896821\n",
      "60.25\n"
     ]
    }
   ],
   "source": [
    "temperatures_C = [33, 66, 65, 0, 59, 60, 62, 64, 70, 76, 80, 81, 80, 83, 90, 79, 61, 53, 50, 49, 53, 48, 45, 39]\n",
    "min_temp = min(temperatures_C)\n",
    "max_temp = max(temperatures_C)\n",
    "#print(max_temp)\n",
    "#print(min_temp)\n",
    "\n",
    "avg_temp = sum(temperatures_C) / len(temperatures_C)\n",
    "#print(avg_temp)\n",
    "\n",
    "# (  (((sample(1) - avg)**2 + (sample(2) - avg)**2 ..etc ) / (sample size/ or length -1 ))**0.5 sqroot\n",
    "\n",
    "# remove sensor data point for 3am\n",
    "#print(temperatures_C[3])\n",
    "temperatures_C.pop(3)\n",
    "\n",
    "#create list to hold each sample - mean squared data\n",
    "temp = []\n",
    "\n",
    "# logic to get each sample - mean squared data and add to temp list\n",
    "for i in temperatures_C:\n",
    "     temp.append((i - avg_temp)**2)\n",
    "        \n",
    "std_dev_temp = (sum(temp) / (len(temperatures_C) - 1) )**0.5\n",
    "\n",
    "print(std_dev_temp)\n",
    "print(avg_temp)\n",
    "# between 55 - 75"
   ]
  },
  {
   "cell_type": "markdown",
   "metadata": {},
   "source": [
    "#### 6. Bonus: the maintenance staff is from the United States and does not understand the international metric system. Help them by converting the temperatures from Celsius to Fahrenheit.\n",
    "To know more about temperature conversion check this [link](https://en.wikipedia.org/wiki/Conversion_of_units_of_temperature).\n",
    "\n",
    "**Formula**: \n",
    "\n",
    "$F = 1.8 * C + 32$"
   ]
  },
  {
   "cell_type": "code",
   "execution_count": 22,
   "metadata": {},
   "outputs": [
    {
     "name": "stdout",
     "output_type": "stream",
     "text": [
      "[91, 150, 149, 32, 138, 140, 143, 147, 158, 168, 176, 177, 176, 181, 194, 174, 141, 127, 122, 120, 127, 118, 113, 102]\n"
     ]
    }
   ],
   "source": [
    "temperatures_C = [33, 66, 65, 0, 59, 60, 62, 64, 70, 76, 80, 81, 80, 83, 90, 79, 61, 53, 50, 49, 53, 48, 45, 39]\n",
    "\n",
    "temperatures_F = []\n",
    "import math\n",
    "for i in temperatures_C:\n",
    "    x = math.floor(1.8 * i +32)\n",
    "    temperatures_F.append(x)\n",
    "\n",
    "print(temperatures_F)"
   ]
  },
  {
   "cell_type": "markdown",
   "metadata": {},
   "source": [
    "#### 7. Make a decision!\n",
    "Now it's time to make a decision taking into account what you have seen until now. \n",
    "\n",
    "Remember that if one of the following events occurs, then the cooling system needs to be replaced for a new one to avoid damaging the processor.\n",
    "* More than 4 temperatures are greater than or equal to 70ºC.\n",
    "* Any temperature is above 80ºC.\n",
    "* The average temperature exceeds 65ºC.\n",
    "\n",
    "#### To make your decision, check if any of the three conditions above is met. You might need to use some of the variables you created in steps 1 to 6. Print a message to show if the cooling system needs to be changed or not."
   ]
  },
  {
   "cell_type": "code",
   "execution_count": 35,
   "metadata": {},
   "outputs": [
    {
     "name": "stdout",
     "output_type": "stream",
     "text": [
      "Cooling system needs to be replaced\n"
     ]
    }
   ],
   "source": [
    "temperatures_C = [33, 66, 65, 0, 59, 60, 62, 64, 70, 76, 80, 81, 80, 83, 90, 79, 61, 53, 50, 49, 53, 48, 45, 39]\n",
    "    #min temp\n",
    "min_temp = min(temperatures_C)\n",
    "    #max temp\n",
    "max_temp = max(temperatures_C)\n",
    "    #avg temp\n",
    "avg_temp = sum(temperatures_C) / len(temperatures_C)\n",
    "\n",
    "x = 0\n",
    "\n",
    "for i in temperatures_C:\n",
    "    if i >= 70:\n",
    "        x += 1\n",
    "        if x > 4:\n",
    "            print('Cooling system needs to be replaced')\n",
    "            break\n",
    "        else:\n",
    "            continue\n",
    "    elif avg_temp > 65:\n",
    "        print('Cooling system needs to be replaced')\n",
    "    elif i > 80:\n",
    "        print('Cooling system needs to be replaced')"
   ]
  },
  {
   "cell_type": "markdown",
   "metadata": {},
   "source": [
    "## Bonus\n",
    "\n",
    "The company has decided that the decision you made is not valid. They want you to analyze the data again but this time, the conditions that need to be met in order to change the cooling system are different.\n",
    "\n",
    "This time, if one of the following events occurs, then the cooling system needs to be replaced:\n",
    "* The temperature is greater than 70ºC during more than 4 consecutive hours.\n",
    "* Any temperature is above 80ºC.\n",
    "* The average temperature exceeds 65ºC.\n",
    "\n",
    "Follow the steps so that you can make the decision.\n",
    "\n",
    "#### 1. Create a list with the hours where the temperature is greater than 70ºC. Store it in a variable."
   ]
  },
  {
   "cell_type": "code",
   "execution_count": 43,
   "metadata": {},
   "outputs": [
    {
     "name": "stdout",
     "output_type": "stream",
     "text": [
      "[9, 10, 11, 10, 13, 14, 15]\n"
     ]
    }
   ],
   "source": [
    "temperatures_C = [33, 66, 65, 0, 59, 60, 62, 64, 70, 76, 80, 81, 80, 83, 90, 79, 61, 53, 50, 49, 53, 48, 45, 39]\n",
    "\n",
    "hour_over_70 = []\n",
    "for i in temperatures_C:\n",
    "    if i > 70:\n",
    "        #take the index and store it in new variable\n",
    "        hour_over_70.append(temperatures_C.index(i))\n",
    "print(hour_over_70)"
   ]
  },
  {
   "cell_type": "markdown",
   "metadata": {},
   "source": [
    "#### 2. Check if the list you created in step 1 has more than 4 consecutive hours. "
   ]
  },
  {
   "cell_type": "code",
   "execution_count": 50,
   "metadata": {},
   "outputs": [],
   "source": [
    "temperatures_C = [33, 66, 65, 0, 59, 60, 62, 64, 70, 76, 80, 81, 80, 83, 90, 79, 61, 53, 50, 49, 53, 48, 45, 39]\n",
    "\n",
    "hour_over_70 = []\n",
    "for i in temperatures_C:\n",
    "    if i > 70:\n",
    "        #take the index and store it in new variable\n",
    "        hour_over_70.append(temperatures_C.index(i))\n",
    "#print(hour_over_70)\n",
    "\n",
    "#get first element of list\n",
    "#checked if element is greater than the last element by 1\n",
    "#if greater than last element by 1 then add 1 to variable x\n",
    "#check if x is > than 4\n",
    "#if greater than 4, print more than 4 concsective hours and break\n",
    "#if not greater than last element by 1, reset variable x to 0 and continue to next element\n",
    "\n",
    "consecutive = 0\n",
    "\n",
    "for i in hour_over_70:\n",
    "    if i == i - 1:\n",
    "        consecutive += 1\n",
    "        if consecutive > 4:\n",
    "            print(\"More than 4 consecutive hours\")\n",
    "            break\n",
    "        else:\n",
    "            continue   \n",
    "    \n",
    "    "
   ]
  },
  {
   "cell_type": "markdown",
   "metadata": {},
   "source": [
    "#### 3. Make the decision!\n",
    "To make your decision, check if any of the three conditions is met. Print a message to show if the cooling system needs to be changed or not."
   ]
  },
  {
   "cell_type": "code",
   "execution_count": 55,
   "metadata": {},
   "outputs": [
    {
     "name": "stdout",
     "output_type": "stream",
     "text": [
      "Cooling system needs to be replaced\n"
     ]
    }
   ],
   "source": [
    "#The temperature is greater than 70ºC during more than 4 consecutive hours.\n",
    "#Any temperature is above 80ºC.\n",
    "#The average temperature exceeds 65ºC.\n",
    "\n",
    "temperatures_C = [33, 66, 65, 0, 59, 60, 62, 64, 70, 76, 80, 81, 80, 83, 90, 79, 61, 53, 50, 49, 53, 48, 45, 39]\n",
    "    #min temp\n",
    "min_temp = min(temperatures_C)\n",
    "    #max temp\n",
    "max_temp = max(temperatures_C)\n",
    "    #avg temp\n",
    "avg_temp = sum(temperatures_C) / len(temperatures_C)\n",
    "\n",
    "hour_over_70 = []\n",
    "\n",
    "for i in temperatures_C:\n",
    "    if i > 70:\n",
    "        #take the index and store it in new variable\n",
    "        hour_over_70.append(temperatures_C.index(i))\n",
    "\n",
    "x = 0\n",
    "\n",
    "consecutive = 0\n",
    "\n",
    "for i in temperatures_C:\n",
    "    if avg_temp > 65:\n",
    "        print('Cooling system needs to be replaced')\n",
    "        break\n",
    "    elif i > 80:\n",
    "        print('Cooling system needs to be replaced')\n",
    "        break\n",
    "    else:\n",
    "        for j in hour_over_70:\n",
    "            if j == j - 1:\n",
    "                consecutive += 1\n",
    "                if consecutive > 4:\n",
    "                    print(\"More than 4 consecutive hours, cooling syste, needs to be replaced\")\n",
    "                    break\n"
   ]
  },
  {
   "cell_type": "markdown",
   "metadata": {},
   "source": [
    "#### 4. Find the average value of the temperature lists (ºC and ºF). What is the relation between both average values?"
   ]
  },
  {
   "cell_type": "code",
   "execution_count": 61,
   "metadata": {},
   "outputs": [
    {
     "name": "stdout",
     "output_type": "stream",
     "text": [
      "19.700474503223873\n",
      "35.41636402257733\n",
      "60.25\n",
      "140.16666666666666\n"
     ]
    }
   ],
   "source": [
    "temperatures_C = [33, 66, 65, 0, 59, 60, 62, 64, 70, 76, 80, 81, 80, 83, 90, 79, 61, 53, 50, 49, 53, 48, 45, 39]\n",
    "avg_temp_C = sum(temperatures_C) / len(temperatures_C)\n",
    "\n",
    "temperatures_F = []\n",
    "import math\n",
    "for i in temperatures_C:\n",
    "    x = math.floor(1.8 * i +32)\n",
    "    temperatures_F.append(x)\n",
    "\n",
    "avg_temp_F = sum(temperatures_F) / len(temperatures_F)\n",
    "\n",
    "#print(avg_temp_F)\n",
    "#print(avg_temp_C)\n",
    "\n",
    "# avg_temp_C * 1.8 + 32 = avg_temp_F\n",
    "\n",
    "temp_C = []\n",
    "temp_F = []\n",
    "\n",
    "# logic to get each sample - mean squared data and add to temp list\n",
    "\n",
    "for i in temperatures_C:\n",
    "     temp_C.append((i - avg_temp_C)**2)\n",
    "        \n",
    "for i in temperatures_F:\n",
    "     temp_F.append((i - avg_temp_F)**2)\n",
    "        \n",
    "# std dev for temp C and temp F       \n",
    "std_dev_temp_C = (sum(temp_C) / (len(temperatures_C) - 1) )**0.5\n",
    "\n",
    "std_dev_temp_F = (sum(temp_F) / (len(temperatures_F) - 1) )**0.5\n",
    "\n",
    "print(std_dev_temp_C)\n",
    "print(std_dev_temp_F)\n",
    "print(avg_temp_C)\n",
    "print(avg_temp_F)\n",
    "\n",
    "# std dev temp f is equal to std dev temp c * 1.8"
   ]
  },
  {
   "cell_type": "markdown",
   "metadata": {},
   "source": [
    "#### 5. Find the standard deviation of the temperature lists (ºC and ºF). What is the relation between both standard deviations?"
   ]
  },
  {
   "cell_type": "code",
   "execution_count": null,
   "metadata": {},
   "outputs": [],
   "source": [
    "# logic to get each sample - mean squared data and add to temp list\n",
    "\n",
    "for i in temperatures_C:\n",
    "     temp_C.append((i - avg_temp_C)**2)\n",
    "        \n",
    "for i in temperatures_F:\n",
    "     temp_F.append((i - avg_temp_F)**2)\n",
    "        \n",
    "# std dev for temp C and temp F       \n",
    "std_dev_temp_C = (sum(temp_C) / (len(temperatures_C) - 1) )**0.5\n",
    "\n",
    "std_dev_temp_F = (sum(temp_F) / (len(temperatures_F) - 1) )**0.5\n",
    "\n",
    "print(std_dev_temp_C)\n",
    "print(std_dev_temp_F)\n",
    "\n",
    "# std dev temp f is equal to std dev temp c * 1.8"
   ]
  }
 ],
 "metadata": {
  "kernelspec": {
   "display_name": "Python 3",
   "language": "python",
   "name": "python3"
  },
  "language_info": {
   "codemirror_mode": {
    "name": "ipython",
    "version": 3
   },
   "file_extension": ".py",
   "mimetype": "text/x-python",
   "name": "python",
   "nbconvert_exporter": "python",
   "pygments_lexer": "ipython3",
   "version": "3.7.5"
  }
 },
 "nbformat": 4,
 "nbformat_minor": 2
}
